{
 "cells": [
  {
   "cell_type": "markdown",
   "id": "33cf1fff",
   "metadata": {},
   "source": [
    "# Functionalno programiranje u pajtonu"
   ]
  },
  {
   "cell_type": "markdown",
   "id": "031ae7c2",
   "metadata": {},
   "source": [
    "## Glavna svojstva funkcionalnih jezika koja su zastupljena i u pajtonu:\n",
    "- anonimne, tj. lambda funkcije\n",
    "- rekurzija, ali nije neophodna, tj. potpuno prirodno postoje petlje kao i u svim imperativnim jezicima\n",
    "- funkcije su gradjani prvog reda\n",
    "    - povratna vrijednost funkcije moze biti funkcija - zatvorenja - closure\n",
    "- omoguceno curry-ing, tj. parcijalna primjena funkcija\n",
    "- postoje funkcije viseg reda kao map, filter, reduce \n",
    "- skracenice listi - list comprehentions\n",
    "- lenjo izracunavanje je realizovano raznim iteratorima i generatorima"
   ]
  },
  {
   "cell_type": "markdown",
   "id": "c52247bd",
   "metadata": {},
   "source": [
    "## Glavna svojstva funkcionalnih jezika koja nisu zastupljena i u pajtonu:\n",
    "- genericki tipovi, tj tipski razredi i tipske promjenljive - dinamicki tipiziran jezik\n",
    "- pattern matching\n",
    "- bocni efekti postoje i nisu *kontrolisani popratni efekti* kao u funkcionalnim jezicima, sem u zatvorenju"
   ]
  },
  {
   "cell_type": "markdown",
   "id": "ee923251",
   "metadata": {},
   "source": [
    "#### Uvod\n",
    "\n",
    "Iako je pajton uglavnom imperativni jezik, kao skript jezik, on podrzava i mnoga svojstva funkcionalne paradigme. Zbog toga ga je najbolje opisati kao multiparadigmatski jezik.\n",
    "\n",
    "Ucenje i primjena funkcionalnog stila programiranja u jezicima kao sto je pajton ima naredne prednosti: kod programa je cesto koncizniji, kod se brze izvrsava nego standardne tehnike - skracenice listi (list comprehensions) i kesiranje omogucavaju ubrzanja; tehnike kao parcijalna primjena funkcija (currying), method dispatching (?) i dekoratori omogucavaju ponovnu iskoriscenost koda; kao i bolje razumijevanje koncepata kao sto su lenja evaluacija, zatvorenja (closures), korutine, monade i drugi pajton moduli kao sto du itertools i functools."
   ]
  },
  {
   "cell_type": "markdown",
   "id": "2e0e8a70",
   "metadata": {},
   "source": [
    "**Sta obuhvata funkcionalno programiranje? Prednosti i mane**\n",
    "\n",
    "Glavna ideja je funkcija u matematickom smislu - kao tabela ili preslikavanje koje za iste ulaze uvijek daje isti izlaz. To se naziva **cista funkcija** (pure functions).Ova ideja se dosta razlikuje od standardne ideje funkcije u imperativnom programiranju, u kojem funkcije cesto podrazumijevaju interakciju sa spoljasnjim svijetom, npr upiti na APIje, upis ili citanje iz baze, tako da se za iste ulaze u raznim vremenima dobijaju razlicite vrijednosti. Zbog toga se cesto cuje da se u funkcionalnim jezicima izbjegava cuvanje i promjena stanja i da se koriste *nepromjenljive strukture podataka*.\n",
    "\n",
    "Funkcionalna je podparadigma **deklarativne paradigme**. To znaci da je naglasak na tome *sta da se uradi*, a ne i *kako da se uradi* kao kod **imperativne paradigme**.\n",
    "\n",
    "Takodje, jedna od glavnih osobina programa pisanih funkiconalnim stilom je ucestalost kompozicija funkcija, tj. program se razbija na manje nezavisne dijelove - ciste funkcije - cijom se kompozicijom ostvaruje zeljeni rezultat. Interakcija sa spoljasnjim svijetom ne moze da se izbjegne a da program ostane koristan, ali se zato izdvaja dio koda koji **nije cist** od cistih funkcija. U funkcionalnim programima funkcije su ili ciste funkcije ili sa **kontrolisanim bocnim efektima**.\n",
    "\n",
    "U funkcionalnim jezicima ne postoji iteracija i petlje, vec se ponavljanje dobija primjenom rekurzije, pa se tome tezi u primjeni funkcionalnog stila u imperativnim jezicima. Takodje, funkcije su **gradjani prvog reda**.\n",
    "\n",
    "Neke prednosti funkcionalnog programiranja su: lakse testiranje i debagovanje cistih funkcija - svaka je pogodna za nezavisne unit testove, paralelizacija je laksa zbog nepromjenljivosti podataka; teznja razdvajanju cistih od funkcija koje to nisu rezultuje u modularnijoj strukturi koda, pa prema tome i iskoristivosti koda za kasnije. Ovo uglavnom pospjesuje citljivost i razumljivost koda.\n",
    "\n",
    "Kao mane funckionalnog programiranja se cesto uzimaju potreba razdvajanja cistih funkcija od bocnih efekata, sto je ponekad dosta tesko, posebno pocetnicima, a kako neka svojstva funkcionalnih jezika poticu iz znacajne matematicke teorije i bliza su svojoj teorijskoj apstrajciji od imperativnih jezika, to dosta pocetnika smatra ovaj stil programiranja zahtjevnim. Takodje neka od mana se navodi nepromjenljivost struktura podataka sto ponekad vodi u nepotreban trosak memorije (mada ideja **sakupljaca otpadataka** potice iz funkcionalnih jezika). \n",
    "\n"
   ]
  },
  {
   "cell_type": "markdown",
   "id": "473d8c04",
   "metadata": {},
   "source": [
    "### Rekurija u pajtonu\n",
    "\n",
    "Rekurzija podrazumijeva poziv funkije u njenoj definiciji i jedna je od glavnih komponenti funkcionalnog stila. Neophodan je bazni slucaj, kao i rekurzivni poziv sa smanjenom ulaznom vrijednoscu da bi doslo do zaustavljanja. Ako se ne ispostuje bazno ogranicenje, moze doci do prekoracenja steka (stack overflow).\n",
    "\n",
    "Ispod su dati jednostavni primjeri funkcije faktorijela sa i bez rekurzije.\n"
   ]
  },
  {
   "cell_type": "code",
   "execution_count": 1,
   "id": "96fc3962",
   "metadata": {},
   "outputs": [],
   "source": [
    "def factorial(n):\n",
    "    result = 1\n",
    "\n",
    "    for x in range(2, n+1):\n",
    "        result = result * x\n",
    "        \n",
    "    return result\n"
   ]
  },
  {
   "cell_type": "code",
   "execution_count": 2,
   "id": "da1d575d",
   "metadata": {},
   "outputs": [
    {
     "name": "stdout",
     "output_type": "stream",
     "text": [
      "24\n"
     ]
    }
   ],
   "source": [
    "print(factorial(4))"
   ]
  },
  {
   "cell_type": "code",
   "execution_count": 3,
   "id": "2046c038",
   "metadata": {},
   "outputs": [
    {
     "name": "stdout",
     "output_type": "stream",
     "text": [
      "24\n"
     ]
    }
   ],
   "source": [
    "def factorial(n):\n",
    "    \n",
    "    if n <= 1:\n",
    "        return n\n",
    "    \n",
    "    return n * factorial(n-1)\n",
    "\n",
    "print(factorial(4))"
   ]
  },
  {
   "cell_type": "markdown",
   "id": "0fc67e9b",
   "metadata": {},
   "source": [
    "Prednosti rekurzije podrazumijevaju elegantnost koda, podjelu problema na podprobleme, dok kombinovanje rekurzije i memorizacije vodi do smanjenja vremena izvrsavanja, dok se nedostacima smatra ponovljeno rjesavanje podproblema ako program nije dobro dizajniran, kao i tezina razumijevanja ako je ideja previse revolucionarna."
   ]
  },
  {
   "cell_type": "markdown",
   "id": "05fe47f4",
   "metadata": {},
   "source": [
    "## Promjenljivost i nepromjenljivost podataka u pajtonu\n",
    "\n",
    "Kako je pajton Objektno-orjentisan jezik, svi podaci se cuvaju kao objekti na hipu. Svakom objektu se pri kreiranju dodjeljuje jedinstven id. Nepromjenljivi tipovi podataka funkcionisu tako sto se pri kreiranju nove varijable sa istom vrijednoscu, koristi isti objekat na hipu sa istim **id-jem**. Kad dodje do promjene jedne od tih varijabli, kreira se nov objekat na hipu i njemu se dodjeljuje nova vrijednost, a sam objekad dobija novi **id**.\n"
   ]
  },
  {
   "cell_type": "code",
   "execution_count": 4,
   "id": "0ea59730",
   "metadata": {},
   "outputs": [
    {
     "name": "stdout",
     "output_type": "stream",
     "text": [
      "Unique Id of x is 2291819810864\n",
      "Unique Id of y is 2291819810864\n",
      "\n",
      "\n",
      " After Update\n",
      "\n",
      "Unique Id of x is 2291819810864\n",
      "Unique Id of y is 2291819810896\n"
     ]
    }
   ],
   "source": [
    "x = 123\n",
    "\n",
    "print(\"Unique Id of x is\", id(x))\n",
    "\n",
    "y = 123\n",
    "\n",
    "print(\"Unique Id of y is\", id(y))\n",
    "\n",
    "print(\"\\n\\n After Update\\n\")\n",
    "\n",
    "y = y + 1\n",
    "\n",
    "print(\"Unique Id of x is\", id(x))\n",
    "print(\"Unique Id of y is\", id(y))"
   ]
  },
  {
   "cell_type": "markdown",
   "id": "262fc008",
   "metadata": {},
   "source": [
    "![Alt text](./images1/sl008.png)\n",
    "\n",
    "Dok za promjenljive tipove podataka, promjena vrijednosti varijable ne utice na promjenu id-ja objekta jer se koristi isti objekat sa istim memorijskim prostorom na hipu.\n",
    "\n",
    "![Alt text](./images1/sl009.png)"
   ]
  },
  {
   "cell_type": "code",
   "execution_count": 5,
   "id": "def6bcfb",
   "metadata": {},
   "outputs": [
    {
     "name": "stdout",
     "output_type": "stream",
     "text": [
      "[1, 2, 3]\n",
      "Unique ID of my_list is 2291900102208\n",
      "\n",
      "After Update\n",
      "\n",
      "[1, 2, 3, 4, 5]\n",
      "Unique ID of my_list is 2291900102208\n"
     ]
    }
   ],
   "source": [
    "my_list = [1, 2, 3]\n",
    "\n",
    "print(my_list)\n",
    "print(\"Unique ID of my_list is\", id(my_list))\n",
    "\n",
    "my_list.append(4)\n",
    "my_list.append(5)\n",
    "\n",
    "print(\"\\nAfter Update\\n\")\n",
    "print(my_list)\n",
    "print(\"Unique ID of my_list is\", id(my_list))"
   ]
  },
  {
   "cell_type": "markdown",
   "id": "725a4497",
   "metadata": {},
   "source": [
    "Neki od nepromjenljivih tipova podataka u pajtonu su: Integer, Float, Complex, Bool, Frozenset, Byte, String, Tuple, Range; dok su promjenljivi: List, Dictionary, Set, Byte array i korisnicki definicane klase."
   ]
  },
  {
   "cell_type": "markdown",
   "id": "1fc81b8e",
   "metadata": {},
   "source": [
    "## Funkcije kao gradjani pvog reda (first-class objects)\n",
    "\n",
    "Objekat jezika je *gradjanin prvog reda* ako podrzava sve jezicke konstrukte koje bilo koji objekti jezika podrzavaju, na primjer da moze biti dodijeljen varijabli ili proslijedjen funkciji kao argument.\n",
    "\n",
    "Svojstva *gradjana prvog reda* u pajtonu: mogu se dodijeliti varijablama, mogu se proslijediti funkcijama kao argumenti, tip im je objekat, mogu biti povratna vrijednost funkcije i mogu biti sacuvani u kolekcijama podata kao sto su liste.\n",
    "\n",
    "U pajtonu su funkcije gradjani prvog reda. Primjer:\n"
   ]
  },
  {
   "cell_type": "code",
   "execution_count": 6,
   "id": "a3c49226",
   "metadata": {},
   "outputs": [
    {
     "name": "stdout",
     "output_type": "stream",
     "text": [
      "25\n"
     ]
    }
   ],
   "source": [
    "def square(x):\n",
    "    return x * x\n",
    "\n",
    "def my_func(var_x, var_func):\n",
    "    var_result = var_func(var_x)\n",
    "    return var_result\n",
    "\n",
    "new_var = my_func(5, square)\n",
    "print(new_var)"
   ]
  },
  {
   "cell_type": "markdown",
   "id": "3e9965da",
   "metadata": {},
   "source": [
    "Primjer dodjele funkcije varijabli:"
   ]
  },
  {
   "cell_type": "code",
   "execution_count": 7,
   "id": "48b9b3d9",
   "metadata": {},
   "outputs": [
    {
     "name": "stdout",
     "output_type": "stream",
     "text": [
      "Using original function name\n",
      "36\n",
      "Using variable\n",
      "36\n"
     ]
    }
   ],
   "source": [
    "def square( x ):\n",
    "    return x * x\n",
    "\n",
    "print(\"Using original function name\")\n",
    "print(square( 6 ))\n",
    "\n",
    "\n",
    "func_var = square\n",
    "print(\"Using variable\")\n",
    "print(func_var( 6 ))"
   ]
  },
  {
   "cell_type": "code",
   "execution_count": 8,
   "id": "bd50d250",
   "metadata": {},
   "outputs": [
    {
     "name": "stdout",
     "output_type": "stream",
     "text": [
      "21\n"
     ]
    }
   ],
   "source": [
    "def do_some_op(x):\n",
    "    def func_square_add(y, z):\n",
    "        return y * y + z\n",
    "    return func_square_add(x, x+1)\n",
    "\n",
    "\n",
    "my_new_var = do_some_op(4)\n",
    "print(my_new_var)"
   ]
  },
  {
   "cell_type": "markdown",
   "id": "8178d7dd",
   "metadata": {},
   "source": [
    "## ??Da li je ovo gore valjda nije odgovarajuci primjer, al je zato sljedeci dobar:\n",
    "\n",
    "Primjer gdje je funkcija povratna vrijednost funkcije:"
   ]
  },
  {
   "cell_type": "code",
   "execution_count": 9,
   "id": "a914fb6a",
   "metadata": {},
   "outputs": [
    {
     "name": "stdout",
     "output_type": "stream",
     "text": [
      "Only the returned function is initialized\n",
      "\n",
      "Inside the outer function\n",
      "\n",
      "\n",
      "After making a call to inner function\n",
      "Inside the inner function\n",
      "\n",
      "hello world\n"
     ]
    }
   ],
   "source": [
    "def do_some_op(x):\n",
    "    print(\"Inside the outer function\\n\")\n",
    "    \n",
    "    def inside_func(y):\n",
    "        print(\"Inside the inner function\\n\")\n",
    "        return y.lower() + \" \" + x\n",
    "    \n",
    "    return inside_func\n",
    "\n",
    "print(\"Only the returned function is initialized\\n\")\n",
    "my_new_var = do_some_op(\"world\")\n",
    "\n",
    "print(\"\\nAfter making a call to inner function\")\n",
    "print(my_new_var(\"hello\"))"
   ]
  },
  {
   "cell_type": "markdown",
   "id": "6235c7d5",
   "metadata": {},
   "source": [
    "Primjer cuvanja funkcija u razlicitim strukturama podataka:"
   ]
  },
  {
   "cell_type": "code",
   "execution_count": 10,
   "id": "5c9cd2e6",
   "metadata": {},
   "outputs": [
    {
     "name": "stdout",
     "output_type": "stream",
     "text": [
      "36\n",
      "216\n",
      "1296\n"
     ]
    }
   ],
   "source": [
    "def sqr(x):\n",
    "    return x * x\n",
    "\n",
    "def cube(x):\n",
    "    return x * x * x\n",
    "\n",
    "def four_pow(x):\n",
    "    return x * x * x * x\n",
    "\n",
    "funcs_list = [ sqr, cube, four_pow ]\n",
    "\n",
    "for fnc in funcs_list:\n",
    "    print(fnc(6))"
   ]
  },
  {
   "cell_type": "markdown",
   "id": "525dd207",
   "metadata": {},
   "source": [
    "## Lambda izrazi u pajtonu\n",
    "\n",
    "Lambda izrazi su alternativan nacin da se zapisu funkcije umjesto koriscenja tradicionalne sintakse `def <ime funckije>`.\n",
    "Najcesce se koriste za kreiranje anonimnih funkcija za jednokratnu upotrebu. Mogu se kombinovati sa funkcijama viseg reda kao sto su **map**, **filter** i **reduce**. \n",
    "\n",
    "Lamda izraz u pajtonu se oznacava kljucnom rijecju **lambda** pracenom listom parametara koje dvotacka odvaja od tijela funkcije i nema ekspicitne **return** komande.\n",
    "\n",
    "```python\n",
    "lambda x,y,z: x \n",
    "```"
   ]
  },
  {
   "cell_type": "code",
   "execution_count": 12,
   "id": "7dc2a768",
   "metadata": {},
   "outputs": [
    {
     "name": "stdout",
     "output_type": "stream",
     "text": [
      "Square of 5 is  25\n",
      "Product of 5 and 7 is 35\n"
     ]
    }
   ],
   "source": [
    "my_sqr = lambda x: x * x\n",
    "my_prod = lambda x,y : x * y\n",
    "\n",
    "print(\"Square of 5 is \",my_sqr(5))\n",
    "\n",
    "print(\"Product of 5 and 7 is\", my_prod(5, 7))"
   ]
  },
  {
   "cell_type": "markdown",
   "id": "779f1b07",
   "metadata": {},
   "source": [
    "Koriscenje lambda funkcija kao anonimnih funkcija - najcesce za jednokratnu upotrebu:"
   ]
  },
  {
   "cell_type": "code",
   "execution_count": 13,
   "id": "874e9a2b",
   "metadata": {},
   "outputs": [
    {
     "name": "stdout",
     "output_type": "stream",
     "text": [
      "[1, 3, -2, 4]\n"
     ]
    }
   ],
   "source": [
    "list_str = [ 'aa', 'bbbb', 'c', 'dddddd']\n",
    "dict_str = { 1: 'a', -2: 'bbbb', 3: 'c', 4:'dddddd'}\n",
    "\n",
    "print(sorted(dict_str, key = lambda x: len(dict_str[x])))"
   ]
  },
  {
   "cell_type": "markdown",
   "id": "258114f9",
   "metadata": {},
   "source": [
    "### Call by Object \n",
    "\n",
    "U pajtonu za promjenljive objekte se koristi koncept - Call by reference - poziv po referenci. To znaci da se ti objekti mogu mijenjati iz funkcije ako se proslijede funkciji kao argument.\n",
    "\n",
    "Za nepromjenljive objekte se koristi - Call by value - sto znaci da se proslijedjeni objekat ne moze izmijeniti iz funkcije, vec moze samo njegova kopija u lokalnom opsegu funkcije.\n",
    "\n",
    "To vidimo u sljedeca dva primjera sa promjenom id-ja kod nepromjenljivog objekta samo unutar funkcije."
   ]
  },
  {
   "cell_type": "code",
   "execution_count": 14,
   "id": "3ad54fae",
   "metadata": {},
   "outputs": [],
   "source": [
    "def show_call_by_object(my_var):\n",
    "    print(\"Id of my_var is \", id(my_var))\n",
    "    my_var += 2\n",
    "    print(\"Id of my_var is \", id(my_var))\n"
   ]
  },
  {
   "cell_type": "code",
   "execution_count": 15,
   "id": "605e87d8",
   "metadata": {},
   "outputs": [
    {
     "name": "stdout",
     "output_type": "stream",
     "text": [
      "ID before call is  2291819807216\n",
      "Id of my_var is  2291819807216\n",
      "Id of my_var is  2291819807280\n",
      "ID after call is  2291819807216\n"
     ]
    }
   ],
   "source": [
    "x = 9\n",
    "print(\"ID before call is \", id(x))\n",
    "show_call_by_object(x)\n",
    "print(\"ID after call is \", id(x))"
   ]
  },
  {
   "cell_type": "code",
   "execution_count": 19,
   "id": "e7d79f89",
   "metadata": {},
   "outputs": [
    {
     "name": "stdout",
     "output_type": "stream",
     "text": [
      "9\n"
     ]
    }
   ],
   "source": [
    "print(x)"
   ]
  },
  {
   "cell_type": "code",
   "execution_count": 16,
   "id": "29ac31d9",
   "metadata": {},
   "outputs": [],
   "source": [
    "def show_call_by_object_mutable(my_var):\n",
    "    print(\"Id of my_var is \", id(my_var))\n",
    "    my_var.append(4)\n",
    "    print(\"Id of my_var is \", id(my_var))"
   ]
  },
  {
   "cell_type": "code",
   "execution_count": 17,
   "id": "d7a0aa81",
   "metadata": {},
   "outputs": [
    {
     "name": "stdout",
     "output_type": "stream",
     "text": [
      "ID before callis  2291900103168\n",
      "Id of my_var is  2291900103168\n",
      "Id of my_var is  2291900103168\n",
      "ID after call is  2291900103168\n"
     ]
    }
   ],
   "source": [
    "my_list = [1, 2, 3]\n",
    "print(\"ID before callis \", id(my_list))\n",
    "show_call_by_object_mutable(my_list)\n",
    "print(\"ID after call is \", id(my_list))"
   ]
  },
  {
   "cell_type": "code",
   "execution_count": 20,
   "id": "59eff6fc",
   "metadata": {},
   "outputs": [
    {
     "data": {
      "text/plain": [
       "[1, 2, 3, 4]"
      ]
     },
     "execution_count": 20,
     "metadata": {},
     "output_type": "execute_result"
    }
   ],
   "source": [
    "my_list"
   ]
  },
  {
   "cell_type": "markdown",
   "id": "28cac734",
   "metadata": {},
   "source": [
    "## Iterator protokol\n",
    "\n",
    "Iterator je objakat koji nam omogucava prolazak kroz njegove elemente. Trebalo bi da implementira `__iter__` i `__next__` metode, koje se zajedno zovu **iterator protokol**.\n",
    "\n",
    "`__iter__` metod vraca iterator objekat, dok `__next__` metod vraca sljedeci element u nizu.\n",
    "\n",
    "Nekoliko vec postojecih pajtonovih struktura kao sto su list, tuple, string implementiraju iterator protokol, pa su prema tome iteratori.\n",
    "\n",
    "Iteratori su brzi od tradicionalnog koda. Takodje, iteratori omogucavaju **lenjo izracunavanje** pa ovako stede memoriju, jer ne izracunavaju sve vrijednosti odjednom, nego tek kad se pozovu iter() i next() metode.\n",
    "\n",
    "Ovo doprinosi i preglednosti koda.\n"
   ]
  },
  {
   "cell_type": "code",
   "execution_count": 21,
   "id": "e87bf9a4",
   "metadata": {},
   "outputs": [],
   "source": [
    "class oddIter:\n",
    "    def __init__(self, max_val):\n",
    "        self.max_val = max_val\n",
    "    \n",
    "    def __iter__(self):\n",
    "        self.n = 1\n",
    "        return self\n",
    "    \n",
    "    def __next__(self):\n",
    "        if self.n < self.max_val:\n",
    "            result = self.n\n",
    "            self.n += 2\n",
    "            return result\n",
    "        else:\n",
    "            raise StopIteration\n",
    "            \n",
    "    def next(self):\n",
    "        return self.__next__()"
   ]
  },
  {
   "cell_type": "code",
   "execution_count": 22,
   "id": "4d62ebaf",
   "metadata": {},
   "outputs": [],
   "source": [
    "my_iter = oddIter(5)\n",
    "iter_obj = iter(my_iter)"
   ]
  },
  {
   "cell_type": "code",
   "execution_count": 23,
   "id": "e62a4f4e",
   "metadata": {},
   "outputs": [
    {
     "data": {
      "text/plain": [
       "1"
      ]
     },
     "execution_count": 23,
     "metadata": {},
     "output_type": "execute_result"
    }
   ],
   "source": [
    "next(iter_obj)"
   ]
  },
  {
   "cell_type": "code",
   "execution_count": 24,
   "id": "de16c608",
   "metadata": {},
   "outputs": [
    {
     "data": {
      "text/plain": [
       "3"
      ]
     },
     "execution_count": 24,
     "metadata": {},
     "output_type": "execute_result"
    }
   ],
   "source": [
    "next(iter_obj)"
   ]
  },
  {
   "cell_type": "code",
   "execution_count": 25,
   "id": "c48ceff3",
   "metadata": {},
   "outputs": [
    {
     "ename": "StopIteration",
     "evalue": "",
     "output_type": "error",
     "traceback": [
      "\u001b[1;31m---------------------------------------------------------------------------\u001b[0m",
      "\u001b[1;31mStopIteration\u001b[0m                             Traceback (most recent call last)",
      "Input \u001b[1;32mIn [25]\u001b[0m, in \u001b[0;36m<cell line: 1>\u001b[1;34m()\u001b[0m\n\u001b[1;32m----> 1\u001b[0m \u001b[38;5;28;43mnext\u001b[39;49m\u001b[43m(\u001b[49m\u001b[43miter_obj\u001b[49m\u001b[43m)\u001b[49m\n",
      "Input \u001b[1;32mIn [21]\u001b[0m, in \u001b[0;36moddIter.__next__\u001b[1;34m(self)\u001b[0m\n\u001b[0;32m     13\u001b[0m     \u001b[38;5;28;01mreturn\u001b[39;00m result\n\u001b[0;32m     14\u001b[0m \u001b[38;5;28;01melse\u001b[39;00m:\n\u001b[1;32m---> 15\u001b[0m     \u001b[38;5;28;01mraise\u001b[39;00m \u001b[38;5;167;01mStopIteration\u001b[39;00m\n",
      "\u001b[1;31mStopIteration\u001b[0m: "
     ]
    }
   ],
   "source": [
    "next(iter_obj)"
   ]
  },
  {
   "cell_type": "markdown",
   "id": "bc117bcb",
   "metadata": {},
   "source": [
    "Drugi primjer:"
   ]
  },
  {
   "cell_type": "code",
   "execution_count": 32,
   "id": "ae12c11c",
   "metadata": {},
   "outputs": [],
   "source": [
    "my_list = [1, 3, 5, 7]"
   ]
  },
  {
   "cell_type": "code",
   "execution_count": 33,
   "id": "8b789df6",
   "metadata": {},
   "outputs": [],
   "source": [
    "a = iter(my_list)"
   ]
  },
  {
   "cell_type": "code",
   "execution_count": 34,
   "id": "cc845e39",
   "metadata": {},
   "outputs": [
    {
     "data": {
      "text/plain": [
       "1"
      ]
     },
     "execution_count": 34,
     "metadata": {},
     "output_type": "execute_result"
    }
   ],
   "source": [
    "next(a)"
   ]
  },
  {
   "cell_type": "code",
   "execution_count": 35,
   "id": "15778bb0",
   "metadata": {},
   "outputs": [
    {
     "data": {
      "text/plain": [
       "3"
      ]
     },
     "execution_count": 35,
     "metadata": {},
     "output_type": "execute_result"
    }
   ],
   "source": [
    "next(a)"
   ]
  },
  {
   "cell_type": "code",
   "execution_count": 36,
   "id": "84eab4c6",
   "metadata": {},
   "outputs": [
    {
     "data": {
      "text/plain": [
       "5"
      ]
     },
     "execution_count": 36,
     "metadata": {},
     "output_type": "execute_result"
    }
   ],
   "source": [
    "next(a)"
   ]
  },
  {
   "cell_type": "code",
   "execution_count": 37,
   "id": "6da3ab14",
   "metadata": {},
   "outputs": [
    {
     "data": {
      "text/plain": [
       "7"
      ]
     },
     "execution_count": 37,
     "metadata": {},
     "output_type": "execute_result"
    }
   ],
   "source": [
    "next(a)"
   ]
  },
  {
   "cell_type": "code",
   "execution_count": 38,
   "id": "c9bd3ade",
   "metadata": {},
   "outputs": [
    {
     "ename": "StopIteration",
     "evalue": "",
     "output_type": "error",
     "traceback": [
      "\u001b[1;31m---------------------------------------------------------------------------\u001b[0m",
      "\u001b[1;31mStopIteration\u001b[0m                             Traceback (most recent call last)",
      "Input \u001b[1;32mIn [38]\u001b[0m, in \u001b[0;36m<cell line: 1>\u001b[1;34m()\u001b[0m\n\u001b[1;32m----> 1\u001b[0m \u001b[38;5;28;43mnext\u001b[39;49m\u001b[43m(\u001b[49m\u001b[43ma\u001b[49m\u001b[43m)\u001b[49m\n",
      "\u001b[1;31mStopIteration\u001b[0m: "
     ]
    }
   ],
   "source": [
    "next(a)"
   ]
  },
  {
   "cell_type": "markdown",
   "id": "a1611f00",
   "metadata": {},
   "source": [
    "## Generatori i yield kljucna rijec\n",
    "\n",
    "Generatori su drugi nacin za kreiranje iteratora, bez implementiranja iterator protokola. To se postize koriscenjem **yield** kljucne rijeci. Generatori su funkcije koje vracaju jednu po jednu vrijednost. Funkcija postaje generator ako sadrzi yield kljucnu rijec.\n",
    "\n",
    "Kada se pozove funkcija koja sadrzi kljucnu rijec yield, ona vraca jednu vrijednost iz niza, i onda pauzira stanje funkcije. Kad se funkcija pozove opet, stanje se *odmrzava*, ukljucujuci i lokalne varijable."
   ]
  },
  {
   "cell_type": "code",
   "execution_count": 39,
   "id": "f40115af",
   "metadata": {},
   "outputs": [],
   "source": [
    "def my_gen(x, y):\n",
    "    yield x, y\n",
    "    \n",
    "    print(\"Now after first yield statement\")\n",
    "    \n",
    "    x+=1\n",
    "    y+=1\n",
    "    yield x, y\n",
    "    \n",
    "    print(\"Now after second yield statement\")\n",
    "    \n",
    "    x*=2\n",
    "    y*=3\n",
    "    yield x, y\n",
    "    "
   ]
  },
  {
   "cell_type": "code",
   "execution_count": 40,
   "id": "bcf25341",
   "metadata": {},
   "outputs": [],
   "source": [
    "my_obj = my_gen(3, 5)"
   ]
  },
  {
   "cell_type": "code",
   "execution_count": 41,
   "id": "87e77dcf",
   "metadata": {},
   "outputs": [
    {
     "data": {
      "text/plain": [
       "<generator object my_gen at 0x00000215A179EC00>"
      ]
     },
     "execution_count": 41,
     "metadata": {},
     "output_type": "execute_result"
    }
   ],
   "source": [
    "my_obj"
   ]
  },
  {
   "cell_type": "code",
   "execution_count": 42,
   "id": "6f42a515",
   "metadata": {},
   "outputs": [
    {
     "name": "stdout",
     "output_type": "stream",
     "text": [
      "Start of a loop\n",
      "2 5\n",
      "End of a loop\n",
      "Now after first yield statement\n",
      "Start of a loop\n",
      "3 6\n",
      "End of a loop\n",
      "Now after second yield statement\n",
      "Start of a loop\n",
      "6 18\n",
      "End of a loop\n"
     ]
    }
   ],
   "source": [
    "for a, b in my_gen(2,5):\n",
    "    print(\"Start of a loop\")\n",
    "    print(a, b)\n",
    "    print(\"End of a loop\")"
   ]
  },
  {
   "cell_type": "markdown",
   "id": "6b1e5241",
   "metadata": {},
   "source": [
    "## Skracenice listi i rjecnika (list and dictionary comprehension)\n",
    "\n",
    "Skracenice listi su drugi nacin kreiranja liste koristeci vec postojeci objekat koji je iterator.\n",
    "Primjer:"
   ]
  },
  {
   "cell_type": "code",
   "execution_count": 43,
   "id": "3a0f4e12",
   "metadata": {},
   "outputs": [],
   "source": [
    "my_list = [1, 2, 3, 4, 5, 6]"
   ]
  },
  {
   "cell_type": "code",
   "execution_count": 44,
   "id": "f5d503ba",
   "metadata": {},
   "outputs": [
    {
     "name": "stdout",
     "output_type": "stream",
     "text": [
      "[2, 4, 6, 8, 10, 12]\n"
     ]
    }
   ],
   "source": [
    "my_new_list = [ elem*2 for elem in my_list]\n",
    "print(my_new_list)"
   ]
  },
  {
   "cell_type": "code",
   "execution_count": 45,
   "id": "e5b64677",
   "metadata": {},
   "outputs": [
    {
     "name": "stdout",
     "output_type": "stream",
     "text": [
      "[1, 3, 5]\n"
     ]
    }
   ],
   "source": [
    "odd_nos = [ elem for elem in my_list if elem % 2 == 1]\n",
    "print(odd_nos)"
   ]
  },
  {
   "cell_type": "code",
   "execution_count": 46,
   "id": "bee69841",
   "metadata": {},
   "outputs": [
    {
     "name": "stdout",
     "output_type": "stream",
     "text": [
      "['hh', 'ee', 'll', 'll', 'oo', '  ', 'ww', 'oo', 'rr', 'll', 'dd']\n"
     ]
    }
   ],
   "source": [
    "my_str = \"hello world\"\n",
    "char_double_list = [ elem * 2 for elem in my_str ]\n",
    "print(char_double_list)"
   ]
  },
  {
   "cell_type": "code",
   "execution_count": 47,
   "id": "d2cea332",
   "metadata": {},
   "outputs": [
    {
     "name": "stdout",
     "output_type": "stream",
     "text": [
      "[3, 10, 4]\n"
     ]
    }
   ],
   "source": [
    "my_nested_list = [ [1, 2, 3], \"helloworld\", \"yolo\"]\n",
    "my_len_list = [len(elem) for elem in my_nested_list]\n",
    "print(my_len_list)"
   ]
  },
  {
   "cell_type": "markdown",
   "id": "69fe0704",
   "metadata": {},
   "source": [
    "### Vremensko uporedjivanje"
   ]
  },
  {
   "cell_type": "code",
   "execution_count": 48,
   "id": "710ce989",
   "metadata": {},
   "outputs": [],
   "source": [
    "import time"
   ]
  },
  {
   "cell_type": "code",
   "execution_count": 49,
   "id": "8c36b187",
   "metadata": {},
   "outputs": [
    {
     "name": "stdout",
     "output_type": "stream",
     "text": [
      "Time taken is 2.2509946823120117 seconds\n"
     ]
    }
   ],
   "source": [
    "start = time.time()\n",
    "for_list = []\n",
    "for x in range(0, 9000000):\n",
    "    for_list.append(x*2)\n",
    "end = time.time()\n",
    "time_taken = end - start\n",
    "print(\"Time taken is \" + str(time_taken) + \" seconds\")"
   ]
  },
  {
   "cell_type": "code",
   "execution_count": 50,
   "id": "8fca6f9f",
   "metadata": {},
   "outputs": [
    {
     "name": "stdout",
     "output_type": "stream",
     "text": [
      "Time taken is 1.1720001697540283 seconds\n"
     ]
    }
   ],
   "source": [
    "start = time.time()\n",
    "comprehension_list = [ elem* 2 for elem in range(0, 9000000)]\n",
    "end = time.time()\n",
    "time_taken = end - start\n",
    "print(\"Time taken is \" + str(time_taken) + \" seconds\")"
   ]
  },
  {
   "cell_type": "markdown",
   "id": "22c5d5cb",
   "metadata": {},
   "source": [
    "Vidimo da skracenice listi stede vrijeme izvrsavanja.\n",
    "\n",
    "Primjer za skracenice rjecnika:"
   ]
  },
  {
   "cell_type": "code",
   "execution_count": 65,
   "id": "76d7ca81",
   "metadata": {},
   "outputs": [
    {
     "name": "stdout",
     "output_type": "stream",
     "text": [
      "{1: 1, 2: 4, 3: 9, 4: 16}\n"
     ]
    }
   ],
   "source": [
    "my_list = [1, 2, 3, 4]\n",
    "my_dict = { elem : elem ** 2 for elem in my_list }\n",
    "print(my_dict)"
   ]
  },
  {
   "cell_type": "code",
   "execution_count": 51,
   "id": "d14d01c2",
   "metadata": {},
   "outputs": [
    {
     "name": "stdout",
     "output_type": "stream",
     "text": [
      "{1: 5, 2: 6, 3: 4}\n"
     ]
    }
   ],
   "source": [
    "my_keys = [ 1, 2, 3]\n",
    "my_values = [ \"hello\", \"worlds\", \"yolo\"]\n",
    "\n",
    "my_len_dict = { key: len(value) for (key, value) in zip(my_keys, my_values) }\n",
    "print(my_len_dict)"
   ]
  },
  {
   "cell_type": "markdown",
   "id": "79d9f84e",
   "metadata": {},
   "source": [
    "Prednosti skracenica: brze se izvrsavaju, doprinose tome da kod bude kraci je i citljiviji.\n"
   ]
  },
  {
   "cell_type": "markdown",
   "id": "a18fc24d",
   "metadata": {},
   "source": [
    "## Ugnjezdene funkcije i zatvorenja (closures)\n",
    "\n",
    "Kad se jedna funkcija definise unutar druge, onda se ona naziva ugnjezdena funkcija. U pajtonu ugnjezdene funckije mogu da pristupe varijablama sireg dosega (nelokalni doseg - enclosing scope), ali su te varijable samo za citanje (read-only). Da bi se modifikovale potrebno je koristiti `nonlocal` kljucnu rijec."
   ]
  },
  {
   "cell_type": "code",
   "execution_count": 52,
   "id": "61f76deb",
   "metadata": {},
   "outputs": [],
   "source": [
    "def outer_func(outer_var):\n",
    "    \n",
    "    def inner_func(inner_var):\n",
    "        print(\"Outer variable is \",outer_var)\n",
    "        print(\"Inner variable is \",inner_var)\n",
    "    \n",
    "    inner_func(\"world\")"
   ]
  },
  {
   "cell_type": "code",
   "execution_count": 53,
   "id": "51f5b1cc",
   "metadata": {},
   "outputs": [
    {
     "name": "stdout",
     "output_type": "stream",
     "text": [
      "Outer variable is  hello\n",
      "Inner variable is  world\n"
     ]
    }
   ],
   "source": [
    "outer_func(\"hello\")"
   ]
  },
  {
   "cell_type": "markdown",
   "id": "7ce0e37d",
   "metadata": {},
   "source": [
    "### Pristup nelokalnim varijablama"
   ]
  },
  {
   "cell_type": "code",
   "execution_count": 54,
   "id": "fe4717cc",
   "metadata": {},
   "outputs": [],
   "source": [
    "def outer_func2(outer_var):\n",
    "    print(\"Outer variable in outer function is \", outer_var)\n",
    "    \n",
    "    def inner_func2(inner_var):\n",
    "        outer_var = \"yolo\"\n",
    "        print(\"Outer variable in inner function is \",outer_var)\n",
    "        print(\"Inner variable in inner function is \",inner_var)\n",
    "    \n",
    "    inner_func2(\"world\")\n",
    "    print(\"After inner function call\")\n",
    "    print(\"Outer variable in outer function is \", outer_var)"
   ]
  },
  {
   "cell_type": "code",
   "execution_count": 55,
   "id": "b3f537a5",
   "metadata": {},
   "outputs": [
    {
     "name": "stdout",
     "output_type": "stream",
     "text": [
      "Outer variable in outer function is  hello\n",
      "Outer variable in inner function is  yolo\n",
      "Inner variable in inner function is  world\n",
      "After inner function call\n",
      "Outer variable in outer function is  hello\n"
     ]
    }
   ],
   "source": [
    "outer_func2(\"hello\")"
   ]
  },
  {
   "cell_type": "markdown",
   "id": "85c3051b",
   "metadata": {},
   "source": [
    "### Zatvorenja (Closures)\n",
    "\n",
    "Zatvorenje se javlja kad funkcija moze da pristupi lokalnoj varijabli spoljasnje funkcije koja je prestala sa izvrsavanjem.\n",
    "\n",
    "Tri uslova za zatvorenje:\n",
    "   - mora postojati ugnjezdena fuknkcija\n",
    "   - ugnjezdena funkcija mora da referise vrijednost definisanu u spoljasnjoj funkciji\n",
    "   - spoljasnja funkcija mora da vraca unutrasnju, tj. ugnjezdenu funkciju"
   ]
  },
  {
   "cell_type": "code",
   "execution_count": 56,
   "id": "4b0b8ad5",
   "metadata": {},
   "outputs": [],
   "source": [
    "def outer_func3(outer_var):\n",
    "    \n",
    "    #Example of closure\n",
    "    def inner_func3():\n",
    "        print(outer_var)\n",
    "    \n",
    "    return inner_func3"
   ]
  },
  {
   "cell_type": "code",
   "execution_count": 57,
   "id": "00d1e710",
   "metadata": {},
   "outputs": [
    {
     "name": "stdout",
     "output_type": "stream",
     "text": [
      "hello world\n"
     ]
    }
   ],
   "source": [
    "my_closure = outer_func3(\"hello world\")\n",
    "my_closure()"
   ]
  },
  {
   "cell_type": "code",
   "execution_count": 58,
   "id": "2584fe87",
   "metadata": {},
   "outputs": [],
   "source": [
    "def add_two_cond(sen1, sen2):\n",
    "    \n",
    "    def use_operator(my_op):\n",
    "        print(sen1 + \" \" + my_op + \" \" + sen2)\n",
    "    \n",
    "    return use_operator"
   ]
  },
  {
   "cell_type": "code",
   "execution_count": 59,
   "id": "eb980c62",
   "metadata": {},
   "outputs": [],
   "source": [
    "my_joined_cond = add_two_cond(\"work hard\",\"play hard\")"
   ]
  },
  {
   "cell_type": "code",
   "execution_count": 60,
   "id": "499dd458",
   "metadata": {},
   "outputs": [
    {
     "name": "stdout",
     "output_type": "stream",
     "text": [
      "work hard  AND  play hard\n"
     ]
    }
   ],
   "source": [
    "my_joined_cond(\" AND \")"
   ]
  },
  {
   "cell_type": "code",
   "execution_count": 61,
   "id": "3ef2bcbd",
   "metadata": {},
   "outputs": [
    {
     "name": "stdout",
     "output_type": "stream",
     "text": [
      "work hard  OR  play hard\n"
     ]
    }
   ],
   "source": [
    "my_joined_cond(\" OR \")"
   ]
  },
  {
   "cell_type": "markdown",
   "id": "da02ed95",
   "metadata": {},
   "source": [
    "### Atributi zatvorenja"
   ]
  },
  {
   "cell_type": "code",
   "execution_count": 62,
   "id": "94b0c219",
   "metadata": {},
   "outputs": [
    {
     "data": {
      "text/plain": [
       "['__annotations__',\n",
       " '__builtins__',\n",
       " '__call__',\n",
       " '__class__',\n",
       " '__closure__',\n",
       " '__code__',\n",
       " '__defaults__',\n",
       " '__delattr__',\n",
       " '__dict__',\n",
       " '__dir__',\n",
       " '__doc__',\n",
       " '__eq__',\n",
       " '__format__',\n",
       " '__ge__',\n",
       " '__get__',\n",
       " '__getattribute__',\n",
       " '__globals__',\n",
       " '__gt__',\n",
       " '__hash__',\n",
       " '__init__',\n",
       " '__init_subclass__',\n",
       " '__kwdefaults__',\n",
       " '__le__',\n",
       " '__lt__',\n",
       " '__module__',\n",
       " '__name__',\n",
       " '__ne__',\n",
       " '__new__',\n",
       " '__qualname__',\n",
       " '__reduce__',\n",
       " '__reduce_ex__',\n",
       " '__repr__',\n",
       " '__setattr__',\n",
       " '__sizeof__',\n",
       " '__str__',\n",
       " '__subclasshook__']"
      ]
     },
     "execution_count": 62,
     "metadata": {},
     "output_type": "execute_result"
    }
   ],
   "source": [
    "dir(my_closure)"
   ]
  },
  {
   "cell_type": "markdown",
   "id": "8898fff2",
   "metadata": {},
   "source": [
    "# ?? Da li da pobrisemo samo sljedece linije koda, jer su ocito iz Pajtona 2? Da li je ista znacajno?"
   ]
  },
  {
   "cell_type": "code",
   "execution_count": 92,
   "id": "58a9c395",
   "metadata": {},
   "outputs": [
    {
     "ename": "AttributeError",
     "evalue": "'function' object has no attribute 'func_closure'",
     "output_type": "error",
     "traceback": [
      "\u001b[1;31m---------------------------------------------------------------------------\u001b[0m",
      "\u001b[1;31mAttributeError\u001b[0m                            Traceback (most recent call last)",
      "Input \u001b[1;32mIn [92]\u001b[0m, in \u001b[0;36m<cell line: 1>\u001b[1;34m()\u001b[0m\n\u001b[1;32m----> 1\u001b[0m \u001b[38;5;28mtype\u001b[39m(\u001b[43mmy_closure\u001b[49m\u001b[38;5;241;43m.\u001b[39;49m\u001b[43mfunc_closure\u001b[49m)\n",
      "\u001b[1;31mAttributeError\u001b[0m: 'function' object has no attribute 'func_closure'"
     ]
    }
   ],
   "source": [
    "type(my_closure.func_closure)"
   ]
  },
  {
   "cell_type": "code",
   "execution_count": 93,
   "id": "f58c6507",
   "metadata": {},
   "outputs": [
    {
     "ename": "AttributeError",
     "evalue": "'function' object has no attribute 'func_closure'",
     "output_type": "error",
     "traceback": [
      "\u001b[1;31m---------------------------------------------------------------------------\u001b[0m",
      "\u001b[1;31mAttributeError\u001b[0m                            Traceback (most recent call last)",
      "Input \u001b[1;32mIn [93]\u001b[0m, in \u001b[0;36m<cell line: 1>\u001b[1;34m()\u001b[0m\n\u001b[1;32m----> 1\u001b[0m \u001b[38;5;28mlen\u001b[39m(\u001b[43mmy_closure\u001b[49m\u001b[38;5;241;43m.\u001b[39;49m\u001b[43mfunc_closure\u001b[49m)\n",
      "\u001b[1;31mAttributeError\u001b[0m: 'function' object has no attribute 'func_closure'"
     ]
    }
   ],
   "source": [
    "len(my_closure.func_closure)"
   ]
  },
  {
   "cell_type": "code",
   "execution_count": 94,
   "id": "1627e5b4",
   "metadata": {},
   "outputs": [
    {
     "ename": "AttributeError",
     "evalue": "'function' object has no attribute 'func_closure'",
     "output_type": "error",
     "traceback": [
      "\u001b[1;31m---------------------------------------------------------------------------\u001b[0m",
      "\u001b[1;31mAttributeError\u001b[0m                            Traceback (most recent call last)",
      "Input \u001b[1;32mIn [94]\u001b[0m, in \u001b[0;36m<cell line: 1>\u001b[1;34m()\u001b[0m\n\u001b[1;32m----> 1\u001b[0m \u001b[38;5;28mdir\u001b[39m(\u001b[43mmy_closure\u001b[49m\u001b[38;5;241;43m.\u001b[39;49m\u001b[43mfunc_closure\u001b[49m[\u001b[38;5;241m0\u001b[39m])\n",
      "\u001b[1;31mAttributeError\u001b[0m: 'function' object has no attribute 'func_closure'"
     ]
    }
   ],
   "source": [
    "dir(my_closure.func_closure[0])"
   ]
  },
  {
   "cell_type": "code",
   "execution_count": 95,
   "id": "4b1f0602",
   "metadata": {},
   "outputs": [
    {
     "ename": "AttributeError",
     "evalue": "'function' object has no attribute 'func_closure'",
     "output_type": "error",
     "traceback": [
      "\u001b[1;31m---------------------------------------------------------------------------\u001b[0m",
      "\u001b[1;31mAttributeError\u001b[0m                            Traceback (most recent call last)",
      "Input \u001b[1;32mIn [95]\u001b[0m, in \u001b[0;36m<cell line: 1>\u001b[1;34m()\u001b[0m\n\u001b[1;32m----> 1\u001b[0m \u001b[43mmy_closure\u001b[49m\u001b[38;5;241;43m.\u001b[39;49m\u001b[43mfunc_closure\u001b[49m[\u001b[38;5;241m0\u001b[39m]\u001b[38;5;241m.\u001b[39mcell_contents\n",
      "\u001b[1;31mAttributeError\u001b[0m: 'function' object has no attribute 'func_closure'"
     ]
    }
   ],
   "source": [
    "my_closure.func_closure[0].cell_contents"
   ]
  },
  {
   "cell_type": "code",
   "execution_count": 96,
   "id": "81816872",
   "metadata": {},
   "outputs": [
    {
     "ename": "AttributeError",
     "evalue": "'function' object has no attribute 'func_closure'",
     "output_type": "error",
     "traceback": [
      "\u001b[1;31m---------------------------------------------------------------------------\u001b[0m",
      "\u001b[1;31mAttributeError\u001b[0m                            Traceback (most recent call last)",
      "Input \u001b[1;32mIn [96]\u001b[0m, in \u001b[0;36m<cell line: 1>\u001b[1;34m()\u001b[0m\n\u001b[1;32m----> 1\u001b[0m \u001b[38;5;28mlen\u001b[39m(\u001b[43mmy_joined_cond\u001b[49m\u001b[38;5;241;43m.\u001b[39;49m\u001b[43mfunc_closure\u001b[49m)\n",
      "\u001b[1;31mAttributeError\u001b[0m: 'function' object has no attribute 'func_closure'"
     ]
    }
   ],
   "source": [
    "len(my_joined_cond.func_closure)"
   ]
  },
  {
   "cell_type": "code",
   "execution_count": 91,
   "id": "059ea352",
   "metadata": {},
   "outputs": [
    {
     "data": {
      "text/plain": [
       "['__annotations__',\n",
       " '__call__',\n",
       " '__class__',\n",
       " '__closure__',\n",
       " '__code__',\n",
       " '__defaults__',\n",
       " '__delattr__',\n",
       " '__dict__',\n",
       " '__dir__',\n",
       " '__doc__',\n",
       " '__eq__',\n",
       " '__format__',\n",
       " '__ge__',\n",
       " '__get__',\n",
       " '__getattribute__',\n",
       " '__globals__',\n",
       " '__gt__',\n",
       " '__hash__',\n",
       " '__init__',\n",
       " '__init_subclass__',\n",
       " '__kwdefaults__',\n",
       " '__le__',\n",
       " '__lt__',\n",
       " '__module__',\n",
       " '__name__',\n",
       " '__ne__',\n",
       " '__new__',\n",
       " '__qualname__',\n",
       " '__reduce__',\n",
       " '__reduce_ex__',\n",
       " '__repr__',\n",
       " '__setattr__',\n",
       " '__sizeof__',\n",
       " '__str__',\n",
       " '__subclasshook__']"
      ]
     },
     "execution_count": 91,
     "metadata": {},
     "output_type": "execute_result"
    }
   ],
   "source": [
    "dir(my_joined_cond)"
   ]
  },
  {
   "cell_type": "code",
   "execution_count": 97,
   "id": "7242a08d",
   "metadata": {},
   "outputs": [
    {
     "ename": "AttributeError",
     "evalue": "'function' object has no attribute 'func_closure'",
     "output_type": "error",
     "traceback": [
      "\u001b[1;31m---------------------------------------------------------------------------\u001b[0m",
      "\u001b[1;31mAttributeError\u001b[0m                            Traceback (most recent call last)",
      "Input \u001b[1;32mIn [97]\u001b[0m, in \u001b[0;36m<cell line: 1>\u001b[1;34m()\u001b[0m\n\u001b[1;32m----> 1\u001b[0m \u001b[38;5;28;01mfor\u001b[39;00m x \u001b[38;5;129;01min\u001b[39;00m \u001b[43mmy_joined_cond\u001b[49m\u001b[38;5;241;43m.\u001b[39;49m\u001b[43mfunc_closure\u001b[49m:\n\u001b[0;32m      2\u001b[0m     \u001b[38;5;28mprint\u001b[39m(x\u001b[38;5;241m.\u001b[39mcell_contents)\n",
      "\u001b[1;31mAttributeError\u001b[0m: 'function' object has no attribute 'func_closure'"
     ]
    }
   ],
   "source": [
    "for x in my_joined_cond.func_closure:\n",
    "    print(x.cell_contents)"
   ]
  },
  {
   "cell_type": "markdown",
   "id": "2f7cbc51",
   "metadata": {},
   "source": [
    "Neke od prednosti zatvorenja su: omogucavaju ucaurenje podataka i tako smanjuju zavisnost od globalnih varijabli, doprinose upotrebi funkcije na vise nacina i omogucavaju implementaciju dekoratora."
   ]
  },
  {
   "cell_type": "markdown",
   "id": "59f179a3",
   "metadata": {},
   "source": [
    "### Lambda funkcije u zatvorenju:"
   ]
  },
  {
   "cell_type": "code",
   "execution_count": 63,
   "id": "360b0efa",
   "metadata": {},
   "outputs": [],
   "source": [
    "def add_two_nums(outer_x):\n",
    "    \n",
    "    #using closures with lambda\n",
    "    return (lambda inner_x: outer_x + inner_x)"
   ]
  },
  {
   "cell_type": "code",
   "execution_count": 64,
   "id": "40fdfb2e",
   "metadata": {},
   "outputs": [
    {
     "data": {
      "text/plain": [
       "13"
      ]
     },
     "execution_count": 64,
     "metadata": {},
     "output_type": "execute_result"
    }
   ],
   "source": [
    "my_closure = add_two_nums(3)\n",
    "my_closure(10)"
   ]
  },
  {
   "cell_type": "markdown",
   "id": "b6b29766",
   "metadata": {},
   "source": [
    "### Koriscenje varijabli koje su van lambda izraza"
   ]
  },
  {
   "cell_type": "code",
   "execution_count": 65,
   "id": "e63ffd5b",
   "metadata": {},
   "outputs": [],
   "source": [
    "x = 123"
   ]
  },
  {
   "cell_type": "code",
   "execution_count": 66,
   "id": "9ddb6300",
   "metadata": {},
   "outputs": [],
   "source": [
    "my_lambda_expr = lambda a, i=x: a+i"
   ]
  },
  {
   "cell_type": "code",
   "execution_count": 67,
   "id": "1699bf1e",
   "metadata": {},
   "outputs": [
    {
     "data": {
      "text/plain": [
       "133"
      ]
     },
     "execution_count": 67,
     "metadata": {},
     "output_type": "execute_result"
    }
   ],
   "source": [
    "my_lambda_expr(10)"
   ]
  },
  {
   "cell_type": "code",
   "execution_count": 68,
   "id": "35c24b87",
   "metadata": {},
   "outputs": [
    {
     "data": {
      "text/plain": [
       "233"
      ]
     },
     "execution_count": 68,
     "metadata": {},
     "output_type": "execute_result"
    }
   ],
   "source": [
    "my_lambda_expr(110)"
   ]
  },
  {
   "cell_type": "markdown",
   "id": "59c0d75c",
   "metadata": {},
   "source": [
    "### Ugnjezdene lambda funkcije"
   ]
  },
  {
   "cell_type": "code",
   "execution_count": 69,
   "id": "44d79eba",
   "metadata": {},
   "outputs": [],
   "source": [
    "my_muttiplier = lambda num1: (lambda num2: num1 * num2)"
   ]
  },
  {
   "cell_type": "code",
   "execution_count": 70,
   "id": "8af84ff5",
   "metadata": {},
   "outputs": [
    {
     "data": {
      "text/plain": [
       "15"
      ]
     },
     "execution_count": 70,
     "metadata": {},
     "output_type": "execute_result"
    }
   ],
   "source": [
    "mutiply_5 = my_muttiplier(5)\n",
    "mutiply_5(3)"
   ]
  },
  {
   "cell_type": "code",
   "execution_count": 71,
   "id": "2e0b27da",
   "metadata": {},
   "outputs": [
    {
     "data": {
      "text/plain": [
       "45"
      ]
     },
     "execution_count": 71,
     "metadata": {},
     "output_type": "execute_result"
    }
   ],
   "source": [
    "mutiply_5(9)"
   ]
  },
  {
   "cell_type": "code",
   "execution_count": 72,
   "id": "c4b8f324",
   "metadata": {},
   "outputs": [
    {
     "data": {
      "text/plain": [
       "18"
      ]
     },
     "execution_count": 72,
     "metadata": {},
     "output_type": "execute_result"
    }
   ],
   "source": [
    "mutiply_6 = my_muttiplier(6)\n",
    "mutiply_6(3)"
   ]
  },
  {
   "cell_type": "code",
   "execution_count": 73,
   "id": "87f57522",
   "metadata": {},
   "outputs": [
    {
     "data": {
      "text/plain": [
       "12"
      ]
     },
     "execution_count": 73,
     "metadata": {},
     "output_type": "execute_result"
    }
   ],
   "source": [
    "mutiply_6(2)"
   ]
  },
  {
   "cell_type": "markdown",
   "id": "962b5052",
   "metadata": {},
   "source": [
    "### Koriscenje import u lambda funkcijama"
   ]
  },
  {
   "cell_type": "markdown",
   "id": "1550a259",
   "metadata": {},
   "source": [
    "#### Referenca : https://onelinepy.herokuapp.com/"
   ]
  },
  {
   "cell_type": "code",
   "execution_count": 74,
   "id": "29b046d1",
   "metadata": {},
   "outputs": [
    {
     "data": {
      "text/plain": [
       "'hello'"
      ]
     },
     "execution_count": 74,
     "metadata": {},
     "output_type": "execute_result"
    }
   ],
   "source": [
    "(lambda random_module: random_module.choice([\"yolo\", \"hello\", \"buffalo\", \"work\", \"hard\"]))(__import__('random'))"
   ]
  },
  {
   "cell_type": "code",
   "execution_count": 75,
   "id": "26a0a579",
   "metadata": {},
   "outputs": [
    {
     "data": {
      "text/plain": [
       "'hello'"
      ]
     },
     "execution_count": 75,
     "metadata": {},
     "output_type": "execute_result"
    }
   ],
   "source": [
    "(lambda random_module: random_module.choice([\"yolo\", \"hello\", \"buffalo\", \"work\", \"hard\"]))(__import__('random'))"
   ]
  },
  {
   "cell_type": "markdown",
   "id": "c766ee88",
   "metadata": {},
   "source": [
    "### Dodjela difoltnih vrijednosti za nepostojece kljuceve u rjecniku"
   ]
  },
  {
   "cell_type": "code",
   "execution_count": 76,
   "id": "c426c3b2",
   "metadata": {},
   "outputs": [],
   "source": [
    "import collections\n",
    "my_dict = collections.defaultdict(lambda: 0)"
   ]
  },
  {
   "cell_type": "code",
   "execution_count": 77,
   "id": "5c017d3b",
   "metadata": {},
   "outputs": [
    {
     "data": {
      "text/plain": [
       "0"
      ]
     },
     "execution_count": 77,
     "metadata": {},
     "output_type": "execute_result"
    }
   ],
   "source": [
    "my_dict['123']"
   ]
  },
  {
   "cell_type": "code",
   "execution_count": 78,
   "id": "514923a7",
   "metadata": {},
   "outputs": [
    {
     "data": {
      "text/plain": [
       "0"
      ]
     },
     "execution_count": 78,
     "metadata": {},
     "output_type": "execute_result"
    }
   ],
   "source": [
    "my_dict[123]"
   ]
  },
  {
   "cell_type": "markdown",
   "id": "1d177e5d",
   "metadata": {},
   "source": [
    "## Lenjo izracunavanje u pajtonu\n",
    "\n",
    "**Nestrpljiva evaluacija** podrazumijeva izracunavanje izraza kako dolaze na red; ovo je cesci vid izracunavanja, bas zato sto je laksi za implementaciju u kompajlerima/interpretatorima. U slucaju funkcija, argumenti funkcije se prvo evaluiraju, pa onda se evaluira poziv funkcije. Ovakav pristup je laksi za debagovanje.\n",
    "\n",
    "**Lenja evaluacija** podrazumijeva izracunavanje izraza samo kad je neophodno. Izraz vraca **thunk** objekat, koji je nepotpuno evaluiran izraz (Ovako funkcionise i u cistim funkcionalnim jezicima kao Haskel). U pozivima funkcija, argumenti se izracunavaju samo kad i ako su potrebni.\n",
    "\n",
    "Iteratori, generatori, zatvorenja i lambda funkcije koriste lenju izracunavanje.\n"
   ]
  },
  {
   "cell_type": "code",
   "execution_count": 79,
   "id": "96b4b6e4",
   "metadata": {},
   "outputs": [],
   "source": [
    "def eager_func(a, b):\n",
    "    a = a + 10\n",
    "    b = b - 10\n",
    "    return a, b"
   ]
  },
  {
   "cell_type": "code",
   "execution_count": 80,
   "id": "7a07bc1b",
   "metadata": {},
   "outputs": [],
   "source": [
    "def my_gen(a, b):\n",
    "    a = a + 10\n",
    "    b = b - 10\n",
    "    yield a, b"
   ]
  },
  {
   "cell_type": "code",
   "execution_count": 81,
   "id": "4093f1f4",
   "metadata": {},
   "outputs": [
    {
     "name": "stdout",
     "output_type": "stream",
     "text": [
      "(19, 0)\n"
     ]
    }
   ],
   "source": [
    "my_eager = eager_func(9, 10)\n",
    "print(my_eager)"
   ]
  },
  {
   "cell_type": "code",
   "execution_count": 82,
   "id": "de31e135",
   "metadata": {},
   "outputs": [],
   "source": [
    "my_lazy = my_gen(9, 10)"
   ]
  },
  {
   "cell_type": "code",
   "execution_count": 83,
   "id": "05ea04da",
   "metadata": {},
   "outputs": [
    {
     "name": "stdout",
     "output_type": "stream",
     "text": [
      "<generator object my_gen at 0x00000215A1939700>\n"
     ]
    }
   ],
   "source": [
    "print(my_lazy)"
   ]
  },
  {
   "cell_type": "code",
   "execution_count": 84,
   "id": "108f1fbc",
   "metadata": {},
   "outputs": [
    {
     "data": {
      "text/plain": [
       "(19, 0)"
      ]
     },
     "execution_count": 84,
     "metadata": {},
     "output_type": "execute_result"
    }
   ],
   "source": [
    "next(my_lazy)"
   ]
  },
  {
   "cell_type": "code",
   "execution_count": 85,
   "id": "a1837096",
   "metadata": {},
   "outputs": [],
   "source": [
    "def my_eager_even():\n",
    "    n = 0\n",
    "    for i in range(0, 100000000000000):\n",
    "        n+=2\n",
    "        print(n)"
   ]
  },
  {
   "cell_type": "code",
   "execution_count": 86,
   "id": "6124d4f9",
   "metadata": {},
   "outputs": [],
   "source": [
    "#my_eager_even()"
   ]
  },
  {
   "cell_type": "code",
   "execution_count": 87,
   "id": "4eb88ae1",
   "metadata": {},
   "outputs": [],
   "source": [
    "def my_lazy_list():\n",
    "    n = 0\n",
    "    while n<100000000000000:\n",
    "        yield n\n",
    "        n += 2"
   ]
  },
  {
   "cell_type": "code",
   "execution_count": 88,
   "id": "d5254a5a",
   "metadata": {},
   "outputs": [],
   "source": [
    "my_lazy_even = my_lazy_list()"
   ]
  },
  {
   "cell_type": "code",
   "execution_count": 89,
   "id": "fdedd37b",
   "metadata": {},
   "outputs": [
    {
     "data": {
      "text/plain": [
       "0"
      ]
     },
     "execution_count": 89,
     "metadata": {},
     "output_type": "execute_result"
    }
   ],
   "source": [
    "next(my_lazy_even)"
   ]
  },
  {
   "cell_type": "code",
   "execution_count": 90,
   "id": "e8b15682",
   "metadata": {},
   "outputs": [
    {
     "data": {
      "text/plain": [
       "2"
      ]
     },
     "execution_count": 90,
     "metadata": {},
     "output_type": "execute_result"
    }
   ],
   "source": [
    "next(my_lazy_even)"
   ]
  },
  {
   "cell_type": "code",
   "execution_count": 91,
   "id": "44452610",
   "metadata": {},
   "outputs": [
    {
     "data": {
      "text/plain": [
       "4"
      ]
     },
     "execution_count": 91,
     "metadata": {},
     "output_type": "execute_result"
    }
   ],
   "source": [
    "next(my_lazy_even)"
   ]
  },
  {
   "cell_type": "code",
   "execution_count": 92,
   "id": "58682983",
   "metadata": {},
   "outputs": [
    {
     "data": {
      "text/plain": [
       "6"
      ]
     },
     "execution_count": 92,
     "metadata": {},
     "output_type": "execute_result"
    }
   ],
   "source": [
    "next(my_lazy_even)"
   ]
  },
  {
   "cell_type": "code",
   "execution_count": 93,
   "id": "7bff185e",
   "metadata": {},
   "outputs": [
    {
     "data": {
      "text/plain": [
       "8"
      ]
     },
     "execution_count": 93,
     "metadata": {},
     "output_type": "execute_result"
    }
   ],
   "source": [
    "next(my_lazy_even)"
   ]
  },
  {
   "cell_type": "markdown",
   "id": "95866ac4",
   "metadata": {},
   "source": [
    "Ljenja evaluacija stedi memoriju i omogucava programeru da radi sa prividno beskonacnim strukturama podataka.\n",
    "Vise je efikasno jer se vrijednosti koje nisu potrebne ne racunaju."
   ]
  },
  {
   "cell_type": "markdown",
   "id": "179c1dea",
   "metadata": {},
   "source": [
    "## Funkcije viseg reda\n",
    "\n",
    "Svojstva gradjana prvog reda su da mogu biti proslijedjeni kao argumenti funkcijama, mogu biti dodijeljeni varijablama, mogu biti korisceni kao objekti, mogu biti vraceni kao povratna vrijednost funkcije, mogu biti cuvani u raznim strukturama podataka kao liste, rjecnici, itd.\n",
    "Ovaj pojam je povezan sa pojmom funkcija viseg reda.\n",
    "\n",
    "Funkcije viseg reda su funkcije koje uzimaju druge funkcije kao argumente ili vracaju funkciju kao povratnu vrijednost. Dakle to su funkcije koje manipulisu drugim funkcijama.\n"
   ]
  },
  {
   "cell_type": "code",
   "execution_count": 94,
   "id": "8a3e865b",
   "metadata": {},
   "outputs": [],
   "source": [
    "def some_function(func_par, list_par):\n",
    "    for elem in list_par:\n",
    "        print(func_par(elem))\n",
    "    return"
   ]
  },
  {
   "cell_type": "code",
   "execution_count": 95,
   "id": "bf16666e",
   "metadata": {},
   "outputs": [],
   "source": [
    "my_list  = [\"hello world\", \"work hard, play hard\", \"YOLO\"]"
   ]
  },
  {
   "cell_type": "code",
   "execution_count": 96,
   "id": "05d3a718",
   "metadata": {},
   "outputs": [
    {
     "name": "stdout",
     "output_type": "stream",
     "text": [
      "11\n",
      "20\n",
      "4\n"
     ]
    }
   ],
   "source": [
    "some_function(len, my_list)"
   ]
  },
  {
   "cell_type": "code",
   "execution_count": 97,
   "id": "4827ea33",
   "metadata": {},
   "outputs": [],
   "source": [
    "def add_prefix(my_str):\n",
    "    return \"Chaos \" + my_str"
   ]
  },
  {
   "cell_type": "code",
   "execution_count": 98,
   "id": "cfd69d8f",
   "metadata": {},
   "outputs": [
    {
     "name": "stdout",
     "output_type": "stream",
     "text": [
      "Chaos hello world\n",
      "Chaos work hard, play hard\n",
      "Chaos YOLO\n"
     ]
    }
   ],
   "source": [
    "some_function(add_prefix, my_list)"
   ]
  },
  {
   "cell_type": "markdown",
   "id": "98d8211a",
   "metadata": {},
   "source": [
    "Primjer funkcije koja vraca drugu funkciju kao povratnu vrijednost:"
   ]
  },
  {
   "cell_type": "code",
   "execution_count": 99,
   "id": "96e28623",
   "metadata": {},
   "outputs": [],
   "source": [
    "def hof(n):\n",
    "    def multiple_5(x):\n",
    "        return 5 * x\n",
    "    \n",
    "    def multiple_3(x):\n",
    "        return 3 * x\n",
    "    \n",
    "    def multiple_2(x):\n",
    "        return 2 * x\n",
    "    \n",
    "    def multiple_generic(x):\n",
    "        return n * x\n",
    "    \n",
    "    if n%5==0:\n",
    "        return multiple_5\n",
    "    elif n%3==0:\n",
    "        return multiple_3\n",
    "    elif n%2==0:\n",
    "        return multiple_2\n",
    "    else:\n",
    "        return multiple_generic"
   ]
  },
  {
   "cell_type": "code",
   "execution_count": 100,
   "id": "65037d48",
   "metadata": {},
   "outputs": [],
   "source": [
    "my_new_func = hof(5)"
   ]
  },
  {
   "cell_type": "code",
   "execution_count": 101,
   "id": "efcd8b2d",
   "metadata": {},
   "outputs": [
    {
     "data": {
      "text/plain": [
       "50"
      ]
     },
     "execution_count": 101,
     "metadata": {},
     "output_type": "execute_result"
    }
   ],
   "source": [
    "my_new_func(10)  #multiple_5(10)"
   ]
  },
  {
   "cell_type": "code",
   "execution_count": 102,
   "id": "2f24c58e",
   "metadata": {},
   "outputs": [
    {
     "data": {
      "text/plain": [
       "18"
      ]
     },
     "execution_count": 102,
     "metadata": {},
     "output_type": "execute_result"
    }
   ],
   "source": [
    "my_new_func_2 = hof(4)\n",
    "my_new_func_2(9)    #multiple_2(9)"
   ]
  },
  {
   "cell_type": "code",
   "execution_count": 103,
   "id": "73e3a3ed",
   "metadata": {},
   "outputs": [
    {
     "data": {
      "text/plain": [
       "56"
      ]
     },
     "execution_count": 103,
     "metadata": {},
     "output_type": "execute_result"
    }
   ],
   "source": [
    "my_new_func_7 = hof(7)\n",
    "my_new_func_7(8)    #multiple_generic(8) and n as 7"
   ]
  },
  {
   "cell_type": "markdown",
   "id": "80a38bb8",
   "metadata": {},
   "source": [
    "## Map, Filter and Iter\n",
    "\n",
    "Funkcija **map** uzima dva ulaza, funkciju i objekat koji implementira iterator protokol, pa onda primjenjuje ulaznu funkciju na svaki element iteratora i vraca listu kao rezultat.\n",
    "\n",
    "Primjer:"
   ]
  },
  {
   "cell_type": "code",
   "execution_count": 104,
   "id": "cfdc84a7",
   "metadata": {},
   "outputs": [],
   "source": [
    "def multiply_5(x):\n",
    "    return 5 * x"
   ]
  },
  {
   "cell_type": "code",
   "execution_count": 105,
   "id": "dafb5953",
   "metadata": {},
   "outputs": [],
   "source": [
    "def cube_num(num):\n",
    "    return num**3"
   ]
  },
  {
   "cell_type": "code",
   "execution_count": 106,
   "id": "4ff73d4e",
   "metadata": {},
   "outputs": [],
   "source": [
    "my_list = [ 1, 2, 3, 4, 5]"
   ]
  },
  {
   "cell_type": "code",
   "execution_count": 107,
   "id": "80b62c1b",
   "metadata": {},
   "outputs": [
    {
     "name": "stdout",
     "output_type": "stream",
     "text": [
      "[5, 10, 15, 20, 25]\n"
     ]
    }
   ],
   "source": [
    "mul_5_list = map(multiply_5, my_list)\n",
    "#for elem in my_list:\n",
    "#    print multiply_5(elem)\n",
    "\n",
    "#ne moze ovako\n",
    "#print(mul_5_list)\n",
    "print(list(mul_5_list))"
   ]
  },
  {
   "cell_type": "code",
   "execution_count": 108,
   "id": "345cec69",
   "metadata": {},
   "outputs": [
    {
     "data": {
      "text/plain": [
       "[1, 8, 27, 64, 125]"
      ]
     },
     "execution_count": 108,
     "metadata": {},
     "output_type": "execute_result"
    }
   ],
   "source": [
    "cube_list = map(cube_num, my_list)\n",
    "#ne moze ovako\n",
    "#cube_list\n",
    "list(cube_list)"
   ]
  },
  {
   "cell_type": "markdown",
   "id": "e812a26d",
   "metadata": {},
   "source": [
    "### Koriscenje lambda funkcije unutar funkcije map"
   ]
  },
  {
   "cell_type": "code",
   "execution_count": 109,
   "id": "59bdba7d",
   "metadata": {},
   "outputs": [
    {
     "name": "stdout",
     "output_type": "stream",
     "text": [
      "[5, 10, 15, 20, 25]\n"
     ]
    }
   ],
   "source": [
    "mul_5_lambda_list = map(lambda x : x * 5, my_list)\n",
    "#ne moze ovako\n",
    "#print(mul_5_lambda_list)\n",
    "print(list(mul_5_lambda_list))"
   ]
  },
  {
   "cell_type": "code",
   "execution_count": 110,
   "id": "da5ac025",
   "metadata": {},
   "outputs": [
    {
     "data": {
      "text/plain": [
       "[1, 8, 27, 64, 125]"
      ]
     },
     "execution_count": 110,
     "metadata": {},
     "output_type": "execute_result"
    }
   ],
   "source": [
    "cube_list_lambda = map(lambda x: x**3, my_list)\n",
    "#ne moze ovako\n",
    "#cube_list_lambda\n",
    "list(cube_list_lambda)"
   ]
  },
  {
   "cell_type": "markdown",
   "id": "255bddb0",
   "metadata": {},
   "source": [
    "### Kombinovanje vise iteratora u jednu map funkciju"
   ]
  },
  {
   "cell_type": "code",
   "execution_count": 111,
   "id": "8214581d",
   "metadata": {},
   "outputs": [],
   "source": [
    "sub_5_from_cube = map(lambda x1, x2: x2 - x1, mul_5_list, cube_list)"
   ]
  },
  {
   "cell_type": "code",
   "execution_count": 112,
   "id": "0e3148a0",
   "metadata": {},
   "outputs": [
    {
     "data": {
      "text/plain": [
       "[]"
      ]
     },
     "execution_count": 112,
     "metadata": {},
     "output_type": "execute_result"
    }
   ],
   "source": [
    "#ne moze ovako\n",
    "#sub_5_from_cube\n",
    "list(sub_5_from_cube)"
   ]
  },
  {
   "cell_type": "markdown",
   "id": "0079e7e7",
   "metadata": {},
   "source": [
    "### Filter\n",
    "\n",
    "Isto kao i za funkciju map, uzima iterator i funkciju za ulaz, primjenjuje funkciju na sve elemente iteratora i vraca listu elemenata za koje je vrijednost funkcije tacna"
   ]
  },
  {
   "cell_type": "code",
   "execution_count": 113,
   "id": "5426b424",
   "metadata": {},
   "outputs": [],
   "source": [
    "my_list = [1, 2, 3, 4, 5, 6]"
   ]
  },
  {
   "cell_type": "code",
   "execution_count": 114,
   "id": "ef3ac8c4",
   "metadata": {},
   "outputs": [],
   "source": [
    "get_even = filter(lambda x: x%2==0, my_list)"
   ]
  },
  {
   "cell_type": "code",
   "execution_count": 115,
   "id": "6eab60d8",
   "metadata": {},
   "outputs": [
    {
     "data": {
      "text/plain": [
       "[2, 4, 6]"
      ]
     },
     "execution_count": 115,
     "metadata": {},
     "output_type": "execute_result"
    }
   ],
   "source": [
    "#ne moze ovako\n",
    "#get_even\n",
    "list(get_even)"
   ]
  },
  {
   "cell_type": "code",
   "execution_count": 116,
   "id": "95f29481",
   "metadata": {},
   "outputs": [],
   "source": [
    "def contains_hello(str_var):\n",
    "    if \"hello\" in str_var:\n",
    "        return True\n",
    "    else:\n",
    "        return False"
   ]
  },
  {
   "cell_type": "code",
   "execution_count": 117,
   "id": "4d9312b6",
   "metadata": {},
   "outputs": [],
   "source": [
    "my_str_list = [\"hello world\", \"work hard\", \"yolo\", \"hello123\"]"
   ]
  },
  {
   "cell_type": "code",
   "execution_count": 118,
   "id": "671069cf",
   "metadata": {},
   "outputs": [],
   "source": [
    "get_hello_strs = filter(contains_hello, my_str_list)"
   ]
  },
  {
   "cell_type": "code",
   "execution_count": 119,
   "id": "9505acc6",
   "metadata": {},
   "outputs": [
    {
     "data": {
      "text/plain": [
       "['hello world', 'hello123']"
      ]
     },
     "execution_count": 119,
     "metadata": {},
     "output_type": "execute_result"
    }
   ],
   "source": [
    "#ne moze ovako\n",
    "#get_hello_strs\n",
    "list(get_hello_strs)"
   ]
  },
  {
   "cell_type": "markdown",
   "id": "be87e89d",
   "metadata": {},
   "source": [
    "### Iter \n",
    "\n",
    "Iter funkcija uzima objekat kao ulaz i vraca iterator."
   ]
  },
  {
   "cell_type": "code",
   "execution_count": 120,
   "id": "cef3f9b9",
   "metadata": {},
   "outputs": [],
   "source": [
    "my_list = [1, 2, 3, 4, 5, 6]"
   ]
  },
  {
   "cell_type": "code",
   "execution_count": 121,
   "id": "e2ead9f3",
   "metadata": {},
   "outputs": [],
   "source": [
    "my_iter = iter(my_list)"
   ]
  },
  {
   "cell_type": "code",
   "execution_count": 122,
   "id": "43772f9f",
   "metadata": {},
   "outputs": [
    {
     "data": {
      "text/plain": [
       "1"
      ]
     },
     "execution_count": 122,
     "metadata": {},
     "output_type": "execute_result"
    }
   ],
   "source": [
    "next(my_iter)"
   ]
  },
  {
   "cell_type": "code",
   "execution_count": 123,
   "id": "51c3a4e0",
   "metadata": {},
   "outputs": [
    {
     "data": {
      "text/plain": [
       "2"
      ]
     },
     "execution_count": 123,
     "metadata": {},
     "output_type": "execute_result"
    }
   ],
   "source": [
    "next(my_iter)"
   ]
  },
  {
   "cell_type": "code",
   "execution_count": 124,
   "id": "2c11a2c1",
   "metadata": {},
   "outputs": [
    {
     "data": {
      "text/plain": [
       "3"
      ]
     },
     "execution_count": 124,
     "metadata": {},
     "output_type": "execute_result"
    }
   ],
   "source": [
    "next(my_iter)"
   ]
  },
  {
   "cell_type": "code",
   "execution_count": 125,
   "id": "51824c91",
   "metadata": {},
   "outputs": [
    {
     "data": {
      "text/plain": [
       "4"
      ]
     },
     "execution_count": 125,
     "metadata": {},
     "output_type": "execute_result"
    }
   ],
   "source": [
    "next(my_iter)"
   ]
  },
  {
   "cell_type": "code",
   "execution_count": 126,
   "id": "e4a8d0a8",
   "metadata": {},
   "outputs": [
    {
     "data": {
      "text/plain": [
       "5"
      ]
     },
     "execution_count": 126,
     "metadata": {},
     "output_type": "execute_result"
    }
   ],
   "source": [
    "next(my_iter)"
   ]
  },
  {
   "cell_type": "code",
   "execution_count": 127,
   "id": "c46ae306",
   "metadata": {},
   "outputs": [
    {
     "data": {
      "text/plain": [
       "6"
      ]
     },
     "execution_count": 127,
     "metadata": {},
     "output_type": "execute_result"
    }
   ],
   "source": [
    "next(my_iter)"
   ]
  },
  {
   "cell_type": "code",
   "execution_count": 128,
   "id": "0556c395",
   "metadata": {},
   "outputs": [
    {
     "ename": "StopIteration",
     "evalue": "",
     "output_type": "error",
     "traceback": [
      "\u001b[1;31m---------------------------------------------------------------------------\u001b[0m",
      "\u001b[1;31mStopIteration\u001b[0m                             Traceback (most recent call last)",
      "Input \u001b[1;32mIn [128]\u001b[0m, in \u001b[0;36m<cell line: 1>\u001b[1;34m()\u001b[0m\n\u001b[1;32m----> 1\u001b[0m \u001b[38;5;28;43mnext\u001b[39;49m\u001b[43m(\u001b[49m\u001b[43mmy_iter\u001b[49m\u001b[43m)\u001b[49m\n",
      "\u001b[1;31mStopIteration\u001b[0m: "
     ]
    }
   ],
   "source": [
    "next(my_iter)"
   ]
  },
  {
   "cell_type": "code",
   "execution_count": 129,
   "id": "078f8c8b",
   "metadata": {},
   "outputs": [],
   "source": [
    "class my_even_iter_class:\n",
    "    def __init__(self, max_val):\n",
    "        self.max_val = max_val\n",
    "    \n",
    "    def __iter__(self):\n",
    "        self.n = 0\n",
    "        return self\n",
    "    \n",
    "    #For Python 3.x\n",
    "    def __next__(self):\n",
    "        if self.n <self.max_val:\n",
    "            self.n += 2\n",
    "            return self.n\n",
    "        else:\n",
    "            raise StopIteration\n",
    "    \n",
    "    #For Python 2.x\n",
    "    def next(self):\n",
    "        return self.__next__()"
   ]
  },
  {
   "cell_type": "code",
   "execution_count": 130,
   "id": "47828c10",
   "metadata": {},
   "outputs": [],
   "source": [
    "my_even_obj = my_even_iter_class(6)"
   ]
  },
  {
   "cell_type": "code",
   "execution_count": 131,
   "id": "fa9dbd22",
   "metadata": {},
   "outputs": [],
   "source": [
    "my_even_iter = iter(my_even_obj)"
   ]
  },
  {
   "cell_type": "code",
   "execution_count": 132,
   "id": "dbd6a513",
   "metadata": {},
   "outputs": [
    {
     "data": {
      "text/plain": [
       "2"
      ]
     },
     "execution_count": 132,
     "metadata": {},
     "output_type": "execute_result"
    }
   ],
   "source": [
    "next(my_even_iter)"
   ]
  },
  {
   "cell_type": "code",
   "execution_count": 133,
   "id": "993c22c9",
   "metadata": {},
   "outputs": [
    {
     "data": {
      "text/plain": [
       "4"
      ]
     },
     "execution_count": 133,
     "metadata": {},
     "output_type": "execute_result"
    }
   ],
   "source": [
    "next(my_even_iter)"
   ]
  },
  {
   "cell_type": "code",
   "execution_count": 134,
   "id": "7eb7befd",
   "metadata": {},
   "outputs": [
    {
     "data": {
      "text/plain": [
       "6"
      ]
     },
     "execution_count": 134,
     "metadata": {},
     "output_type": "execute_result"
    }
   ],
   "source": [
    "next(my_even_iter)"
   ]
  },
  {
   "cell_type": "code",
   "execution_count": 135,
   "id": "740a2722",
   "metadata": {},
   "outputs": [
    {
     "ename": "StopIteration",
     "evalue": "",
     "output_type": "error",
     "traceback": [
      "\u001b[1;31m---------------------------------------------------------------------------\u001b[0m",
      "\u001b[1;31mStopIteration\u001b[0m                             Traceback (most recent call last)",
      "Input \u001b[1;32mIn [135]\u001b[0m, in \u001b[0;36m<cell line: 1>\u001b[1;34m()\u001b[0m\n\u001b[1;32m----> 1\u001b[0m \u001b[38;5;28;43mnext\u001b[39;49m\u001b[43m(\u001b[49m\u001b[43mmy_even_iter\u001b[49m\u001b[43m)\u001b[49m\n",
      "Input \u001b[1;32mIn [129]\u001b[0m, in \u001b[0;36mmy_even_iter_class.__next__\u001b[1;34m(self)\u001b[0m\n\u001b[0;32m     13\u001b[0m     \u001b[38;5;28;01mreturn\u001b[39;00m \u001b[38;5;28mself\u001b[39m\u001b[38;5;241m.\u001b[39mn\n\u001b[0;32m     14\u001b[0m \u001b[38;5;28;01melse\u001b[39;00m:\n\u001b[1;32m---> 15\u001b[0m     \u001b[38;5;28;01mraise\u001b[39;00m \u001b[38;5;167;01mStopIteration\u001b[39;00m\n",
      "\u001b[1;31mStopIteration\u001b[0m: "
     ]
    }
   ],
   "source": [
    "next(my_even_iter)"
   ]
  },
  {
   "cell_type": "markdown",
   "id": "0c4e2812",
   "metadata": {},
   "source": [
    "## Itertools modul\n",
    "\n",
    "Modul za operacije nad iteratorima. Podrzava efikasanije i kompleksije iteratore."
   ]
  },
  {
   "cell_type": "code",
   "execution_count": 136,
   "id": "8d17929a",
   "metadata": {},
   "outputs": [],
   "source": [
    "from itertools import *"
   ]
  },
  {
   "cell_type": "markdown",
   "id": "1e4492e6",
   "metadata": {},
   "source": [
    "### Count"
   ]
  },
  {
   "cell_type": "code",
   "execution_count": null,
   "id": "4da9bb73",
   "metadata": {},
   "outputs": [],
   "source": [
    "#count(start,[step])"
   ]
  },
  {
   "cell_type": "code",
   "execution_count": 137,
   "id": "a5041189",
   "metadata": {},
   "outputs": [
    {
     "name": "stdout",
     "output_type": "stream",
     "text": [
      "2\n",
      "5\n",
      "8\n",
      "11\n",
      "14\n",
      "17\n",
      "20\n",
      "23\n",
      "26\n",
      "29\n"
     ]
    }
   ],
   "source": [
    "for i in count(2,3):\n",
    "    if i>30:\n",
    "        break\n",
    "    else:\n",
    "        print(i)"
   ]
  },
  {
   "cell_type": "markdown",
   "id": "6175e098",
   "metadata": {},
   "source": [
    "### cycle"
   ]
  },
  {
   "cell_type": "code",
   "execution_count": 138,
   "id": "f53cf0c6",
   "metadata": {},
   "outputs": [],
   "source": [
    "my_list = [1, 2, 3, 4, 5, 6]"
   ]
  },
  {
   "cell_type": "code",
   "execution_count": 139,
   "id": "7d80e143",
   "metadata": {},
   "outputs": [
    {
     "name": "stdout",
     "output_type": "stream",
     "text": [
      "1\n",
      "2\n",
      "3\n",
      "4\n",
      "5\n",
      "6\n",
      "1\n",
      "2\n",
      "3\n",
      "4\n",
      "5\n",
      "6\n",
      "1\n",
      "2\n"
     ]
    }
   ],
   "source": [
    "c = 1\n",
    "for x in cycle(my_list):\n",
    "    if c>14:\n",
    "        break\n",
    "    else:\n",
    "        print(x)\n",
    "    c+=1"
   ]
  },
  {
   "cell_type": "markdown",
   "id": "017b78b8",
   "metadata": {},
   "source": [
    "### repeat"
   ]
  },
  {
   "cell_type": "code",
   "execution_count": 140,
   "id": "d8d48c1e",
   "metadata": {},
   "outputs": [],
   "source": [
    "my_list_str = [\"hello\", \"world\", \"yolo\", \"swag\"]"
   ]
  },
  {
   "cell_type": "code",
   "execution_count": 141,
   "id": "77a829cb",
   "metadata": {},
   "outputs": [
    {
     "name": "stdout",
     "output_type": "stream",
     "text": [
      "['hello', 'world', 'yolo', 'swag']\n",
      "['hello', 'world', 'yolo', 'swag']\n",
      "['hello', 'world', 'yolo', 'swag']\n",
      "['hello', 'world', 'yolo', 'swag']\n",
      "['hello', 'world', 'yolo', 'swag']\n",
      "['hello', 'world', 'yolo', 'swag']\n",
      "['hello', 'world', 'yolo', 'swag']\n"
     ]
    }
   ],
   "source": [
    "for x in repeat(my_list_str, 7):\n",
    "    print(x)"
   ]
  },
  {
   "cell_type": "markdown",
   "id": "544f8e13",
   "metadata": {},
   "source": [
    "### permutations"
   ]
  },
  {
   "cell_type": "code",
   "execution_count": 142,
   "id": "fe26b3f8",
   "metadata": {},
   "outputs": [
    {
     "name": "stdout",
     "output_type": "stream",
     "text": [
      "(1, 2)\n",
      "(1, 3)\n",
      "(1, 4)\n",
      "(1, 5)\n",
      "(1, 6)\n",
      "(2, 1)\n",
      "(2, 3)\n",
      "(2, 4)\n",
      "(2, 5)\n",
      "(2, 6)\n",
      "(3, 1)\n",
      "(3, 2)\n",
      "(3, 4)\n",
      "(3, 5)\n",
      "(3, 6)\n",
      "(4, 1)\n",
      "(4, 2)\n",
      "(4, 3)\n",
      "(4, 5)\n",
      "(4, 6)\n",
      "(5, 1)\n",
      "(5, 2)\n",
      "(5, 3)\n",
      "(5, 4)\n",
      "(5, 6)\n",
      "(6, 1)\n",
      "(6, 2)\n",
      "(6, 3)\n",
      "(6, 4)\n",
      "(6, 5)\n"
     ]
    }
   ],
   "source": [
    "for x in permutations(my_list,2):\n",
    "    print(x)"
   ]
  },
  {
   "cell_type": "markdown",
   "id": "63dc483b",
   "metadata": {},
   "source": [
    "### combination"
   ]
  },
  {
   "cell_type": "code",
   "execution_count": 143,
   "id": "8f16a309",
   "metadata": {},
   "outputs": [
    {
     "name": "stdout",
     "output_type": "stream",
     "text": [
      "(1, 2)\n",
      "(1, 3)\n",
      "(1, 4)\n",
      "(1, 5)\n",
      "(1, 6)\n",
      "(2, 3)\n",
      "(2, 4)\n",
      "(2, 5)\n",
      "(2, 6)\n",
      "(3, 4)\n",
      "(3, 5)\n",
      "(3, 6)\n",
      "(4, 5)\n",
      "(4, 6)\n",
      "(5, 6)\n"
     ]
    }
   ],
   "source": [
    "for x in combinations(my_list,2):\n",
    "    print(x)"
   ]
  },
  {
   "cell_type": "markdown",
   "id": "699909aa",
   "metadata": {},
   "source": [
    "### combination_with_replacement"
   ]
  },
  {
   "cell_type": "code",
   "execution_count": 144,
   "id": "281365cb",
   "metadata": {},
   "outputs": [
    {
     "name": "stdout",
     "output_type": "stream",
     "text": [
      "(1, 1)\n",
      "(1, 2)\n",
      "(1, 3)\n",
      "(1, 4)\n",
      "(1, 5)\n",
      "(1, 6)\n",
      "(2, 2)\n",
      "(2, 3)\n",
      "(2, 4)\n",
      "(2, 5)\n",
      "(2, 6)\n",
      "(3, 3)\n",
      "(3, 4)\n",
      "(3, 5)\n",
      "(3, 6)\n",
      "(4, 4)\n",
      "(4, 5)\n",
      "(4, 6)\n",
      "(5, 5)\n",
      "(5, 6)\n",
      "(6, 6)\n"
     ]
    }
   ],
   "source": [
    "for x in combinations_with_replacement(my_list,2):\n",
    "    print(x)"
   ]
  },
  {
   "cell_type": "markdown",
   "id": "7614e8a9",
   "metadata": {},
   "source": [
    "### product"
   ]
  },
  {
   "cell_type": "code",
   "execution_count": 145,
   "id": "12c6b008",
   "metadata": {},
   "outputs": [
    {
     "name": "stdout",
     "output_type": "stream",
     "text": [
      "(1, 'hello')\n",
      "(1, 'world')\n",
      "(1, 'yolo')\n",
      "(1, 'swag')\n",
      "(2, 'hello')\n",
      "(2, 'world')\n",
      "(2, 'yolo')\n",
      "(2, 'swag')\n",
      "(3, 'hello')\n",
      "(3, 'world')\n",
      "(3, 'yolo')\n",
      "(3, 'swag')\n",
      "(4, 'hello')\n",
      "(4, 'world')\n",
      "(4, 'yolo')\n",
      "(4, 'swag')\n",
      "(5, 'hello')\n",
      "(5, 'world')\n",
      "(5, 'yolo')\n",
      "(5, 'swag')\n",
      "(6, 'hello')\n",
      "(6, 'world')\n",
      "(6, 'yolo')\n",
      "(6, 'swag')\n"
     ]
    }
   ],
   "source": [
    "for x in product(my_list, my_list_str):\n",
    "    print(x)"
   ]
  },
  {
   "cell_type": "markdown",
   "id": "3cddb81c",
   "metadata": {},
   "source": [
    "### chain"
   ]
  },
  {
   "cell_type": "code",
   "execution_count": 146,
   "id": "5fd4b1d9",
   "metadata": {},
   "outputs": [
    {
     "name": "stdout",
     "output_type": "stream",
     "text": [
      "1\n",
      "2\n",
      "3\n",
      "4\n",
      "5\n",
      "6\n",
      "hello\n",
      "world\n",
      "yolo\n",
      "swag\n",
      "t\n",
      "h\n",
      "i\n",
      "s\n",
      " \n",
      "i\n",
      "s\n",
      " \n",
      "a\n",
      " \n",
      "s\n",
      "t\n",
      "r\n",
      "i\n",
      "n\n",
      "g\n"
     ]
    }
   ],
   "source": [
    "for x in chain(my_list, my_list_str, \"this is a string\"):\n",
    "    print(x)"
   ]
  },
  {
   "cell_type": "markdown",
   "id": "e907faff",
   "metadata": {},
   "source": [
    "### ?? imap"
   ]
  },
  {
   "cell_type": "code",
   "execution_count": 147,
   "id": "c222c870",
   "metadata": {},
   "outputs": [
    {
     "name": "stdout",
     "output_type": "stream",
     "text": [
      "1\n",
      "32\n"
     ]
    }
   ],
   "source": [
    "for x in map(pow, [1, 2, 3], [4, 5]):\n",
    "    print(x)"
   ]
  },
  {
   "cell_type": "code",
   "execution_count": 149,
   "id": "b1f28d9f",
   "metadata": {},
   "outputs": [
    {
     "name": "stdout",
     "output_type": "stream",
     "text": [
      "1\n",
      "32\n"
     ]
    }
   ],
   "source": [
    "#sad je map implementirano da radi, vidjeti gornji primjer, razlicite su duzine..ne treba imap??\n",
    "for x in map(pow, [1, 2, 3], [4, 5]):\n",
    "    print(x)"
   ]
  },
  {
   "cell_type": "markdown",
   "id": "5d2a47f3",
   "metadata": {},
   "source": [
    "### starmap"
   ]
  },
  {
   "cell_type": "code",
   "execution_count": 150,
   "id": "0b5d8e52",
   "metadata": {},
   "outputs": [
    {
     "name": "stdout",
     "output_type": "stream",
     "text": [
      "1\n",
      "8\n",
      "15625\n"
     ]
    }
   ],
   "source": [
    "for x in starmap(pow, [(1, 4), (2, 3), (5, 6)]):\n",
    "    print(x)"
   ]
  },
  {
   "cell_type": "code",
   "execution_count": 151,
   "id": "55c10a14",
   "metadata": {},
   "outputs": [
    {
     "name": "stdout",
     "output_type": "stream",
     "text": [
      "1\n",
      "8\n",
      "15625\n"
     ]
    }
   ],
   "source": [
    "for x in map(pow, [1, 2, 5], [4, 3, 6]):\n",
    "    print(x)"
   ]
  },
  {
   "cell_type": "markdown",
   "id": "e5629662",
   "metadata": {},
   "source": [
    "### zip"
   ]
  },
  {
   "cell_type": "code",
   "execution_count": 152,
   "id": "b3b3ce45",
   "metadata": {},
   "outputs": [
    {
     "name": "stdout",
     "output_type": "stream",
     "text": [
      "(1, 'x')\n",
      "(2, 'y')\n",
      "(3, 'z')\n",
      "(4, 'A')\n",
      "(5, 'B')\n",
      "(6, 'C')\n"
     ]
    }
   ],
   "source": [
    "for x in zip(my_list, \"xyzABC\"):\n",
    "    print(x)"
   ]
  },
  {
   "cell_type": "markdown",
   "id": "fee46020",
   "metadata": {},
   "source": [
    "### ?? izip"
   ]
  },
  {
   "cell_type": "code",
   "execution_count": 154,
   "id": "5214b91a",
   "metadata": {},
   "outputs": [
    {
     "ename": "NameError",
     "evalue": "name 'izip' is not defined",
     "output_type": "error",
     "traceback": [
      "\u001b[1;31m---------------------------------------------------------------------------\u001b[0m",
      "\u001b[1;31mNameError\u001b[0m                                 Traceback (most recent call last)",
      "Input \u001b[1;32mIn [154]\u001b[0m, in \u001b[0;36m<cell line: 1>\u001b[1;34m()\u001b[0m\n\u001b[1;32m----> 1\u001b[0m \u001b[38;5;28;01mfor\u001b[39;00m x \u001b[38;5;129;01min\u001b[39;00m \u001b[43mizip\u001b[49m(my_list, \u001b[38;5;124m\"\u001b[39m\u001b[38;5;124mxyzABC\u001b[39m\u001b[38;5;124m\"\u001b[39m):\n\u001b[0;32m      2\u001b[0m     \u001b[38;5;28mprint\u001b[39m(x)\n",
      "\u001b[1;31mNameError\u001b[0m: name 'izip' is not defined"
     ]
    }
   ],
   "source": [
    "for x in izip(my_list, \"xyzABC\"):\n",
    "    print(x)"
   ]
  },
  {
   "cell_type": "code",
   "execution_count": 155,
   "id": "c0ffb544",
   "metadata": {},
   "outputs": [
    {
     "ename": "NameError",
     "evalue": "name 'izip' is not defined",
     "output_type": "error",
     "traceback": [
      "\u001b[1;31m---------------------------------------------------------------------------\u001b[0m",
      "\u001b[1;31mNameError\u001b[0m                                 Traceback (most recent call last)",
      "Input \u001b[1;32mIn [155]\u001b[0m, in \u001b[0;36m<cell line: 1>\u001b[1;34m()\u001b[0m\n\u001b[1;32m----> 1\u001b[0m \u001b[38;5;28mprint\u001b[39m(\u001b[38;5;28mtype\u001b[39m(\u001b[43mizip\u001b[49m(my_list, \u001b[38;5;124m\"\u001b[39m\u001b[38;5;124mxyzABC\u001b[39m\u001b[38;5;124m\"\u001b[39m)))\n",
      "\u001b[1;31mNameError\u001b[0m: name 'izip' is not defined"
     ]
    }
   ],
   "source": [
    "print(type(izip(my_list, \"xyzABC\")))"
   ]
  },
  {
   "cell_type": "code",
   "execution_count": 156,
   "id": "78b78e14",
   "metadata": {},
   "outputs": [
    {
     "name": "stdout",
     "output_type": "stream",
     "text": [
      "<class 'zip'>\n"
     ]
    }
   ],
   "source": [
    "#vise nije type list, kako je bilo u pythonu 2, sad je zip, kao sto ima tip map i filter...\n",
    "print(type(zip(my_list, \"xyzABC\")))"
   ]
  },
  {
   "cell_type": "code",
   "execution_count": 157,
   "id": "bddc3fa2",
   "metadata": {},
   "outputs": [
    {
     "name": "stdout",
     "output_type": "stream",
     "text": [
      "(1, 'x')\n",
      "(2, 'y')\n",
      "(3, 'z')\n",
      "(4, 'A')\n",
      "(5, 'B')\n",
      "(6, 'C')\n"
     ]
    }
   ],
   "source": [
    "#nema potrebe za izip, zip ovdje radi fino, promjena u pythonu 3...\n",
    "for x in zip(my_list, \"xyzABCDEF\"):\n",
    "    print(x)"
   ]
  },
  {
   "cell_type": "markdown",
   "id": "52942ca2",
   "metadata": {},
   "source": [
    "### ?? izip longest"
   ]
  },
  {
   "cell_type": "code",
   "execution_count": 158,
   "id": "0a8c5cc4",
   "metadata": {},
   "outputs": [
    {
     "name": "stdout",
     "output_type": "stream",
     "text": [
      "(1, 'x')\n",
      "(2, 'y')\n",
      "(3, 'z')\n",
      "(4, 'A')\n",
      "(5, 'B')\n",
      "(6, 'C')\n",
      "(None, 'D')\n",
      "(None, 'E')\n",
      "(None, 'F')\n"
     ]
    }
   ],
   "source": [
    "#nije vise izip longest vec zip longest u pythonu 3\n",
    "for x in zip_longest(my_list, \"xyzABCDEF\"):\n",
    "    print(x)"
   ]
  },
  {
   "cell_type": "code",
   "execution_count": 159,
   "id": "8b15922b",
   "metadata": {},
   "outputs": [
    {
     "name": "stdout",
     "output_type": "stream",
     "text": [
      "(1, 'x')\n",
      "(2, 'y')\n",
      "(3, 'z')\n",
      "(4, 'A')\n",
      "(5, 'B')\n",
      "(6, 'C')\n",
      "('NA', 'D')\n",
      "('NA', 'E')\n",
      "('NA', 'F')\n"
     ]
    }
   ],
   "source": [
    "for x in zip_longest(my_list, \"xyzABCDEF\",fillvalue=\"NA\"):\n",
    "    print(x)"
   ]
  },
  {
   "cell_type": "markdown",
   "id": "7f6503e2",
   "metadata": {},
   "source": [
    "### ?? ifilter"
   ]
  },
  {
   "cell_type": "code",
   "execution_count": 160,
   "id": "4233c68c",
   "metadata": {},
   "outputs": [
    {
     "name": "stdout",
     "output_type": "stream",
     "text": [
      "2\n",
      "4\n",
      "6\n"
     ]
    }
   ],
   "source": [
    "#radi sa filter u pythinu 3...\n",
    "for x in filter(lambda x: x%2==0, my_list):\n",
    "    print(x)"
   ]
  },
  {
   "cell_type": "code",
   "execution_count": 161,
   "id": "bbc91f5e",
   "metadata": {},
   "outputs": [
    {
     "name": "stdout",
     "output_type": "stream",
     "text": [
      "<class 'filter'>\n"
     ]
    }
   ],
   "source": [
    "#radi sam filter u pythonu 3...\n",
    "print(type(filter(lambda x: x%2==0, my_list)))"
   ]
  },
  {
   "cell_type": "code",
   "execution_count": 162,
   "id": "4da62854",
   "metadata": {},
   "outputs": [
    {
     "name": "stdout",
     "output_type": "stream",
     "text": [
      "<class 'filter'>\n"
     ]
    }
   ],
   "source": [
    "print(type(filter(lambda x: x%2==0, my_list)))"
   ]
  },
  {
   "cell_type": "markdown",
   "id": "a467788c",
   "metadata": {},
   "source": [
    "### ?? ifilterfalse"
   ]
  },
  {
   "cell_type": "code",
   "execution_count": 163,
   "id": "c6fe5d98",
   "metadata": {},
   "outputs": [
    {
     "name": "stdout",
     "output_type": "stream",
     "text": [
      "1\n",
      "3\n",
      "5\n"
     ]
    }
   ],
   "source": [
    "#radi sa filterfalse u pythonu 3\n",
    "for x in filterfalse(lambda x: x%2==0, my_list):\n",
    "    print(x)"
   ]
  },
  {
   "cell_type": "markdown",
   "id": "21981d94",
   "metadata": {},
   "source": [
    "### compress"
   ]
  },
  {
   "cell_type": "code",
   "execution_count": 164,
   "id": "370cb586",
   "metadata": {},
   "outputs": [
    {
     "name": "stdout",
     "output_type": "stream",
     "text": [
      "1\n",
      "2\n",
      "5\n"
     ]
    }
   ],
   "source": [
    "for x in compress(my_list, [True, 1, 0, None, \"hello\"]):\n",
    "    print(x)"
   ]
  },
  {
   "cell_type": "code",
   "execution_count": 165,
   "id": "23e7da89",
   "metadata": {},
   "outputs": [
    {
     "name": "stdout",
     "output_type": "stream",
     "text": [
      "1\n",
      "2\n"
     ]
    }
   ],
   "source": [
    "for x in compress([1, 2], [True, 1, 0, None, \"hello\"]):\n",
    "    print(x)"
   ]
  },
  {
   "cell_type": "markdown",
   "id": "c8c878e2",
   "metadata": {},
   "source": [
    "### takewhile"
   ]
  },
  {
   "cell_type": "code",
   "execution_count": 166,
   "id": "6b7cae9c",
   "metadata": {},
   "outputs": [
    {
     "name": "stdout",
     "output_type": "stream",
     "text": [
      "1\n",
      "2\n"
     ]
    }
   ],
   "source": [
    "for x in takewhile(lambda x: x<3, [1, 2, 3, 4, 5]):\n",
    "    print(x)"
   ]
  },
  {
   "cell_type": "markdown",
   "id": "c54497c1",
   "metadata": {},
   "source": [
    "### dropwhile"
   ]
  },
  {
   "cell_type": "code",
   "execution_count": 167,
   "id": "6908339e",
   "metadata": {},
   "outputs": [
    {
     "name": "stdout",
     "output_type": "stream",
     "text": [
      "3\n",
      "4\n",
      "5\n"
     ]
    }
   ],
   "source": [
    "for x in dropwhile(lambda x: x<3, [1, 2, 3, 4, 5]):\n",
    "    print(x)"
   ]
  },
  {
   "cell_type": "markdown",
   "id": "5c3aa3c1",
   "metadata": {},
   "source": [
    "### tee"
   ]
  },
  {
   "cell_type": "code",
   "execution_count": 168,
   "id": "47e4f168",
   "metadata": {},
   "outputs": [],
   "source": [
    "iter_1, iter_2, iter_3 = tee(my_list, 3)"
   ]
  },
  {
   "cell_type": "code",
   "execution_count": 169,
   "id": "26d35ba4",
   "metadata": {},
   "outputs": [
    {
     "name": "stdout",
     "output_type": "stream",
     "text": [
      "1\n",
      "2\n",
      "3\n",
      "4\n",
      "5\n",
      "6\n"
     ]
    }
   ],
   "source": [
    "for x in iter_1:\n",
    "    print(x)"
   ]
  },
  {
   "cell_type": "code",
   "execution_count": 170,
   "id": "b5cad3c5",
   "metadata": {},
   "outputs": [
    {
     "name": "stdout",
     "output_type": "stream",
     "text": [
      "1\n",
      "2\n",
      "3\n",
      "4\n",
      "5\n",
      "6\n"
     ]
    }
   ],
   "source": [
    "for x in iter_2:\n",
    "    print(x)"
   ]
  },
  {
   "cell_type": "code",
   "execution_count": 171,
   "id": "61905b52",
   "metadata": {},
   "outputs": [
    {
     "name": "stdout",
     "output_type": "stream",
     "text": [
      "1\n",
      "2\n",
      "3\n",
      "4\n",
      "5\n",
      "6\n"
     ]
    }
   ],
   "source": [
    "for x in iter_3:\n",
    "    print(x)"
   ]
  },
  {
   "cell_type": "markdown",
   "id": "c11dc46f",
   "metadata": {},
   "source": [
    "## Modul functools\n",
    "\n",
    "Ovaj modul obuhvata set funkcija za upotrebu sa funkcijama viseg reda. Funkcija **reduce** se nalazi u ovom modulu."
   ]
  },
  {
   "cell_type": "code",
   "execution_count": 172,
   "id": "99fc6eff",
   "metadata": {},
   "outputs": [],
   "source": [
    "from functools import total_ordering, reduce"
   ]
  },
  {
   "cell_type": "markdown",
   "id": "8aff23ba",
   "metadata": {},
   "source": [
    "### functools.total_ordering\n",
    "\n",
    "Implementacijom metoda __eq__() i nekog od metoda  __lt__(), __le__(), __gt__(), ili __ge__(), ostali ce biti implementirani automatski."
   ]
  },
  {
   "cell_type": "code",
   "execution_count": 173,
   "id": "9e3a6645",
   "metadata": {},
   "outputs": [],
   "source": [
    "@total_ordering\n",
    "class Student:\n",
    "    def __init__(self, fname, lname, rank):\n",
    "        self.first_name = fname\n",
    "        self.last_name = lname\n",
    "        self.rank = rank\n",
    "    \n",
    "    def __eq__(self, other):\n",
    "        return (self.first_name == other.first_name) and (self.last_name == other.last_name) and (self.rank == other.rank)\n",
    "    \n",
    "    def __lt__(self, other):\n",
    "        return (self.first_name, self.last_name, self.rank ) <\\\n",
    "                (other.first_name, other.last_name, other.rank )"
   ]
  },
  {
   "cell_type": "code",
   "execution_count": 174,
   "id": "d43fbda4",
   "metadata": {},
   "outputs": [],
   "source": [
    "stud1 = Student(\"hello\", \"world\", 42)"
   ]
  },
  {
   "cell_type": "code",
   "execution_count": 175,
   "id": "281fef13",
   "metadata": {},
   "outputs": [],
   "source": [
    "stud2 = Student(\"bye\", \"world\", 43)"
   ]
  },
  {
   "cell_type": "code",
   "execution_count": 176,
   "id": "e7d260a8",
   "metadata": {},
   "outputs": [],
   "source": [
    "stud3 = Student(\"bye\", \"yolo\", 11)"
   ]
  },
  {
   "cell_type": "code",
   "execution_count": 177,
   "id": "c6abedb3",
   "metadata": {},
   "outputs": [],
   "source": [
    "stud4 = Student(\"bye\", \"world\", 46)"
   ]
  },
  {
   "cell_type": "code",
   "execution_count": 178,
   "id": "f19dfbad",
   "metadata": {},
   "outputs": [
    {
     "data": {
      "text/plain": [
       "False"
      ]
     },
     "execution_count": 178,
     "metadata": {},
     "output_type": "execute_result"
    }
   ],
   "source": [
    "stud1 == stud2"
   ]
  },
  {
   "cell_type": "code",
   "execution_count": 179,
   "id": "5fd1e545",
   "metadata": {},
   "outputs": [
    {
     "data": {
      "text/plain": [
       "False"
      ]
     },
     "execution_count": 179,
     "metadata": {},
     "output_type": "execute_result"
    }
   ],
   "source": [
    "stud1 < stud2"
   ]
  },
  {
   "cell_type": "code",
   "execution_count": 180,
   "id": "11a1429b",
   "metadata": {},
   "outputs": [
    {
     "data": {
      "text/plain": [
       "False"
      ]
     },
     "execution_count": 180,
     "metadata": {},
     "output_type": "execute_result"
    }
   ],
   "source": [
    "stud2 >= stud4"
   ]
  },
  {
   "cell_type": "code",
   "execution_count": 181,
   "id": "acf5eda3",
   "metadata": {},
   "outputs": [
    {
     "data": {
      "text/plain": [
       "True"
      ]
     },
     "execution_count": 181,
     "metadata": {},
     "output_type": "execute_result"
    }
   ],
   "source": [
    "stud1 > stud2"
   ]
  },
  {
   "cell_type": "code",
   "execution_count": 182,
   "id": "86379226",
   "metadata": {},
   "outputs": [],
   "source": [
    "@total_ordering\n",
    "class BankBalance:\n",
    "    def __init__(self, name='', balance=0):\n",
    "        self.name = name\n",
    "        self.balance = balance\n",
    "    \n",
    "    def __eq__(self, other):\n",
    "        return (self.name, self.balance) == (other.name, other.balance)\n",
    "    \n",
    "    def __gt__(self, other):\n",
    "        return (self.name, self.balance) > (other.name, other.balance)"
   ]
  },
  {
   "cell_type": "code",
   "execution_count": 183,
   "id": "5aa6916f",
   "metadata": {},
   "outputs": [],
   "source": [
    "acc1 = BankBalance(\"Adam\", 10)\n",
    "acc2 = BankBalance(\"Bob\", 100)"
   ]
  },
  {
   "cell_type": "code",
   "execution_count": 184,
   "id": "3edfa683",
   "metadata": {},
   "outputs": [
    {
     "data": {
      "text/plain": [
       "False"
      ]
     },
     "execution_count": 184,
     "metadata": {},
     "output_type": "execute_result"
    }
   ],
   "source": [
    "acc1 == acc2"
   ]
  },
  {
   "cell_type": "markdown",
   "id": "9c162e2c",
   "metadata": {},
   "source": [
    "### __lt__ is implemented automatically"
   ]
  },
  {
   "cell_type": "code",
   "execution_count": 185,
   "id": "bbb31473",
   "metadata": {},
   "outputs": [
    {
     "data": {
      "text/plain": [
       "True"
      ]
     },
     "execution_count": 185,
     "metadata": {},
     "output_type": "execute_result"
    }
   ],
   "source": [
    "acc1<acc2"
   ]
  },
  {
   "cell_type": "markdown",
   "id": "9a95579c",
   "metadata": {},
   "source": [
    "### functools.reduce\n",
    "\n",
    "Reduce() primjenjuje funkciju koja uzima dva elementa iteratora sa lijeva na desno, akumulirajuci tako sve vrijednosti u jednu koju vrati na kraju"
   ]
  },
  {
   "cell_type": "code",
   "execution_count": 186,
   "id": "7a96b706",
   "metadata": {},
   "outputs": [],
   "source": [
    "my_list = [1, 2, 3, 4, 5, 6]"
   ]
  },
  {
   "cell_type": "code",
   "execution_count": 187,
   "id": "af67e9b2",
   "metadata": {},
   "outputs": [
    {
     "data": {
      "text/plain": [
       "21"
      ]
     },
     "execution_count": 187,
     "metadata": {},
     "output_type": "execute_result"
    }
   ],
   "source": [
    "reduce(lambda x,y: x+y, my_list)"
   ]
  },
  {
   "cell_type": "markdown",
   "id": "b299a7e2",
   "metadata": {},
   "source": [
    "Interno se obavljaju ove operacije:"
   ]
  },
  {
   "cell_type": "code",
   "execution_count": 188,
   "id": "b7f9a9ed",
   "metadata": {},
   "outputs": [
    {
     "data": {
      "text/plain": [
       "21"
      ]
     },
     "execution_count": 188,
     "metadata": {},
     "output_type": "execute_result"
    }
   ],
   "source": [
    "((((1 + 2) + 3) + 4) + 5 + 6)"
   ]
  },
  {
   "cell_type": "code",
   "execution_count": 189,
   "id": "152f8ba5",
   "metadata": {},
   "outputs": [
    {
     "data": {
      "text/plain": [
       "720"
      ]
     },
     "execution_count": 189,
     "metadata": {},
     "output_type": "execute_result"
    }
   ],
   "source": [
    "reduce(lambda x,y: x*y, my_list)"
   ]
  },
  {
   "cell_type": "code",
   "execution_count": 190,
   "id": "4ae14f02",
   "metadata": {},
   "outputs": [
    {
     "data": {
      "text/plain": [
       "720"
      ]
     },
     "execution_count": 190,
     "metadata": {},
     "output_type": "execute_result"
    }
   ],
   "source": [
    "((((1 * 2) * 3) * 4) * 5 * 6)"
   ]
  },
  {
   "cell_type": "code",
   "execution_count": 191,
   "id": "9cdfb897",
   "metadata": {},
   "outputs": [
    {
     "data": {
      "text/plain": [
       "4096"
      ]
     },
     "execution_count": 191,
     "metadata": {},
     "output_type": "execute_result"
    }
   ],
   "source": [
    "my_list2 = [2, 3, 4]\n",
    "reduce(lambda x,y: x**y, my_list2)"
   ]
  },
  {
   "cell_type": "code",
   "execution_count": 192,
   "id": "30d8f1fd",
   "metadata": {},
   "outputs": [
    {
     "data": {
      "text/plain": [
       "4096"
      ]
     },
     "execution_count": 192,
     "metadata": {},
     "output_type": "execute_result"
    }
   ],
   "source": [
    "((2**3) ** 4) # 8**4"
   ]
  },
  {
   "cell_type": "markdown",
   "id": "e0b63a0f",
   "metadata": {},
   "source": [
    "#### Sa pocetnom vrijednoscu"
   ]
  },
  {
   "cell_type": "code",
   "execution_count": 193,
   "id": "e3968e8d",
   "metadata": {},
   "outputs": [
    {
     "name": "stdout",
     "output_type": "stream",
     "text": [
      "With initial value 31\n",
      "Without initial value 21\n"
     ]
    }
   ],
   "source": [
    "print(\"With initial value\", reduce(lambda x,y: x+y, my_list, 10))\n",
    "#equivalent to ((((1 + 2) + 3) + 4) + 5 + 6) + 10\n",
    "\n",
    "print(\"Without initial value\", reduce(lambda x,y: x+y, my_list))"
   ]
  },
  {
   "cell_type": "markdown",
   "id": "6bc1e913",
   "metadata": {},
   "source": [
    "### kombinovanje reduce i map funkcija"
   ]
  },
  {
   "cell_type": "markdown",
   "id": "ab0825b4",
   "metadata": {},
   "source": [
    "#### proizvod kvadrata"
   ]
  },
  {
   "cell_type": "code",
   "execution_count": 194,
   "id": "1b6d5d76",
   "metadata": {},
   "outputs": [],
   "source": [
    "my_new_list = [1, 2, 3, 4]"
   ]
  },
  {
   "cell_type": "code",
   "execution_count": 195,
   "id": "8db10b85",
   "metadata": {},
   "outputs": [
    {
     "data": {
      "text/plain": [
       "576"
      ]
     },
     "execution_count": 195,
     "metadata": {},
     "output_type": "execute_result"
    }
   ],
   "source": [
    "reduce(lambda x,y: x*y, map(lambda x: x**2, my_new_list))"
   ]
  },
  {
   "cell_type": "code",
   "execution_count": 196,
   "id": "6f9482a6",
   "metadata": {},
   "outputs": [
    {
     "data": {
      "text/plain": [
       "576"
      ]
     },
     "execution_count": 196,
     "metadata": {},
     "output_type": "execute_result"
    }
   ],
   "source": [
    "(((1**2 * 2**2) * 3**2 ) * 4**2)"
   ]
  },
  {
   "cell_type": "markdown",
   "id": "ed66e5eb",
   "metadata": {},
   "source": [
    "#### zbir kubova"
   ]
  },
  {
   "cell_type": "code",
   "execution_count": 197,
   "id": "d5a05292",
   "metadata": {},
   "outputs": [
    {
     "data": {
      "text/plain": [
       "100"
      ]
     },
     "execution_count": 197,
     "metadata": {},
     "output_type": "execute_result"
    }
   ],
   "source": [
    "reduce(lambda x,y: x+y, map(lambda x: x**3, my_new_list))"
   ]
  },
  {
   "cell_type": "code",
   "execution_count": 198,
   "id": "453a77c2",
   "metadata": {},
   "outputs": [
    {
     "data": {
      "text/plain": [
       "100"
      ]
     },
     "execution_count": 198,
     "metadata": {},
     "output_type": "execute_result"
    }
   ],
   "source": [
    "(((1**3 + 2**3) + 3**3 ) + 4**3)"
   ]
  },
  {
   "cell_type": "markdown",
   "id": "6ec33d5f",
   "metadata": {},
   "source": [
    "#### zbir inverznih elemenata niza"
   ]
  },
  {
   "cell_type": "code",
   "execution_count": 199,
   "id": "56ce349e",
   "metadata": {},
   "outputs": [
    {
     "data": {
      "text/plain": [
       "2.083333333333333"
      ]
     },
     "execution_count": 199,
     "metadata": {},
     "output_type": "execute_result"
    }
   ],
   "source": [
    "reduce(lambda x,y: x+y, map(lambda x: 1.0/x, my_new_list))"
   ]
  },
  {
   "cell_type": "code",
   "execution_count": 200,
   "id": "5853d089",
   "metadata": {},
   "outputs": [
    {
     "data": {
      "text/plain": [
       "2.083333333333333"
      ]
     },
     "execution_count": 200,
     "metadata": {},
     "output_type": "execute_result"
    }
   ],
   "source": [
    "(((1.0/1 + 1.0/2 ) + 1.0/3.0 ) + 1.0/4.0)"
   ]
  },
  {
   "cell_type": "markdown",
   "id": "55e7e099",
   "metadata": {},
   "source": [
    "## Dekoratori\n",
    "\n",
    "Dekorator uzima funkciju kao ulaz, promijeni je ili joj doda funkcionalnost i vrati novu funkciju. Dekoratori mogu biti primjenjeni na bilo koji **Callable** objekat - funkcije, metode ili klase (Callable je bilo sta sto se moze pozvati).\n"
   ]
  },
  {
   "cell_type": "code",
   "execution_count": 201,
   "id": "ed02d44d",
   "metadata": {},
   "outputs": [],
   "source": [
    "def my_function():\n",
    "    print(\"I am a simple function\")"
   ]
  },
  {
   "cell_type": "code",
   "execution_count": 202,
   "id": "0dd1876d",
   "metadata": {},
   "outputs": [
    {
     "name": "stdout",
     "output_type": "stream",
     "text": [
      "I am a simple function\n"
     ]
    }
   ],
   "source": [
    "my_function()"
   ]
  },
  {
   "cell_type": "code",
   "execution_count": 203,
   "id": "0fbfc190",
   "metadata": {},
   "outputs": [],
   "source": [
    "def my_decorator(my_func):\n",
    "    def wrapper_func():\n",
    "        print(\"Inside Decorator\")\n",
    "        my_func()\n",
    "        print(\"Decorator Finished\")\n",
    "    return wrapper_func"
   ]
  },
  {
   "cell_type": "code",
   "execution_count": 204,
   "id": "d76d756f",
   "metadata": {},
   "outputs": [],
   "source": [
    "my_decorated_function = my_decorator(my_function)"
   ]
  },
  {
   "cell_type": "code",
   "execution_count": 205,
   "id": "4f70353f",
   "metadata": {},
   "outputs": [
    {
     "name": "stdout",
     "output_type": "stream",
     "text": [
      "Inside Decorator\n",
      "I am a simple function\n",
      "Decorator Finished\n"
     ]
    }
   ],
   "source": [
    "my_decorated_function()"
   ]
  },
  {
   "cell_type": "markdown",
   "id": "f05a39b9",
   "metadata": {},
   "source": [
    "### Koriscenje @ notacije za dekorator"
   ]
  },
  {
   "cell_type": "code",
   "execution_count": 206,
   "id": "753f8715",
   "metadata": {},
   "outputs": [],
   "source": [
    "@my_decorator\n",
    "def my_other_simple_function():\n",
    "    print(\"I am another simple function\")"
   ]
  },
  {
   "cell_type": "code",
   "execution_count": 207,
   "id": "550159e8",
   "metadata": {},
   "outputs": [
    {
     "name": "stdout",
     "output_type": "stream",
     "text": [
      "Inside Decorator\n",
      "I am another simple function\n",
      "Decorator Finished\n"
     ]
    }
   ],
   "source": [
    "my_other_simple_function()"
   ]
  },
  {
   "cell_type": "markdown",
   "id": "9f08f440",
   "metadata": {},
   "source": [
    "### Ugnjezdeni dekoratori"
   ]
  },
  {
   "cell_type": "code",
   "execution_count": 208,
   "id": "30a2dc1f",
   "metadata": {},
   "outputs": [],
   "source": [
    "def run_multiple(num_times):\n",
    "    \n",
    "    def nested_decorator(my_func):\n",
    "    \n",
    "        def wrapper_run_multiple():\n",
    "            print(\"Inside Inner decorator\")\n",
    "            for i in range(0, num_times):\n",
    "                my_func()\n",
    "            print(\"Inner decorator finished\")\n",
    "            #wrapper finsihed\n",
    "\n",
    "        #Nested decorator finished\n",
    "        return wrapper_run_multiple\n",
    "    \n",
    "    return nested_decorator"
   ]
  },
  {
   "cell_type": "code",
   "execution_count": 209,
   "id": "9fe7e384",
   "metadata": {},
   "outputs": [],
   "source": [
    "@run_multiple(num_times=6)\n",
    "def just_another_simple_func():\n",
    "    print(\"I am just another simple function\")"
   ]
  },
  {
   "cell_type": "code",
   "execution_count": 210,
   "id": "aec3011a",
   "metadata": {},
   "outputs": [
    {
     "name": "stdout",
     "output_type": "stream",
     "text": [
      "Inside Inner decorator\n",
      "I am just another simple function\n",
      "I am just another simple function\n",
      "I am just another simple function\n",
      "I am just another simple function\n",
      "I am just another simple function\n",
      "I am just another simple function\n",
      "Inner decorator finished\n"
     ]
    }
   ],
   "source": [
    "just_another_simple_func()"
   ]
  },
  {
   "cell_type": "markdown",
   "id": "2710d531",
   "metadata": {},
   "source": [
    "### Koriscenje dekoratora sa argumentima"
   ]
  },
  {
   "cell_type": "code",
   "execution_count": 211,
   "id": "b840e144",
   "metadata": {},
   "outputs": [],
   "source": [
    "@run_multiple(num_times=8)\n",
    "def func_with_args(sen1, sen2):\n",
    "    print(sen1 + sen2)"
   ]
  },
  {
   "cell_type": "code",
   "execution_count": 212,
   "id": "f464a524",
   "metadata": {},
   "outputs": [
    {
     "ename": "TypeError",
     "evalue": "run_multiple.<locals>.nested_decorator.<locals>.wrapper_run_multiple() takes 0 positional arguments but 2 were given",
     "output_type": "error",
     "traceback": [
      "\u001b[1;31m---------------------------------------------------------------------------\u001b[0m",
      "\u001b[1;31mTypeError\u001b[0m                                 Traceback (most recent call last)",
      "Input \u001b[1;32mIn [212]\u001b[0m, in \u001b[0;36m<cell line: 1>\u001b[1;34m()\u001b[0m\n\u001b[1;32m----> 1\u001b[0m \u001b[43mfunc_with_args\u001b[49m\u001b[43m(\u001b[49m\u001b[38;5;124;43m\"\u001b[39;49m\u001b[38;5;124;43mhello\u001b[39;49m\u001b[38;5;124;43m\"\u001b[39;49m\u001b[43m,\u001b[49m\u001b[43m \u001b[49m\u001b[38;5;124;43m\"\u001b[39;49m\u001b[38;5;124;43mworld\u001b[39;49m\u001b[38;5;124;43m\"\u001b[39;49m\u001b[43m)\u001b[49m\n",
      "\u001b[1;31mTypeError\u001b[0m: run_multiple.<locals>.nested_decorator.<locals>.wrapper_run_multiple() takes 0 positional arguments but 2 were given"
     ]
    }
   ],
   "source": [
    "func_with_args(\"hello\", \"world\")"
   ]
  },
  {
   "cell_type": "code",
   "execution_count": 213,
   "id": "a9f9521f",
   "metadata": {},
   "outputs": [],
   "source": [
    "def decorator_with_args(my_func):\n",
    "    def wrapper_with_args(*args, **kwargs):\n",
    "        print(\"Inside decorator\")\n",
    "        my_func(*args, **kwargs)\n",
    "        print(\"Decoration done\")\n",
    "    return wrapper_with_args"
   ]
  },
  {
   "cell_type": "code",
   "execution_count": 214,
   "id": "56ee8b62",
   "metadata": {},
   "outputs": [],
   "source": [
    "@decorator_with_args\n",
    "def func_with_args(sen1, sen2):\n",
    "    print(sen1 + sen2)"
   ]
  },
  {
   "cell_type": "code",
   "execution_count": 215,
   "id": "387fddbd",
   "metadata": {},
   "outputs": [
    {
     "name": "stdout",
     "output_type": "stream",
     "text": [
      "Inside decorator\n",
      "helloworld\n",
      "Decoration done\n"
     ]
    }
   ],
   "source": [
    "func_with_args(\"hello\", \"world\")"
   ]
  },
  {
   "cell_type": "markdown",
   "id": "7b85d356",
   "metadata": {},
   "source": [
    "### Ugnjezdeni dekoratori sa argumentima"
   ]
  },
  {
   "cell_type": "code",
   "execution_count": 216,
   "id": "a9488dc8",
   "metadata": {},
   "outputs": [],
   "source": [
    "def run_multiple_nested(num_times):\n",
    "    \n",
    "    def decorator_with_args(my_func):\n",
    "    \n",
    "        def wrapper_with_args(*args, **kwargs):\n",
    "            print(\"Inside decorator\")\n",
    "            for i in range(0, num_times):\n",
    "                my_func(*args, **kwargs)\n",
    "            print(\"Decoration done\")\n",
    "        return wrapper_with_args\n",
    "    \n",
    "    return decorator_with_args"
   ]
  },
  {
   "cell_type": "code",
   "execution_count": 217,
   "id": "7e310598",
   "metadata": {},
   "outputs": [],
   "source": [
    "@run_multiple_nested(num_times=5)\n",
    "def func_with_args(sen1, sen2):\n",
    "    print(sen1 + sen2)"
   ]
  },
  {
   "cell_type": "code",
   "execution_count": 218,
   "id": "55d3303a",
   "metadata": {},
   "outputs": [
    {
     "name": "stdout",
     "output_type": "stream",
     "text": [
      "Inside decorator\n",
      "helloworld\n",
      "helloworld\n",
      "helloworld\n",
      "helloworld\n",
      "helloworld\n",
      "Decoration done\n"
     ]
    }
   ],
   "source": [
    "func_with_args(\"hello\", \"world\")"
   ]
  },
  {
   "cell_type": "code",
   "execution_count": 219,
   "id": "1a6fb576",
   "metadata": {},
   "outputs": [],
   "source": [
    "@run_multiple_nested(num_times=5)\n",
    "def func_with_no_args():\n",
    "    print(\"I am a function with no arguments\")"
   ]
  },
  {
   "cell_type": "code",
   "execution_count": 220,
   "id": "c6b91c9c",
   "metadata": {},
   "outputs": [
    {
     "name": "stdout",
     "output_type": "stream",
     "text": [
      "Inside decorator\n",
      "I am a function with no arguments\n",
      "I am a function with no arguments\n",
      "I am a function with no arguments\n",
      "I am a function with no arguments\n",
      "I am a function with no arguments\n",
      "Decoration done\n"
     ]
    }
   ],
   "source": [
    "func_with_no_args()"
   ]
  },
  {
   "cell_type": "markdown",
   "id": "b8249a3f",
   "metadata": {},
   "source": [
    "## Kesiranje u pajtonu\n",
    "\n",
    "\n",
    "### ?????????????????????????????????????????? dosla sam do ovog, gdje da presijecem? sta da radim sa gornjim upitnicima?"
   ]
  },
  {
   "cell_type": "markdown",
   "id": "26181008",
   "metadata": {},
   "source": [
    "## Caching in Python\n",
    "\n",
    "\n",
    "![Alt text](./images1/sl095.png)\n"
   ]
  },
  {
   "cell_type": "markdown",
   "id": "bb68db7f",
   "metadata": {},
   "source": [
    "### Recursive Fibonacci"
   ]
  },
  {
   "cell_type": "code",
   "execution_count": 284,
   "id": "d6ff93c3",
   "metadata": {},
   "outputs": [],
   "source": [
    "def fibo_rec(n):\n",
    "    if n == 0:\n",
    "        return 0\n",
    "    elif n == 1:\n",
    "        return 1\n",
    "    else:\n",
    "        return fibo_rec(n-1) + fibo_rec(n-2)\n"
   ]
  },
  {
   "cell_type": "code",
   "execution_count": 285,
   "id": "3e9726f8",
   "metadata": {},
   "outputs": [
    {
     "name": "stdout",
     "output_type": "stream",
     "text": [
      "Time elapsed is  3.249999523162842  seconds\n"
     ]
    }
   ],
   "source": [
    "import time \n",
    "n = 34\n",
    "\n",
    "start_t = time.time()\n",
    "result = fibo_rec(n)\n",
    "end_t = time.time()\n",
    "time_taken = end_t - start_t\n",
    "\n",
    "print(\"Time elapsed is \", time_taken, \" seconds\")"
   ]
  },
  {
   "cell_type": "markdown",
   "id": "d3fa4889",
   "metadata": {},
   "source": [
    "### Caching using Cachetools"
   ]
  },
  {
   "cell_type": "code",
   "execution_count": 286,
   "id": "9678995b",
   "metadata": {},
   "outputs": [
    {
     "ename": "ModuleNotFoundError",
     "evalue": "No module named 'cachetools'",
     "output_type": "error",
     "traceback": [
      "\u001b[1;31m---------------------------------------------------------------------------\u001b[0m",
      "\u001b[1;31mModuleNotFoundError\u001b[0m                       Traceback (most recent call last)",
      "Input \u001b[1;32mIn [286]\u001b[0m, in \u001b[0;36m<cell line: 1>\u001b[1;34m()\u001b[0m\n\u001b[1;32m----> 1\u001b[0m \u001b[38;5;28;01mfrom\u001b[39;00m \u001b[38;5;21;01mcachetools\u001b[39;00m \u001b[38;5;28;01mimport\u001b[39;00m cached\n",
      "\u001b[1;31mModuleNotFoundError\u001b[0m: No module named 'cachetools'"
     ]
    }
   ],
   "source": [
    "from cachetools import cached"
   ]
  },
  {
   "cell_type": "code",
   "execution_count": null,
   "id": "ebcf2c27",
   "metadata": {},
   "outputs": [],
   "source": [
    "@cached(cache={})\n",
    "def fibo_rec2(n):\n",
    "    if n == 0:\n",
    "        return 0\n",
    "    elif n == 1:\n",
    "        return 1\n",
    "    else:\n",
    "        return fibo_rec2(n-1) + fibo_rec2(n-2)\n",
    "    \n",
    "# Fibonacci nos = 0, 1, 1, 2, 3, 5, ...\n",
    "#cache[3] = 2, cache[4]= 3, cache[5] = 5"
   ]
  },
  {
   "cell_type": "code",
   "execution_count": null,
   "id": "0dd682e2",
   "metadata": {},
   "outputs": [],
   "source": [
    "n = 50\n",
    "\n",
    "start_t = time.time()\n",
    "result = fibo_rec2(n)\n",
    "end_t = time.time()\n",
    "time_taken = end_t - start_t\n",
    "\n",
    "print \"Time elapsed is \", time_taken, \" seconds\""
   ]
  },
  {
   "cell_type": "code",
   "execution_count": null,
   "id": "f55c3ee9",
   "metadata": {},
   "outputs": [],
   "source": [
    "## Using LRU cache for Python 2.x\n",
    "\n",
    "#from cachetools import LRUCache\n",
    "\n",
    "#@cached(cache=LRUCache(maxsize=5))\n",
    "#def fibo_rec3(n):\n",
    "#    if n == 0:\n",
    "#        return 0\n",
    "#    elif n == 1:\n",
    "#        return 1\n",
    "#    else:\n",
    "#        return fibo_rec3(n-1) + fibo_rec3(n-2)\n",
    "\n",
    "\n",
    "#n = 50\n",
    "\n",
    "#start_t = time.time()\n",
    "#result = fibo_rec3(n)\n",
    "#end_t = time.time()\n",
    "#time_taken = end_t - start_t\n",
    "\n",
    "#print \"Time elapsed is \", time_taken, \" seconds\"\n"
   ]
  },
  {
   "cell_type": "markdown",
   "id": "9fe47d0c",
   "metadata": {},
   "source": [
    "### Using LRU cache for Python 3.x"
   ]
  },
  {
   "cell_type": "code",
   "execution_count": 287,
   "id": "cf77ebe4",
   "metadata": {},
   "outputs": [],
   "source": [
    "from functools import lru_cache"
   ]
  },
  {
   "cell_type": "code",
   "execution_count": 288,
   "id": "586d7d33",
   "metadata": {},
   "outputs": [],
   "source": [
    "@lru_cache(maxsize=100)\n",
    "def fibo_rec(n):\n",
    "    if n == 0:\n",
    "        return 0\n",
    "    elif n == 1:\n",
    "        return 1\n",
    "    else:\n",
    "        return fibo_rec(n-1) + fibo_rec(n-2)"
   ]
  },
  {
   "cell_type": "code",
   "execution_count": 290,
   "id": "f48a7d90",
   "metadata": {},
   "outputs": [
    {
     "name": "stdout",
     "output_type": "stream",
     "text": [
      "Time elapsed is  0.0  seconds\n",
      "354224848179261915075\n"
     ]
    }
   ],
   "source": [
    "import time \n",
    "n = 100\n",
    "\n",
    "start_t = time.time()\n",
    "result = fibo_rec(n)\n",
    "end_t = time.time()\n",
    "time_taken = end_t - start_t\n",
    "\n",
    "print(\"Time elapsed is \", time_taken, \" seconds\")\n",
    "print(result)"
   ]
  },
  {
   "cell_type": "markdown",
   "id": "212603c1",
   "metadata": {},
   "source": [
    "### Using cache with TTL"
   ]
  },
  {
   "cell_type": "code",
   "execution_count": null,
   "id": "206cfdb5",
   "metadata": {},
   "outputs": [],
   "source": [
    "from cachetools import TTLCache\n",
    "\n",
    "@cached(cache=TTLCache(maxsize=30, ttl=0.001))\n",
    "def fibo_rec4(n):\n",
    "    if n == 0:\n",
    "        return 0\n",
    "    elif n == 1:\n",
    "        return 1\n",
    "    else:\n",
    "        return fibo_rec4(n-1) + fibo_rec4(n-2)"
   ]
  },
  {
   "cell_type": "code",
   "execution_count": null,
   "id": "fec92b24",
   "metadata": {},
   "outputs": [],
   "source": [
    "n = 100\n",
    "\n",
    "start_t = time.time()\n",
    "result = fibo_rec4(n)\n",
    "end_t = time.time()\n",
    "time_taken = end_t - start_t\n",
    "\n",
    "print \"Time elapsed is \", time_taken, \" seconds\""
   ]
  },
  {
   "cell_type": "markdown",
   "id": "ec821f11",
   "metadata": {},
   "source": [
    "### More cache implementations at : https://cachetools.readthedocs.io"
   ]
  },
  {
   "cell_type": "markdown",
   "id": "60f15aad",
   "metadata": {},
   "source": [
    "![Alt text](./images1/sl096.png)"
   ]
  },
  {
   "cell_type": "markdown",
   "id": "bcf1b439",
   "metadata": {},
   "source": [
    "## Memoization in Python\n",
    "\n",
    "![Alt text](./images1/sl097.png)\n",
    "\n",
    "![Alt text](./images1/sl098.png)"
   ]
  },
  {
   "cell_type": "code",
   "execution_count": 291,
   "id": "f76534db",
   "metadata": {},
   "outputs": [],
   "source": [
    "import time"
   ]
  },
  {
   "cell_type": "markdown",
   "id": "9ae82508",
   "metadata": {},
   "source": [
    "### Recursive Fibonacci"
   ]
  },
  {
   "cell_type": "code",
   "execution_count": 292,
   "id": "87e5bec7",
   "metadata": {},
   "outputs": [],
   "source": [
    "def fibo_rec(n):\n",
    "    if n == 0:\n",
    "        return 0\n",
    "    elif n == 1:\n",
    "        return 1\n",
    "    else:\n",
    "        return fibo_rec(n-1) + fibo_rec(n-2)"
   ]
  },
  {
   "cell_type": "markdown",
   "id": "3f91afaf",
   "metadata": {},
   "source": [
    "### Timing Recursive Fibonacci"
   ]
  },
  {
   "cell_type": "code",
   "execution_count": 293,
   "id": "fafe79ca",
   "metadata": {},
   "outputs": [
    {
     "name": "stdout",
     "output_type": "stream",
     "text": [
      "Time elapsed is  0.5309922695159912  seconds\n"
     ]
    }
   ],
   "source": [
    "n = 30\n",
    "\n",
    "start_t = time.time()\n",
    "result = fibo_rec(n)\n",
    "end_t = time.time()\n",
    "time_taken = end_t - start_t\n",
    "\n",
    "print(\"Time elapsed is \", time_taken, \" seconds\")"
   ]
  },
  {
   "cell_type": "markdown",
   "id": "d2740825",
   "metadata": {},
   "source": [
    "### Memoization using a Dictionary"
   ]
  },
  {
   "cell_type": "code",
   "execution_count": 294,
   "id": "fbb3638e",
   "metadata": {},
   "outputs": [],
   "source": [
    "memo_cache = {}\n",
    "\n",
    "def fibo_memo(n):\n",
    "    if n == 0:\n",
    "        return 0\n",
    "    elif n == 1:\n",
    "        return 1\n",
    "    else:\n",
    "        # Check if cache has the value\n",
    "        if memo_cache.get(n, None):\n",
    "            return memo_cache[n]\n",
    "        \n",
    "        #Else compute the value and add it to cache\n",
    "        result = fibo_memo(n-1)+fibo_memo(n-2)\n",
    "        memo_cache[n] = result\n",
    "        \n",
    "        return result"
   ]
  },
  {
   "cell_type": "markdown",
   "id": "309e2bf1",
   "metadata": {},
   "source": [
    "### Timing the Memoization calls"
   ]
  },
  {
   "cell_type": "code",
   "execution_count": 295,
   "id": "f744e39d",
   "metadata": {},
   "outputs": [
    {
     "name": "stdout",
     "output_type": "stream",
     "text": [
      "Time elapsed is  0.0020003318786621094  seconds\n"
     ]
    }
   ],
   "source": [
    "n = 500\n",
    "\n",
    "start_t = time.time()\n",
    "result = fibo_memo(n)\n",
    "end_t = time.time()\n",
    "time_taken = end_t - start_t\n",
    "\n",
    "print(\"Time elapsed is \", time_taken, \" seconds\")"
   ]
  },
  {
   "cell_type": "markdown",
   "id": "f1254cb2",
   "metadata": {},
   "source": [
    "### Memoization using Decorators"
   ]
  },
  {
   "cell_type": "code",
   "execution_count": 296,
   "id": "bb9bc230",
   "metadata": {},
   "outputs": [],
   "source": [
    "def deco_memoize(my_func):\n",
    "    \n",
    "    # Store the cache as property of function,\n",
    "    # so that we can use different functions with caches\n",
    "    # uniquely assigned for each function.\n",
    "    cache = my_func.cache = {}\n",
    "\n",
    "    def memoize_my_func(*args, **kwargs):\n",
    "        \n",
    "        #Convert all arguments to string to check in dictnary\n",
    "        all_args_str = str(args) + str(kwargs)\n",
    "        \n",
    "        #Check the arguments in cache\n",
    "        if cache.get(all_args_str, None):\n",
    "            return cache[all_args_str]\n",
    "        else:\n",
    "            result = my_func(*args, **kwargs)\n",
    "            cache[all_args_str] = result\n",
    "            return result\n",
    "\n",
    "    return memoize_my_func"
   ]
  },
  {
   "cell_type": "code",
   "execution_count": 297,
   "id": "7216b747",
   "metadata": {},
   "outputs": [],
   "source": [
    "@deco_memoize\n",
    "def fibo_rec2(n):\n",
    "    if n == 0:\n",
    "        return 0\n",
    "    elif n == 1:\n",
    "        return 1\n",
    "    else:\n",
    "        return fibo_rec2(n-1)+fibo_rec2(n-2)"
   ]
  },
  {
   "cell_type": "code",
   "execution_count": 298,
   "id": "e9dbff80",
   "metadata": {},
   "outputs": [
    {
     "name": "stdout",
     "output_type": "stream",
     "text": [
      "Time elapsed is  0.001994609832763672  seconds\n"
     ]
    }
   ],
   "source": [
    "n = 200\n",
    "\n",
    "start_t = time.time()\n",
    "result = fibo_rec2(n)\n",
    "end_t = time.time()\n",
    "time_taken = end_t - start_t\n",
    "\n",
    "print(\"Time elapsed is \", time_taken, \" seconds\")"
   ]
  },
  {
   "cell_type": "markdown",
   "id": "9a6a002c",
   "metadata": {},
   "source": [
    "![Alt text](./images1/sl099.png)"
   ]
  },
  {
   "cell_type": "markdown",
   "id": "8cb0c2ae",
   "metadata": {},
   "source": [
    "## The Operator Module\n",
    "\n",
    "![Alt text](./images1/sl100.png)\n",
    "\n",
    "![Alt text](./images1/sl101.png)\n"
   ]
  },
  {
   "cell_type": "markdown",
   "id": "ace70fe3",
   "metadata": {},
   "source": [
    "### Official Documentation : https://docs.python.org/2/library/operator.html"
   ]
  },
  {
   "cell_type": "code",
   "execution_count": 299,
   "id": "af2a7d89",
   "metadata": {},
   "outputs": [],
   "source": [
    "import operator "
   ]
  },
  {
   "cell_type": "code",
   "execution_count": 301,
   "id": "ced7cc4c",
   "metadata": {},
   "outputs": [
    {
     "name": "stdout",
     "output_type": "stream",
     "text": [
      "30\n"
     ]
    }
   ],
   "source": [
    "print(operator.mul(5,6))"
   ]
  },
  {
   "cell_type": "code",
   "execution_count": 302,
   "id": "42956723",
   "metadata": {},
   "outputs": [
    {
     "name": "stdout",
     "output_type": "stream",
     "text": [
      "11\n"
     ]
    }
   ],
   "source": [
    "print(operator.add(5,6))"
   ]
  },
  {
   "cell_type": "code",
   "execution_count": 303,
   "id": "31acf425",
   "metadata": {},
   "outputs": [
    {
     "name": "stdout",
     "output_type": "stream",
     "text": [
      "-1\n"
     ]
    }
   ],
   "source": [
    "print(operator.sub(5,6))"
   ]
  },
  {
   "cell_type": "code",
   "execution_count": 304,
   "id": "2db0f30f",
   "metadata": {},
   "outputs": [
    {
     "name": "stdout",
     "output_type": "stream",
     "text": [
      "False\n"
     ]
    }
   ],
   "source": [
    "print(operator.ge(5,6))"
   ]
  },
  {
   "cell_type": "code",
   "execution_count": 305,
   "id": "1fd29496",
   "metadata": {},
   "outputs": [
    {
     "name": "stdout",
     "output_type": "stream",
     "text": [
      "True\n"
     ]
    }
   ],
   "source": [
    "print(operator.lt(5,6))"
   ]
  },
  {
   "cell_type": "code",
   "execution_count": 306,
   "id": "5d56a240",
   "metadata": {},
   "outputs": [
    {
     "name": "stdout",
     "output_type": "stream",
     "text": [
      "True\n"
     ]
    }
   ],
   "source": [
    "print(operator.le(5,5))"
   ]
  },
  {
   "cell_type": "code",
   "execution_count": 307,
   "id": "80e9bf0a",
   "metadata": {},
   "outputs": [
    {
     "ename": "AttributeError",
     "evalue": "module 'operator' has no attribute 'div'",
     "output_type": "error",
     "traceback": [
      "\u001b[1;31m---------------------------------------------------------------------------\u001b[0m",
      "\u001b[1;31mAttributeError\u001b[0m                            Traceback (most recent call last)",
      "Input \u001b[1;32mIn [307]\u001b[0m, in \u001b[0;36m<cell line: 1>\u001b[1;34m()\u001b[0m\n\u001b[1;32m----> 1\u001b[0m \u001b[38;5;28mprint\u001b[39m(\u001b[43moperator\u001b[49m\u001b[38;5;241;43m.\u001b[39;49m\u001b[43mdiv\u001b[49m(\u001b[38;5;241m5.0\u001b[39m,\u001b[38;5;241m6\u001b[39m))\n",
      "\u001b[1;31mAttributeError\u001b[0m: module 'operator' has no attribute 'div'"
     ]
    }
   ],
   "source": [
    "print(operator.div(5.0,6))"
   ]
  },
  {
   "cell_type": "code",
   "execution_count": 308,
   "id": "f2ef57c6",
   "metadata": {},
   "outputs": [
    {
     "name": "stdout",
     "output_type": "stream",
     "text": [
      "0.0\n"
     ]
    }
   ],
   "source": [
    "print(operator.floordiv(5.0,6))"
   ]
  },
  {
   "cell_type": "code",
   "execution_count": 309,
   "id": "d8dcc598",
   "metadata": {},
   "outputs": [
    {
     "name": "stdout",
     "output_type": "stream",
     "text": [
      "4\n"
     ]
    }
   ],
   "source": [
    "print(operator.countOf([1, 2, 1, 2, 3, 1, 1], 1))"
   ]
  },
  {
   "cell_type": "code",
   "execution_count": 310,
   "id": "2dfc5050",
   "metadata": {},
   "outputs": [
    {
     "name": "stdout",
     "output_type": "stream",
     "text": [
      "True\n"
     ]
    }
   ],
   "source": [
    "print(operator.contains([1, 2, 1, 2, 3, 1, 1], 1))"
   ]
  },
  {
   "cell_type": "code",
   "execution_count": 311,
   "id": "d5caa745",
   "metadata": {},
   "outputs": [
    {
     "name": "stdout",
     "output_type": "stream",
     "text": [
      "4\n"
     ]
    }
   ],
   "source": [
    "print(operator.indexOf([1, 2, 1, 2, 3, 1, 1], 3))"
   ]
  },
  {
   "cell_type": "markdown",
   "id": "23101f05",
   "metadata": {},
   "source": [
    "### Passing to Higher Order Functions"
   ]
  },
  {
   "cell_type": "code",
   "execution_count": 312,
   "id": "437ade90",
   "metadata": {},
   "outputs": [],
   "source": [
    "my_list = [(1, \"Hello\"), (200, \"World\"), (50, \"Yolo\"), (170, \"XOXO\")]"
   ]
  },
  {
   "cell_type": "code",
   "execution_count": 313,
   "id": "b75d7c75",
   "metadata": {},
   "outputs": [
    {
     "data": {
      "text/plain": [
       "[(50, 'Yolo'), (170, 'XOXO'), (200, 'World'), (1, 'Hello')]"
      ]
     },
     "execution_count": 313,
     "metadata": {},
     "output_type": "execute_result"
    }
   ],
   "source": [
    "sorted(my_list, key=operator.itemgetter(1), reverse=True)"
   ]
  },
  {
   "cell_type": "markdown",
   "id": "e47856ce",
   "metadata": {},
   "source": [
    "### Performance speedups"
   ]
  },
  {
   "cell_type": "code",
   "execution_count": 314,
   "id": "e35ccfc0",
   "metadata": {},
   "outputs": [],
   "source": [
    "import timeit"
   ]
  },
  {
   "cell_type": "code",
   "execution_count": null,
   "id": "34bdbbf4",
   "metadata": {},
   "outputs": [],
   "source": [
    "#zasto ovo ispod ne radi??? ne radi ni functools.reduce......"
   ]
  },
  {
   "cell_type": "code",
   "execution_count": 322,
   "id": "7aa68e01",
   "metadata": {},
   "outputs": [
    {
     "ename": "NameError",
     "evalue": "name 'reduce' is not defined",
     "output_type": "error",
     "traceback": [
      "\u001b[1;31m---------------------------------------------------------------------------\u001b[0m",
      "\u001b[1;31mNameError\u001b[0m                                 Traceback (most recent call last)",
      "Input \u001b[1;32mIn [322]\u001b[0m, in \u001b[0;36m<cell line: 1>\u001b[1;34m()\u001b[0m\n\u001b[1;32m----> 1\u001b[0m \u001b[43mtimeit\u001b[49m\u001b[38;5;241;43m.\u001b[39;49m\u001b[43mtimeit\u001b[49m\u001b[43m(\u001b[49m\u001b[38;5;124;43m'\u001b[39;49m\u001b[38;5;124;43mreduce(lambda x,y : x*y, range(1,100))\u001b[39;49m\u001b[38;5;124;43m'\u001b[39;49m\u001b[43m)\u001b[49m\n",
      "File \u001b[1;32m~\\Desktop\\pajton-kurs\\probni_projekat\\env\\lib\\timeit.py:233\u001b[0m, in \u001b[0;36mtimeit\u001b[1;34m(stmt, setup, timer, number, globals)\u001b[0m\n\u001b[0;32m    230\u001b[0m \u001b[38;5;28;01mdef\u001b[39;00m \u001b[38;5;21mtimeit\u001b[39m(stmt\u001b[38;5;241m=\u001b[39m\u001b[38;5;124m\"\u001b[39m\u001b[38;5;124mpass\u001b[39m\u001b[38;5;124m\"\u001b[39m, setup\u001b[38;5;241m=\u001b[39m\u001b[38;5;124m\"\u001b[39m\u001b[38;5;124mpass\u001b[39m\u001b[38;5;124m\"\u001b[39m, timer\u001b[38;5;241m=\u001b[39mdefault_timer,\n\u001b[0;32m    231\u001b[0m            number\u001b[38;5;241m=\u001b[39mdefault_number, \u001b[38;5;28mglobals\u001b[39m\u001b[38;5;241m=\u001b[39m\u001b[38;5;28;01mNone\u001b[39;00m):\n\u001b[0;32m    232\u001b[0m     \u001b[38;5;124;03m\"\"\"Convenience function to create Timer object and call timeit method.\"\"\"\u001b[39;00m\n\u001b[1;32m--> 233\u001b[0m     \u001b[38;5;28;01mreturn\u001b[39;00m \u001b[43mTimer\u001b[49m\u001b[43m(\u001b[49m\u001b[43mstmt\u001b[49m\u001b[43m,\u001b[49m\u001b[43m \u001b[49m\u001b[43msetup\u001b[49m\u001b[43m,\u001b[49m\u001b[43m \u001b[49m\u001b[43mtimer\u001b[49m\u001b[43m,\u001b[49m\u001b[43m \u001b[49m\u001b[38;5;28;43mglobals\u001b[39;49m\u001b[43m)\u001b[49m\u001b[38;5;241;43m.\u001b[39;49m\u001b[43mtimeit\u001b[49m\u001b[43m(\u001b[49m\u001b[43mnumber\u001b[49m\u001b[43m)\u001b[49m\n",
      "File \u001b[1;32m~\\Desktop\\pajton-kurs\\probni_projekat\\env\\lib\\timeit.py:177\u001b[0m, in \u001b[0;36mTimer.timeit\u001b[1;34m(self, number)\u001b[0m\n\u001b[0;32m    175\u001b[0m gc\u001b[38;5;241m.\u001b[39mdisable()\n\u001b[0;32m    176\u001b[0m \u001b[38;5;28;01mtry\u001b[39;00m:\n\u001b[1;32m--> 177\u001b[0m     timing \u001b[38;5;241m=\u001b[39m \u001b[38;5;28;43mself\u001b[39;49m\u001b[38;5;241;43m.\u001b[39;49m\u001b[43minner\u001b[49m\u001b[43m(\u001b[49m\u001b[43mit\u001b[49m\u001b[43m,\u001b[49m\u001b[43m \u001b[49m\u001b[38;5;28;43mself\u001b[39;49m\u001b[38;5;241;43m.\u001b[39;49m\u001b[43mtimer\u001b[49m\u001b[43m)\u001b[49m\n\u001b[0;32m    178\u001b[0m \u001b[38;5;28;01mfinally\u001b[39;00m:\n\u001b[0;32m    179\u001b[0m     \u001b[38;5;28;01mif\u001b[39;00m gcold:\n",
      "File \u001b[1;32m<timeit-src>:6\u001b[0m, in \u001b[0;36minner\u001b[1;34m(_it, _timer)\u001b[0m\n",
      "\u001b[1;31mNameError\u001b[0m: name 'reduce' is not defined"
     ]
    }
   ],
   "source": [
    "timeit.timeit('reduce(lambda x,y : x*y, range(1,100))')"
   ]
  },
  {
   "cell_type": "code",
   "execution_count": 316,
   "id": "05e0b402",
   "metadata": {},
   "outputs": [
    {
     "ename": "NameError",
     "evalue": "name 'reduce' is not defined",
     "output_type": "error",
     "traceback": [
      "\u001b[1;31m---------------------------------------------------------------------------\u001b[0m",
      "\u001b[1;31mNameError\u001b[0m                                 Traceback (most recent call last)",
      "Input \u001b[1;32mIn [316]\u001b[0m, in \u001b[0;36m<cell line: 1>\u001b[1;34m()\u001b[0m\n\u001b[1;32m----> 1\u001b[0m \u001b[43mtimeit\u001b[49m\u001b[38;5;241;43m.\u001b[39;49m\u001b[43mtimeit\u001b[49m\u001b[43m(\u001b[49m\u001b[38;5;124;43m'\u001b[39;49m\u001b[38;5;124;43mreduce(mul, range(1,100))\u001b[39;49m\u001b[38;5;124;43m'\u001b[39;49m\u001b[43m,\u001b[49m\u001b[43msetup\u001b[49m\u001b[38;5;241;43m=\u001b[39;49m\u001b[38;5;124;43m'\u001b[39;49m\u001b[38;5;124;43mfrom operator import mul\u001b[39;49m\u001b[38;5;124;43m'\u001b[39;49m\u001b[43m)\u001b[49m\n",
      "File \u001b[1;32m~\\Desktop\\pajton-kurs\\probni_projekat\\env\\lib\\timeit.py:233\u001b[0m, in \u001b[0;36mtimeit\u001b[1;34m(stmt, setup, timer, number, globals)\u001b[0m\n\u001b[0;32m    230\u001b[0m \u001b[38;5;28;01mdef\u001b[39;00m \u001b[38;5;21mtimeit\u001b[39m(stmt\u001b[38;5;241m=\u001b[39m\u001b[38;5;124m\"\u001b[39m\u001b[38;5;124mpass\u001b[39m\u001b[38;5;124m\"\u001b[39m, setup\u001b[38;5;241m=\u001b[39m\u001b[38;5;124m\"\u001b[39m\u001b[38;5;124mpass\u001b[39m\u001b[38;5;124m\"\u001b[39m, timer\u001b[38;5;241m=\u001b[39mdefault_timer,\n\u001b[0;32m    231\u001b[0m            number\u001b[38;5;241m=\u001b[39mdefault_number, \u001b[38;5;28mglobals\u001b[39m\u001b[38;5;241m=\u001b[39m\u001b[38;5;28;01mNone\u001b[39;00m):\n\u001b[0;32m    232\u001b[0m     \u001b[38;5;124;03m\"\"\"Convenience function to create Timer object and call timeit method.\"\"\"\u001b[39;00m\n\u001b[1;32m--> 233\u001b[0m     \u001b[38;5;28;01mreturn\u001b[39;00m \u001b[43mTimer\u001b[49m\u001b[43m(\u001b[49m\u001b[43mstmt\u001b[49m\u001b[43m,\u001b[49m\u001b[43m \u001b[49m\u001b[43msetup\u001b[49m\u001b[43m,\u001b[49m\u001b[43m \u001b[49m\u001b[43mtimer\u001b[49m\u001b[43m,\u001b[49m\u001b[43m \u001b[49m\u001b[38;5;28;43mglobals\u001b[39;49m\u001b[43m)\u001b[49m\u001b[38;5;241;43m.\u001b[39;49m\u001b[43mtimeit\u001b[49m\u001b[43m(\u001b[49m\u001b[43mnumber\u001b[49m\u001b[43m)\u001b[49m\n",
      "File \u001b[1;32m~\\Desktop\\pajton-kurs\\probni_projekat\\env\\lib\\timeit.py:177\u001b[0m, in \u001b[0;36mTimer.timeit\u001b[1;34m(self, number)\u001b[0m\n\u001b[0;32m    175\u001b[0m gc\u001b[38;5;241m.\u001b[39mdisable()\n\u001b[0;32m    176\u001b[0m \u001b[38;5;28;01mtry\u001b[39;00m:\n\u001b[1;32m--> 177\u001b[0m     timing \u001b[38;5;241m=\u001b[39m \u001b[38;5;28;43mself\u001b[39;49m\u001b[38;5;241;43m.\u001b[39;49m\u001b[43minner\u001b[49m\u001b[43m(\u001b[49m\u001b[43mit\u001b[49m\u001b[43m,\u001b[49m\u001b[43m \u001b[49m\u001b[38;5;28;43mself\u001b[39;49m\u001b[38;5;241;43m.\u001b[39;49m\u001b[43mtimer\u001b[49m\u001b[43m)\u001b[49m\n\u001b[0;32m    178\u001b[0m \u001b[38;5;28;01mfinally\u001b[39;00m:\n\u001b[0;32m    179\u001b[0m     \u001b[38;5;28;01mif\u001b[39;00m gcold:\n",
      "File \u001b[1;32m<timeit-src>:6\u001b[0m, in \u001b[0;36minner\u001b[1;34m(_it, _timer)\u001b[0m\n",
      "\u001b[1;31mNameError\u001b[0m: name 'reduce' is not defined"
     ]
    }
   ],
   "source": [
    "timeit.timeit('reduce(mul, range(1,100))',setup='from operator import mul')"
   ]
  },
  {
   "cell_type": "markdown",
   "id": "743c0b8e",
   "metadata": {},
   "source": [
    "![Alt text](./images1/sl102.png)"
   ]
  },
  {
   "cell_type": "markdown",
   "id": "bc03491d",
   "metadata": {},
   "source": [
    "# Functional Programming for Applications"
   ]
  },
  {
   "cell_type": "markdown",
   "id": "a2a2dfd5",
   "metadata": {},
   "source": [
    "## Implementing a Word Counter - Example 1"
   ]
  },
  {
   "cell_type": "code",
   "execution_count": 323,
   "id": "a49c027c",
   "metadata": {},
   "outputs": [],
   "source": [
    "from itertools import groupby\n",
    "import re "
   ]
  },
  {
   "cell_type": "code",
   "execution_count": 324,
   "id": "b78d57df",
   "metadata": {},
   "outputs": [],
   "source": [
    "# Split a line into words by seperating on ' '\n",
    "# Input : \"This is a string\"\n",
    "# Output: [\"This\", \"is\", \"a\", \"string\"]\n",
    "def split_line(lines):\n",
    "    return lines.split(' ')\n",
    "\n",
    "# Convert the list of words to list of lower case words\n",
    "# Input : [\"Hello\", \"World\", \"YOLO\"]\n",
    "# Output: [\"hello\", \"world\", \"yolo\"]\n",
    "def convert_lower(words_list):\n",
    "    return list(map(lambda x: x.lower(), words_list))"
   ]
  },
  {
   "cell_type": "code",
   "execution_count": 325,
   "id": "93fe21e4",
   "metadata": {},
   "outputs": [],
   "source": [
    "# Remove any empty space from words\n",
    "# Input: [\"   This \", \" is \", \"a\", \"              string\"]\n",
    "# Output: [\"This\", \"is\", \"a\", \"string\"]\n",
    "def trim_lines(lines_list):\n",
    "    return list(map(lambda x: x.strip(), lines_list))\n",
    "\n",
    "# Remove empty strings\n",
    "# Input: [\"\", \"This\", \"\", \"is\", \"a\", \"string\"]\n",
    "# Output: [\"This\", \"is\", \"a\", \"string\"]\n",
    "def remove_empty(words_list):\n",
    "    return list(filter(lambda x: x!='', words_list))\n",
    "\n",
    "# Remove Punctuation from word/string\n",
    "# Input : \"Yolo!!! Hello,.#world?\"\n",
    "# Output: \"Yolo Helloworld\"\n",
    "def remove_punctuation(my_string):\n",
    "    return re.sub(r'[^\\w\\s]','',my_string)"
   ]
  },
  {
   "cell_type": "code",
   "execution_count": 326,
   "id": "2ddf5e62",
   "metadata": {},
   "outputs": [],
   "source": [
    "# Group words together\n",
    "# Input : [\"hello\", \"world\", \"hello\", \"yolo\", \"world\"]\n",
    "# Output: An itertools.groupby object \n",
    "# Code : \n",
    "# for k, v in groupby(sorted([\"hello\", \"world\", \"hello\", \"yolo\", \"world\"])):\n",
    "#    print(k, list(v))\n",
    "# Output for above code\n",
    "# hello ['hello', 'hello']\n",
    "# world ['world', 'world']\n",
    "# yolo ['yolo']\n",
    "def group_words(words_list):\n",
    "    return groupby(sorted(words_list))"
   ]
  },
  {
   "cell_type": "code",
   "execution_count": 327,
   "id": "f4994c75",
   "metadata": {},
   "outputs": [],
   "source": [
    "# Returns count of each word\n",
    "def get_word_count(grouped_words):\n",
    "    return list(map(lambda x: (x[0], len(list(x[1]))),grouped_words))"
   ]
  },
  {
   "cell_type": "code",
   "execution_count": 328,
   "id": "93e10ab2",
   "metadata": {},
   "outputs": [],
   "source": [
    "my_str = \"\"\"hello this is a string. This is a good String.\n",
    "            hello world!!! \"\"\""
   ]
  },
  {
   "cell_type": "code",
   "execution_count": 329,
   "id": "99c18989",
   "metadata": {},
   "outputs": [],
   "source": [
    "# Remove Punctuation\n",
    "remove_punct = remove_punctuation(my_str)\n",
    "\n",
    "# Split the words\n",
    "words_list = split_line(remove_punct)\n",
    "\n",
    "# Lower and trim the words\n",
    "lower_and_trim_list = trim_lines(convert_lower(words_list))\n",
    "\n",
    "# Filter empty strings\n",
    "filtered_words = remove_empty(lower_and_trim_list)\n",
    "\n",
    "# Group the words\n",
    "grouped_words_iterable = group_words(filtered_words)\n",
    "\n",
    "# Retrieve the word count fromt the groupby iterable\n",
    "word_count_dict = get_word_count(grouped_words_iterable)"
   ]
  },
  {
   "cell_type": "code",
   "execution_count": 330,
   "id": "977d643e",
   "metadata": {},
   "outputs": [
    {
     "data": {
      "text/plain": [
       "[('a', 2),\n",
       " ('good', 1),\n",
       " ('hello', 2),\n",
       " ('is', 2),\n",
       " ('string', 2),\n",
       " ('this', 2),\n",
       " ('world', 1)]"
      ]
     },
     "execution_count": 330,
     "metadata": {},
     "output_type": "execute_result"
    }
   ],
   "source": [
    "word_count_dict"
   ]
  },
  {
   "cell_type": "markdown",
   "id": "85bf9146",
   "metadata": {},
   "source": [
    "You can modify the data type as you want. "
   ]
  },
  {
   "cell_type": "markdown",
   "id": "b73311b5",
   "metadata": {},
   "source": [
    "### Alternate ways you can try\n",
    "1. Make use of itertools.chain\n",
    "2. Use functional compostion (discussed in next section)"
   ]
  },
  {
   "cell_type": "markdown",
   "id": "261e21d1",
   "metadata": {},
   "source": [
    "## Implementing a CSV Reader - Example 2"
   ]
  },
  {
   "cell_type": "markdown",
   "id": "38a41cbc",
   "metadata": {},
   "source": [
    "![Alt text](./images1/sl106.png)"
   ]
  },
  {
   "cell_type": "code",
   "execution_count": 331,
   "id": "fe24a74a",
   "metadata": {},
   "outputs": [],
   "source": [
    "# For the sake of this tutorial assume the csv file\n",
    "# has been read into this string\n",
    "\n",
    "csv_file = \"\"\"ID,Designation,Name,Salary(USD)\n",
    "123,Manager,John Doe,10000\n",
    "157,Engineer,Jimmy Joe,5000\n",
    "190,Engineer,Alice Holmes,6000\n",
    "191,Accountant,Jack Oliver,8000\n",
    "200,Inter,Jessica Homer,1000\n",
    "202,HR Manager, Robert Stark,4000\"\"\""
   ]
  },
  {
   "cell_type": "code",
   "execution_count": 332,
   "id": "4c1d5155",
   "metadata": {},
   "outputs": [],
   "source": [
    "# Split csv file into a list of lines\n",
    "# Input: \"\"\"ID,Designation,Name,Salary(USD)\\n\n",
    "# 123,Manager,John Doe, 10000\\n\n",
    "# 202,HR Manager, Robert Stark, 4000\"\"\"\n",
    "#\n",
    "# Output: [\"ID,Designation,Name,Salary(USD)\",\n",
    "#         \"123,Manager,John Doe, 10000\",\n",
    "#         \"202,HR Manager, Robert Stark, 4000\"]\n",
    "\n",
    "def split_new_lines(lines):\n",
    "    return lines.split('\\n')\n"
   ]
  },
  {
   "cell_type": "code",
   "execution_count": 333,
   "id": "f5972785",
   "metadata": {},
   "outputs": [],
   "source": [
    "# Split list of lines into list of list of data\n",
    "# Input :  [\"ID,Designation,Name,Salary(USD)\",\n",
    "#         \"123,Manager,John Doe, 10000\",\n",
    "#         \"202,HR Manager, Robert Stark, 4000\"]\n",
    "#\n",
    "# Output :  [[\"ID\", \"Designation\", \"Name\", \"Salary(USD)\"],\n",
    "#         [\"123\",\"Manager\",\"John Doe\", \"10000\",],\n",
    "#         [\"202\",\"HR Manager\", \"Robert Stark\", \"4000\"]]\n",
    "#\n",
    "def split_delimeter(list_lines, delim=','):\n",
    "    return list(map(lambda x: x.split(delim), list_lines))\n"
   ]
  },
  {
   "cell_type": "code",
   "execution_count": 334,
   "id": "f3139293",
   "metadata": {},
   "outputs": [],
   "source": [
    "# Seperate header and data\n",
    "# Header is at the start of the list\n",
    "def seperate_header(lines):\n",
    "    return lines[0], lines[1:]"
   ]
  },
  {
   "cell_type": "code",
   "execution_count": 335,
   "id": "66b1f0f7",
   "metadata": {},
   "outputs": [],
   "source": [
    "#Create a dictionary using the header information\n",
    "# Input : header=[\"ID\", \"Designation\", \"Name\", \"Salary(USD)\"]\n",
    "#         data_rows=[[\"123\",\"Manager\",\"John Doe\", \"10000\"],\n",
    "#         [\"202\",\"HR Manager\", \"Robert Stark\", \"4000\"]]\n",
    "#\n",
    "#Output = [{'ID': '123','Designation': 'Manager','Name': 'John Doe','Salary(USD)': '10000'},\n",
    "#          {'ID': '202','Designation': 'HR Manager','Name': ' Robert Stark','Salary(USD)': ' 4000'}]\n",
    "#\n",
    "def create_row(header, data_rows):\n",
    "    return list(map(lambda x:{k:v for k,v in zip(header,x)} , data_rows))"
   ]
  },
  {
   "cell_type": "code",
   "execution_count": null,
   "id": "9820702b",
   "metadata": {},
   "outputs": [],
   "source": [
    "#{k:v for k, v in (zip([\"ID\", \"Designation\", \"Name\", \"Salary(USD)\"], [\"123\",\"Manager\",\"John Doe\", \"10000\"]))}"
   ]
  },
  {
   "cell_type": "code",
   "execution_count": 336,
   "id": "36427637",
   "metadata": {},
   "outputs": [],
   "source": [
    "#print(\"Lines after Split\")\n",
    "get_lines = split_new_lines(csv_file)\n",
    "#print(get_lines)\n",
    "\n",
    "#print(\"\\nData items after Split\")\n",
    "get_rows_as_list = split_delimeter(get_lines, delim=',')\n",
    "#print(get_rows_as_list)\n",
    "\n",
    "#print(\"\\n\\n Keys \")\n",
    "keys, values = seperate_header(get_rows_as_list)\n",
    "#print(keys)\n",
    "#print(\"\\n Values\")\n",
    "#print(values)"
   ]
  },
  {
   "cell_type": "code",
   "execution_count": 337,
   "id": "00caa26f",
   "metadata": {},
   "outputs": [
    {
     "data": {
      "text/plain": [
       "[{'ID': '123',\n",
       "  'Designation': 'Manager',\n",
       "  'Name': 'John Doe',\n",
       "  'Salary(USD)': '10000'},\n",
       " {'ID': '157',\n",
       "  'Designation': 'Engineer',\n",
       "  'Name': 'Jimmy Joe',\n",
       "  'Salary(USD)': '5000'},\n",
       " {'ID': '190',\n",
       "  'Designation': 'Engineer',\n",
       "  'Name': 'Alice Holmes',\n",
       "  'Salary(USD)': '6000'},\n",
       " {'ID': '191',\n",
       "  'Designation': 'Accountant',\n",
       "  'Name': 'Jack Oliver',\n",
       "  'Salary(USD)': '8000'},\n",
       " {'ID': '200',\n",
       "  'Designation': 'Inter',\n",
       "  'Name': 'Jessica Homer',\n",
       "  'Salary(USD)': '1000'},\n",
       " {'ID': '202',\n",
       "  'Designation': 'HR Manager',\n",
       "  'Name': ' Robert Stark',\n",
       "  'Salary(USD)': '4000'}]"
      ]
     },
     "execution_count": 337,
     "metadata": {},
     "output_type": "execute_result"
    }
   ],
   "source": [
    "create_row(keys, values)"
   ]
  },
  {
   "cell_type": "markdown",
   "id": "b0b05ef4",
   "metadata": {},
   "source": [
    "## Implementing Word Counter Using Multiprocessing - Example 3"
   ]
  },
  {
   "cell_type": "markdown",
   "id": "881c56bd",
   "metadata": {},
   "source": [
    "![Alt text](./images1/sl107.png)"
   ]
  },
  {
   "cell_type": "markdown",
   "id": "ce658d67",
   "metadata": {},
   "source": [
    "## Reference : https://docs.python.org/3/library/multiprocessing.html"
   ]
  },
  {
   "cell_type": "code",
   "execution_count": 1,
   "id": "9b1b1068",
   "metadata": {},
   "outputs": [],
   "source": [
    "import time\n",
    "import multiprocessing\n",
    "from itertools import groupby\n",
    "import re "
   ]
  },
  {
   "cell_type": "code",
   "execution_count": 2,
   "id": "68483d4a",
   "metadata": {},
   "outputs": [],
   "source": [
    "def split_lines(lines):\n",
    "    return lines.split(' ')\n",
    "\n",
    "def convert_lower(lines_list):\n",
    "    return list(map(lambda x: x.lower(), lines_list))\n",
    "\n",
    "def trim_lines(lines_list):\n",
    "    return list(map(lambda x: x.strip(), lines_list))\n",
    "\n",
    "def remove_empty(words_list):\n",
    "    return list(filter(lambda x: x!='', words_list))\n",
    "\n",
    "def group_words(words_list):\n",
    "    return groupby(sorted(words_list))\n",
    "\n",
    "def get_word_count(grouped_words):\n",
    "    return list(map(lambda x: (x[0], len(list(x[1]))),grouped_words))\n",
    "\n",
    "def remove_punctuation(my_string):\n",
    "    return re.sub(r'[^\\w\\s]','',my_string)\n",
    "\n",
    "def wordcount(text):\n",
    "    trim_split_punct = trim_lines(split_lines(remove_punctuation(text)))\n",
    "    sanitize_words_list = convert_lower(remove_empty(trim_split_punct))\n",
    "    word_count_dict = get_word_count(group_words(sanitize_words_list))\n",
    "    return word_count_dict"
   ]
  },
  {
   "cell_type": "code",
   "execution_count": 3,
   "id": "a05256d1",
   "metadata": {},
   "outputs": [],
   "source": [
    "# Decorating to return execution time of function\n",
    "def time_deco(my_func):\n",
    "    def inner_wrap(*args, **kwargs):\n",
    "        start = time.time()\n",
    "        my_func(*args, **kwargs)\n",
    "        end = time.time()\n",
    "        print(\"Time taken is {} seconds\".format(end-start))\n",
    "    return inner_wrap"
   ]
  },
  {
   "cell_type": "code",
   "execution_count": 4,
   "id": "f7fe97a3",
   "metadata": {},
   "outputs": [],
   "source": [
    "multiple_strs = [\"This is a string with a single string\"]*120000"
   ]
  },
  {
   "cell_type": "code",
   "execution_count": 5,
   "id": "46310e57",
   "metadata": {},
   "outputs": [
    {
     "name": "stdout",
     "output_type": "stream",
     "text": [
      "Time taken is 1.7699954509735107 seconds\n"
     ]
    }
   ],
   "source": [
    "# Run wordcount linearly\n",
    "\n",
    "@time_deco\n",
    "def linear_word_count(multiple_strs):\n",
    "    total_word_count = {}\n",
    "    for single_str in multiple_strs:\n",
    "        single_word_count = wordcount(single_str)\n",
    "        total_word_count.update(single_word_count)\n",
    "    return total_word_count\n",
    "        \n",
    "linear_word_count(multiple_strs) "
   ]
  },
  {
   "cell_type": "code",
   "execution_count": null,
   "id": "c45b0631",
   "metadata": {},
   "outputs": [],
   "source": [
    "@time_deco\n",
    "def multiprocess_word_count(multiple_strs):\n",
    "    total_word_count = {}\n",
    "    with multiprocessing.Pool(4) as workers:\n",
    "        result_iter = workers.map(wordcount, multiple_strs)\n",
    "        for single_word_count in result_iter:\n",
    "            total_word_count.update(single_word_count)\n",
    "    return total_word_count\n",
    "\n",
    "multiprocess_word_count(multiple_strs)\n",
    "\n",
    "#ZASTO SE OVO DUZE IZVRSAVA??? TREBALO BI DA ZAVRSI ZA MANJE OD 1s..."
   ]
  },
  {
   "cell_type": "markdown",
   "id": "36e140f5",
   "metadata": {},
   "source": [
    "## Also take a look at map_async and imap_unordered from multiprocessing module and compare their performances"
   ]
  },
  {
   "cell_type": "markdown",
   "id": "3b617f8b",
   "metadata": {},
   "source": [
    "## Using Yield to Pass Input to Functions\n",
    "\n",
    "![Alt text](./images1/sl108.png)"
   ]
  },
  {
   "cell_type": "code",
   "execution_count": 1,
   "id": "2a9eee0e",
   "metadata": {},
   "outputs": [],
   "source": [
    "def my_func():\n",
    "    current_inp = yield\n",
    "    sum_now = 0\n",
    "    while True:\n",
    "        sum_now += current_inp\n",
    "        print(\"Sum till now is {}\".format(sum_now))\n",
    "        current_inp = yield\n",
    "        "
   ]
  },
  {
   "cell_type": "code",
   "execution_count": 2,
   "id": "0e34b9a0",
   "metadata": {},
   "outputs": [],
   "source": [
    "my_obj = my_func()"
   ]
  },
  {
   "cell_type": "code",
   "execution_count": 3,
   "id": "5147d190",
   "metadata": {},
   "outputs": [],
   "source": [
    "next(my_obj)"
   ]
  },
  {
   "cell_type": "code",
   "execution_count": 4,
   "id": "8ccfa2b7",
   "metadata": {},
   "outputs": [
    {
     "name": "stdout",
     "output_type": "stream",
     "text": [
      "Sum till now is 5\n"
     ]
    }
   ],
   "source": [
    "my_obj.send(5)"
   ]
  },
  {
   "cell_type": "code",
   "execution_count": 5,
   "id": "cc4744ad",
   "metadata": {},
   "outputs": [
    {
     "name": "stdout",
     "output_type": "stream",
     "text": [
      "Sum till now is 15\n"
     ]
    }
   ],
   "source": [
    "my_obj.send(10)"
   ]
  },
  {
   "cell_type": "code",
   "execution_count": 6,
   "id": "a2fe3a80",
   "metadata": {},
   "outputs": [
    {
     "name": "stdout",
     "output_type": "stream",
     "text": [
      "Sum till now is 35\n"
     ]
    }
   ],
   "source": [
    "my_obj.send(20)"
   ]
  },
  {
   "cell_type": "markdown",
   "id": "701e8575",
   "metadata": {},
   "source": [
    "## Implementing Coroutines in Python\n",
    "\n",
    "![Alt text](./images1/sl109.png)"
   ]
  },
  {
   "cell_type": "code",
   "execution_count": 7,
   "id": "b259c03d",
   "metadata": {},
   "outputs": [],
   "source": [
    "def get_max_till_now():\n",
    "    latest = yield\n",
    "    max_till_now = latest\n",
    "    while True:\n",
    "        latest = yield max_till_now\n",
    "        max_till_now = max(latest, max_till_now)\n",
    "        yield max_till_now"
   ]
  },
  {
   "cell_type": "code",
   "execution_count": 8,
   "id": "4ced74de",
   "metadata": {},
   "outputs": [],
   "source": [
    "max_gen = get_max_till_now()"
   ]
  },
  {
   "cell_type": "code",
   "execution_count": 9,
   "id": "5a20bc7f",
   "metadata": {},
   "outputs": [],
   "source": [
    "next(max_gen)"
   ]
  },
  {
   "cell_type": "code",
   "execution_count": 10,
   "id": "4853c434",
   "metadata": {},
   "outputs": [
    {
     "data": {
      "text/plain": [
       "9"
      ]
     },
     "execution_count": 10,
     "metadata": {},
     "output_type": "execute_result"
    }
   ],
   "source": [
    "max_gen.send(9)"
   ]
  },
  {
   "cell_type": "code",
   "execution_count": 11,
   "id": "61d20953",
   "metadata": {},
   "outputs": [
    {
     "data": {
      "text/plain": [
       "11"
      ]
     },
     "execution_count": 11,
     "metadata": {},
     "output_type": "execute_result"
    }
   ],
   "source": [
    "max_gen.send(11)"
   ]
  },
  {
   "cell_type": "code",
   "execution_count": 12,
   "id": "305375bb",
   "metadata": {},
   "outputs": [
    {
     "data": {
      "text/plain": [
       "11"
      ]
     },
     "execution_count": 12,
     "metadata": {},
     "output_type": "execute_result"
    }
   ],
   "source": [
    "max_gen.send(10)"
   ]
  },
  {
   "cell_type": "code",
   "execution_count": 13,
   "id": "9e3aa8b6",
   "metadata": {},
   "outputs": [
    {
     "data": {
      "text/plain": [
       "12"
      ]
     },
     "execution_count": 13,
     "metadata": {},
     "output_type": "execute_result"
    }
   ],
   "source": [
    "max_gen.send(12)"
   ]
  },
  {
   "cell_type": "code",
   "execution_count": 14,
   "id": "300da66f",
   "metadata": {},
   "outputs": [],
   "source": [
    "max_gen.close()"
   ]
  },
  {
   "cell_type": "markdown",
   "id": "0a348fb6",
   "metadata": {},
   "source": [
    "### Another way  of writing Coroutines"
   ]
  },
  {
   "cell_type": "code",
   "execution_count": 15,
   "id": "4ca28bef",
   "metadata": {},
   "outputs": [],
   "source": [
    "def infinite_sum():\n",
    "    print(\"Infinite Sum started\")\n",
    "    sum_till_now = 0\n",
    "    latest = -1\n",
    "    try:\n",
    "        while True:\n",
    "            latest = yield\n",
    "            sum_till_now += latest\n",
    "    except GeneratorExit:\n",
    "        print(\"Final Sum is {}\".format(sum_till_now))"
   ]
  },
  {
   "cell_type": "code",
   "execution_count": 16,
   "id": "1a0f3bda",
   "metadata": {},
   "outputs": [],
   "source": [
    "inf_sum = infinite_sum()"
   ]
  },
  {
   "cell_type": "code",
   "execution_count": 17,
   "id": "a511ea80",
   "metadata": {},
   "outputs": [
    {
     "name": "stdout",
     "output_type": "stream",
     "text": [
      "Infinite Sum started\n"
     ]
    }
   ],
   "source": [
    "next(inf_sum)"
   ]
  },
  {
   "cell_type": "code",
   "execution_count": 18,
   "id": "84b689b9",
   "metadata": {},
   "outputs": [],
   "source": [
    "inf_sum.send(9)"
   ]
  },
  {
   "cell_type": "code",
   "execution_count": 19,
   "id": "d96f25e9",
   "metadata": {},
   "outputs": [],
   "source": [
    "inf_sum.send(19)"
   ]
  },
  {
   "cell_type": "code",
   "execution_count": 20,
   "id": "497bf701",
   "metadata": {},
   "outputs": [],
   "source": [
    "inf_sum.send(100)"
   ]
  },
  {
   "cell_type": "code",
   "execution_count": 21,
   "id": "bb69a437",
   "metadata": {},
   "outputs": [
    {
     "name": "stdout",
     "output_type": "stream",
     "text": [
      "Final Sum is 128\n"
     ]
    }
   ],
   "source": [
    "inf_sum.close()"
   ]
  },
  {
   "cell_type": "markdown",
   "id": "41981137",
   "metadata": {},
   "source": [
    "### Chain Coroutines with other functions"
   ]
  },
  {
   "cell_type": "code",
   "execution_count": 22,
   "id": "8950e72d",
   "metadata": {},
   "outputs": [],
   "source": [
    "def chain_coroutine(num_list, my_coroutine):\n",
    "    for elem in num_list:\n",
    "        my_coroutine.send(elem)\n",
    "    my_coroutine.close()"
   ]
  },
  {
   "cell_type": "code",
   "execution_count": 23,
   "id": "5c24f556",
   "metadata": {},
   "outputs": [],
   "source": [
    "inf_sum = infinite_sum()"
   ]
  },
  {
   "cell_type": "code",
   "execution_count": 24,
   "id": "3544cfc4",
   "metadata": {},
   "outputs": [
    {
     "name": "stdout",
     "output_type": "stream",
     "text": [
      "Infinite Sum started\n"
     ]
    }
   ],
   "source": [
    "next(inf_sum)"
   ]
  },
  {
   "cell_type": "code",
   "execution_count": 25,
   "id": "0a7ffd91",
   "metadata": {},
   "outputs": [
    {
     "name": "stdout",
     "output_type": "stream",
     "text": [
      "Final Sum is 20\n"
     ]
    }
   ],
   "source": [
    "chain_coroutine([1, 2, 3, 4, 10], inf_sum)"
   ]
  },
  {
   "cell_type": "markdown",
   "id": "a85922cd",
   "metadata": {},
   "source": [
    "## Building Data Pipelines Using Coroutines\n",
    "\n",
    "![Alt text](./images1/sl110.png)\n",
    "\n",
    "![Alt text](./images1/sl111.png)\n",
    "\n",
    "![Alt text](./images1/sl112.png)\n",
    "\n",
    "![Alt text](./images1/sl113.png)"
   ]
  },
  {
   "cell_type": "markdown",
   "id": "30e9ca76",
   "metadata": {},
   "source": [
    "### We will be building a Coroutine pipeline for Word Counter"
   ]
  },
  {
   "cell_type": "code",
   "execution_count": 26,
   "id": "342b7862",
   "metadata": {},
   "outputs": [],
   "source": [
    "import re \n",
    "\n",
    "# Producer \n",
    "def word_count_producer(text, sanitize_coroutine):\n",
    "    for word in text.split(' '):\n",
    "        sanitize_coroutine.send(word)\n",
    "    sanitize_coroutine.close()\n",
    "\n",
    "\n",
    "# Filter1: Remove Punctuation\n",
    "def remove_punctuation(next_coroutine):\n",
    "    print(\"Start punctuation removal\")\n",
    "    try:\n",
    "        while True:\n",
    "            word = yield\n",
    "            next_coroutine.send(re.sub(r'[^\\w\\s]','',word))\n",
    "    except:\n",
    "        next_coroutine.close()\n",
    "\n",
    "# Filter2: changes the case to lowercase\n",
    "def sanitize_word(next_coroutine):\n",
    "    print(\"Start lowering words\")\n",
    "    try:\n",
    "        while True:\n",
    "            word = yield\n",
    "            next_coroutine.send(word.lower())\n",
    "    except:\n",
    "        next_coroutine.close()\n",
    "        \n",
    "        \n",
    "# Sink: Prints the word_count\n",
    "def print_word_count():\n",
    "    word_count = {}\n",
    "    try:\n",
    "        while True:\n",
    "            word = yield\n",
    "            if word_count.get(word, None):\n",
    "                word_count[word]+=1\n",
    "            else:\n",
    "                word_count[word] = 1\n",
    "    except GeneratorExit:\n",
    "        print(word_count)\n",
    "        "
   ]
  },
  {
   "cell_type": "code",
   "execution_count": 27,
   "id": "51d472da",
   "metadata": {},
   "outputs": [],
   "source": [
    "#First initialize the sink, and then continue in reverse order\n",
    "my_wc = print_word_count()"
   ]
  },
  {
   "cell_type": "code",
   "execution_count": 28,
   "id": "ad2b56b6",
   "metadata": {},
   "outputs": [],
   "source": [
    "# Call next over sink\n",
    "next(my_wc)"
   ]
  },
  {
   "cell_type": "code",
   "execution_count": 29,
   "id": "44af7d5f",
   "metadata": {},
   "outputs": [],
   "source": [
    "# Initialize the filters in reverse and \n",
    "# chain the sink to the last filter\n",
    "sn_words = sanitize_word(my_wc)"
   ]
  },
  {
   "cell_type": "code",
   "execution_count": 30,
   "id": "484d7751",
   "metadata": {},
   "outputs": [
    {
     "name": "stdout",
     "output_type": "stream",
     "text": [
      "Start lowering words\n"
     ]
    }
   ],
   "source": [
    "next(sn_words)"
   ]
  },
  {
   "cell_type": "code",
   "execution_count": 31,
   "id": "e39e9979",
   "metadata": {},
   "outputs": [],
   "source": [
    "# Similarly, initialize the filters in reverse order\n",
    "# and attach the previously initialized filter to them\n",
    "rem_words = remove_punctuation(sn_words)"
   ]
  },
  {
   "cell_type": "code",
   "execution_count": 32,
   "id": "c566b7fd",
   "metadata": {},
   "outputs": [
    {
     "name": "stdout",
     "output_type": "stream",
     "text": [
      "Start punctuation removal\n"
     ]
    }
   ],
   "source": [
    "next(rem_words)"
   ]
  },
  {
   "cell_type": "code",
   "execution_count": 33,
   "id": "8ab93b57",
   "metadata": {},
   "outputs": [],
   "source": [
    "my_str = \"hello this is a string. This is a good String.\""
   ]
  },
  {
   "cell_type": "code",
   "execution_count": 34,
   "id": "56dc40f1",
   "metadata": {},
   "outputs": [
    {
     "name": "stdout",
     "output_type": "stream",
     "text": [
      "{'hello': 1, 'this': 2, 'is': 2, 'a': 2, 'string': 2, 'good': 1}\n"
     ]
    }
   ],
   "source": [
    "# Finally call the producer with the last initialized filter\n",
    "word_count_producer(my_str,rem_words)"
   ]
  },
  {
   "cell_type": "markdown",
   "id": "c5554b9a",
   "metadata": {},
   "source": [
    "## Functional Composition and Currying in Python\n",
    "\n",
    "![Alt text](./images1/sl114.png)\n",
    "\n",
    "![Alt text](./images1/sl115.png)\n"
   ]
  },
  {
   "cell_type": "markdown",
   "id": "731f4855",
   "metadata": {},
   "source": [
    "### Functional Composition"
   ]
  },
  {
   "cell_type": "code",
   "execution_count": 35,
   "id": "7e07328d",
   "metadata": {},
   "outputs": [],
   "source": [
    "# Takes two functions and chains them like h(g(x))\n",
    "def compose_functions(h_x, g_x):\n",
    "    def final_func(*args, **kwargs):\n",
    "        return h_x(g_x(*args, **kwargs))\n",
    "    return final_func"
   ]
  },
  {
   "cell_type": "code",
   "execution_count": 36,
   "id": "dccc6245",
   "metadata": {},
   "outputs": [],
   "source": [
    "import re \n",
    "\n",
    "def add_suffix(my_string):\n",
    "    return my_string + ' the suffix, was finally added!!!'\n",
    "\n",
    "def remove_punctuation(my_string):\n",
    "    return re.sub(r'[^\\w\\s]','',my_string)\n"
   ]
  },
  {
   "cell_type": "code",
   "execution_count": 37,
   "id": "cdaa2969",
   "metadata": {},
   "outputs": [],
   "source": [
    "composed_f = compose_functions(remove_punctuation, add_suffix)"
   ]
  },
  {
   "cell_type": "code",
   "execution_count": 38,
   "id": "8497b2d5",
   "metadata": {},
   "outputs": [
    {
     "data": {
      "text/plain": [
       "'Hello World the suffix was finally added'"
      ]
     },
     "execution_count": 38,
     "metadata": {},
     "output_type": "execute_result"
    }
   ],
   "source": [
    "composed_f(\"Hello! World?\")\n",
    "#remove_punctuation(\"Hello! World? the suffix, was finally added!!!\")"
   ]
  },
  {
   "cell_type": "code",
   "execution_count": 39,
   "id": "4df75047",
   "metadata": {},
   "outputs": [
    {
     "data": {
      "text/plain": [
       "'Hello World the suffix, was finally added!!!'"
      ]
     },
     "execution_count": 39,
     "metadata": {},
     "output_type": "execute_result"
    }
   ],
   "source": [
    "composed_f2 = compose_functions(add_suffix, remove_punctuation)\n",
    "composed_f2(\"Hello! World?\")\n",
    "#add_suffix(\"Hello World\")"
   ]
  },
  {
   "cell_type": "markdown",
   "id": "e1db096e",
   "metadata": {},
   "source": [
    "### Currying\n",
    "\n",
    "![Alt text](./images1/sl116.png)\n",
    "\n",
    "### Using Partial from functools"
   ]
  },
  {
   "cell_type": "code",
   "execution_count": 40,
   "id": "6a180e39",
   "metadata": {},
   "outputs": [],
   "source": [
    "def do_some_ops(a, b, c, d):\n",
    "    return a * b + c - d"
   ]
  },
  {
   "cell_type": "code",
   "execution_count": 41,
   "id": "e6200d37",
   "metadata": {},
   "outputs": [],
   "source": [
    "from functools import partial\n",
    "\n",
    "# bind b\n",
    "dso_f_b = partial(do_some_ops, b=10)\n",
    "\n",
    "# bind c\n",
    "dso_f_c = partial(dso_f_b, c=100)\n",
    "\n",
    "# bind d\n",
    "dso_f_d = partial(dso_f_c, d=1)\n"
   ]
  },
  {
   "cell_type": "code",
   "execution_count": 42,
   "id": "f34ad939",
   "metadata": {},
   "outputs": [
    {
     "data": {
      "text/plain": [
       "189"
      ]
     },
     "execution_count": 42,
     "metadata": {},
     "output_type": "execute_result"
    }
   ],
   "source": [
    "# call the function for some value of a\n",
    "dso_f_d(9) #do_some_ops(9)(10)(100)(1)"
   ]
  },
  {
   "cell_type": "code",
   "execution_count": 43,
   "id": "14e489e6",
   "metadata": {},
   "outputs": [
    {
     "data": {
      "text/plain": [
       "189"
      ]
     },
     "execution_count": 43,
     "metadata": {},
     "output_type": "execute_result"
    }
   ],
   "source": [
    "# The above call is same as \n",
    "do_some_ops(9, 10, 100, 1)"
   ]
  },
  {
   "cell_type": "code",
   "execution_count": 44,
   "id": "05160617",
   "metadata": {},
   "outputs": [],
   "source": [
    "def predict_land_prices(yr_sold, yr_bought, initial_price, area):\n",
    "    return initial_price + area*(yr_sold-yr_bought)*20 + 2000"
   ]
  },
  {
   "cell_type": "code",
   "execution_count": 45,
   "id": "e6e8847d",
   "metadata": {},
   "outputs": [],
   "source": [
    "# Year bought, area and initial price are fixed for any land\n",
    "\n",
    "# bind year bought\n",
    "plp_yr_bought = partial(predict_land_prices, yr_bought=2012)\n",
    "\n",
    "# bind initial price\n",
    "plp_initial_price = partial(plp_yr_bought, initial_price=50000)\n",
    "\n",
    "#bind plot area\n",
    "plp_area = partial(plp_initial_price, area=1000)\n"
   ]
  },
  {
   "cell_type": "code",
   "execution_count": 46,
   "id": "999ceff8",
   "metadata": {},
   "outputs": [
    {
     "data": {
      "text/plain": [
       "252000"
      ]
     },
     "execution_count": 46,
     "metadata": {},
     "output_type": "execute_result"
    }
   ],
   "source": [
    "plp_area(2022)"
   ]
  },
  {
   "cell_type": "code",
   "execution_count": 47,
   "id": "acdd53d8",
   "metadata": {},
   "outputs": [
    {
     "data": {
      "text/plain": [
       "252000"
      ]
     },
     "execution_count": 47,
     "metadata": {},
     "output_type": "execute_result"
    }
   ],
   "source": [
    "# The above call is same as\n",
    "predict_land_prices(2022, 2012, 50000, 1000)"
   ]
  },
  {
   "cell_type": "code",
   "execution_count": 48,
   "id": "892534c2",
   "metadata": {},
   "outputs": [
    {
     "data": {
      "text/plain": [
       "272000"
      ]
     },
     "execution_count": 48,
     "metadata": {},
     "output_type": "execute_result"
    }
   ],
   "source": [
    "plp_area(2023)"
   ]
  },
  {
   "cell_type": "code",
   "execution_count": 49,
   "id": "c05ee133",
   "metadata": {},
   "outputs": [
    {
     "data": {
      "text/plain": [
       "412000"
      ]
     },
     "execution_count": 49,
     "metadata": {},
     "output_type": "execute_result"
    }
   ],
   "source": [
    "plp_area(2030)"
   ]
  },
  {
   "cell_type": "markdown",
   "id": "f950fef2",
   "metadata": {},
   "source": [
    "### Using Decorators"
   ]
  },
  {
   "cell_type": "code",
   "execution_count": 50,
   "id": "971c6fbf",
   "metadata": {},
   "outputs": [],
   "source": [
    "from inspect import signature\n",
    "\n",
    "# Create a decorator\n",
    "def curry_func(my_func):\n",
    "    \n",
    "    # define inner function\n",
    "    def inner_wrap(args):\n",
    "        \n",
    "        # Check no. of paramters in function signature\n",
    "        if len(signature(my_func).parameters) == 1:\n",
    "            return my_func(args)\n",
    "        \n",
    "        # If more than 1 paramter recursively apply\n",
    "        # the decorator and call partial\n",
    "        else:\n",
    "            return curry_func(partial(my_func, args))\n",
    "        \n",
    "    return inner_wrap"
   ]
  },
  {
   "cell_type": "code",
   "execution_count": 51,
   "id": "8d831f11",
   "metadata": {},
   "outputs": [],
   "source": [
    "@curry_func\n",
    "def do_some_ops(a, b, c, d):\n",
    "    return a * b + c - d"
   ]
  },
  {
   "cell_type": "code",
   "execution_count": 52,
   "id": "0c2e15e3",
   "metadata": {},
   "outputs": [
    {
     "data": {
      "text/plain": [
       "189"
      ]
     },
     "execution_count": 52,
     "metadata": {},
     "output_type": "execute_result"
    }
   ],
   "source": [
    "do_some_ops(9)(10)(100)(1)"
   ]
  },
  {
   "cell_type": "code",
   "execution_count": 53,
   "id": "99de6779",
   "metadata": {},
   "outputs": [],
   "source": [
    "@curry_func\n",
    "def predict_land_prices(yr_sold, yr_bought, initial_price, area):\n",
    "    return initial_price + area*(yr_sold-yr_bought)*20 + 2000"
   ]
  },
  {
   "cell_type": "code",
   "execution_count": 54,
   "id": "a8a14f6e",
   "metadata": {},
   "outputs": [
    {
     "data": {
      "text/plain": [
       "252000"
      ]
     },
     "execution_count": 54,
     "metadata": {},
     "output_type": "execute_result"
    }
   ],
   "source": [
    "predict_land_prices(2022)(2012)(50000)(1000)"
   ]
  },
  {
   "cell_type": "markdown",
   "id": "77e19ded",
   "metadata": {},
   "source": [
    "![Alt text](./images1/sl117.png)"
   ]
  },
  {
   "cell_type": "markdown",
   "id": "12c009d6",
   "metadata": {},
   "source": [
    "## Using Functors in Python\n",
    "\n",
    "![Alt text](./images1/sl118.png)\n"
   ]
  },
  {
   "cell_type": "markdown",
   "id": "6350cd7e",
   "metadata": {},
   "source": [
    "### A simple Functor example"
   ]
  },
  {
   "cell_type": "code",
   "execution_count": 55,
   "id": "dc87f97e",
   "metadata": {},
   "outputs": [],
   "source": [
    "def my_func(a, b):\n",
    "    return a + b"
   ]
  },
  {
   "cell_type": "code",
   "execution_count": 56,
   "id": "21ded09e",
   "metadata": {},
   "outputs": [],
   "source": [
    "my_functor = my_func"
   ]
  },
  {
   "cell_type": "code",
   "execution_count": 57,
   "id": "40a0ffca",
   "metadata": {},
   "outputs": [
    {
     "data": {
      "text/plain": [
       "15"
      ]
     },
     "execution_count": 57,
     "metadata": {},
     "output_type": "execute_result"
    }
   ],
   "source": [
    "my_functor(10, 5)"
   ]
  },
  {
   "cell_type": "code",
   "execution_count": 58,
   "id": "e3651cc4",
   "metadata": {},
   "outputs": [
    {
     "data": {
      "text/plain": [
       "15"
      ]
     },
     "execution_count": 58,
     "metadata": {},
     "output_type": "execute_result"
    }
   ],
   "source": [
    "my_func(10, 5)"
   ]
  },
  {
   "cell_type": "markdown",
   "id": "efa1fba0",
   "metadata": {},
   "source": [
    "### Using Functors for   \n",
    "1. Data hiding\n",
    "2. Method dispatching based on argument type"
   ]
  },
  {
   "cell_type": "code",
   "execution_count": 59,
   "id": "1e57ab10",
   "metadata": {},
   "outputs": [],
   "source": [
    "class my_functor:\n",
    "    def __call__(self, inp):\n",
    "        \n",
    "        if isinstance(inp[0], int):\n",
    "            return self.add_2_int(inp)\n",
    "        \n",
    "        elif isinstance(inp[0], str):\n",
    "            return self.add_2_str(inp)\n",
    "    \n",
    "    def add_2_int(self, inp):\n",
    "        result = 0\n",
    "        for x in inp:\n",
    "            result += x\n",
    "        return result\n",
    "    \n",
    "    def add_2_str(self, inp):\n",
    "        result = \" \"\n",
    "        for x in inp:\n",
    "            result += x + \" \"\n",
    "        return result"
   ]
  },
  {
   "cell_type": "code",
   "execution_count": 60,
   "id": "e3af08e5",
   "metadata": {},
   "outputs": [],
   "source": [
    "class exposed_Class(): \n",
    "    def __init__(self): \n",
    "        self.adder=my_functor() \n",
    "      \n",
    "    def add_stuff(self, my_list): \n",
    "        return self.adder(my_list) \n",
    "  \n",
    "my_obj = exposed_Class()"
   ]
  },
  {
   "cell_type": "code",
   "execution_count": 61,
   "id": "9bf95990",
   "metadata": {},
   "outputs": [
    {
     "data": {
      "text/plain": [
       "' hello world '"
      ]
     },
     "execution_count": 61,
     "metadata": {},
     "output_type": "execute_result"
    }
   ],
   "source": [
    "my_obj.add_stuff([\"hello\", \"world\"])"
   ]
  },
  {
   "cell_type": "code",
   "execution_count": 62,
   "id": "73ea091f",
   "metadata": {},
   "outputs": [
    {
     "data": {
      "text/plain": [
       "6"
      ]
     },
     "execution_count": 62,
     "metadata": {},
     "output_type": "execute_result"
    }
   ],
   "source": [
    "my_obj.add_stuff([1, 2, 3])"
   ]
  },
  {
   "cell_type": "markdown",
   "id": "0001ce80",
   "metadata": {},
   "source": [
    "### The definition of Functors can be extended to Callable objects like classes with __call__ method implemented"
   ]
  },
  {
   "cell_type": "code",
   "execution_count": 63,
   "id": "c379d462",
   "metadata": {},
   "outputs": [],
   "source": [
    "class my_operation_doer:\n",
    "    # Class constructor\n",
    "    def __init__(self, init_val, op):\n",
    "        self.op = op\n",
    "        self.val = init_val\n",
    "    \n",
    "    #Reduce by doing some operations\n",
    "    def __call__(self, inp):\n",
    "        result = self.op(self.val, inp)\n",
    "        self.val = result\n",
    "        return result"
   ]
  },
  {
   "cell_type": "code",
   "execution_count": 64,
   "id": "9615a10b",
   "metadata": {},
   "outputs": [],
   "source": [
    "from operator import mul\n",
    "my_obj = my_operation_doer(10, mul)"
   ]
  },
  {
   "cell_type": "code",
   "execution_count": 65,
   "id": "ff4166bb",
   "metadata": {},
   "outputs": [
    {
     "data": {
      "text/plain": [
       "1000"
      ]
     },
     "execution_count": 65,
     "metadata": {},
     "output_type": "execute_result"
    }
   ],
   "source": [
    "my_obj(100)"
   ]
  },
  {
   "cell_type": "code",
   "execution_count": 66,
   "id": "bcd49706",
   "metadata": {},
   "outputs": [
    {
     "data": {
      "text/plain": [
       "2000"
      ]
     },
     "execution_count": 66,
     "metadata": {},
     "output_type": "execute_result"
    }
   ],
   "source": [
    "my_obj(2)"
   ]
  },
  {
   "cell_type": "code",
   "execution_count": 67,
   "id": "803b5b07",
   "metadata": {},
   "outputs": [
    {
     "data": {
      "text/plain": [
       "8000"
      ]
     },
     "execution_count": 67,
     "metadata": {},
     "output_type": "execute_result"
    }
   ],
   "source": [
    "my_obj(4)"
   ]
  },
  {
   "cell_type": "code",
   "execution_count": 68,
   "id": "dd0f977c",
   "metadata": {},
   "outputs": [
    {
     "data": {
      "text/plain": [
       "80000"
      ]
     },
     "execution_count": 68,
     "metadata": {},
     "output_type": "execute_result"
    }
   ],
   "source": [
    "my_obj(10)"
   ]
  },
  {
   "cell_type": "markdown",
   "id": "2f10911a",
   "metadata": {},
   "source": [
    "![Alt text](./images1/sl119.png)"
   ]
  },
  {
   "cell_type": "markdown",
   "id": "d091b2f5",
   "metadata": {},
   "source": [
    "### Single and Multiple Method Dispatching\n",
    "\n",
    "![Alt text](./images1/sl120.png)\n"
   ]
  },
  {
   "cell_type": "markdown",
   "id": "2dd1c543",
   "metadata": {},
   "source": [
    "### Dispatching using Dictionary"
   ]
  },
  {
   "cell_type": "code",
   "execution_count": 69,
   "id": "80259846",
   "metadata": {},
   "outputs": [],
   "source": [
    "# add_2_int(3, 4) --> [7]\n",
    "def add_2_ints(a, b):\n",
    "    return a + b"
   ]
  },
  {
   "cell_type": "code",
   "execution_count": 70,
   "id": "f402b11c",
   "metadata": {},
   "outputs": [],
   "source": [
    "# add_2_list([1, 2], [3, 4]) --> [1, 2, 3, 4]\n",
    "def add_2_lists(a, b):\n",
    "    return a + b "
   ]
  },
  {
   "cell_type": "code",
   "execution_count": 71,
   "id": "2f224aa8",
   "metadata": {},
   "outputs": [],
   "source": [
    "# add_2_str(\"yolo\", \"swag\") --> \"yolo swag\"\n",
    "def add_2_str(a, b):\n",
    "    return a + \" \" + b"
   ]
  },
  {
   "cell_type": "code",
   "execution_count": 72,
   "id": "a32bed0c",
   "metadata": {},
   "outputs": [],
   "source": [
    "my_dispatch_dict = {\n",
    "    (int, int): add_2_ints,\n",
    "    (str, str): add_2_str,\n",
    "    (list, list): add_2_lists\n",
    "}"
   ]
  },
  {
   "cell_type": "code",
   "execution_count": 73,
   "id": "d77b4a54",
   "metadata": {},
   "outputs": [],
   "source": [
    "def add_2_stuff(a, b):\n",
    "    get_type_a = type(a)\n",
    "    get_type_b = type(b)\n",
    "    if not my_dispatch_dict.get((get_type_a, get_type_b), None):\n",
    "        return \"Not implemented for these types yet\"\n",
    "    return my_dispatch_dict[(get_type_a, get_type_b)](a, b)"
   ]
  },
  {
   "cell_type": "code",
   "execution_count": 74,
   "id": "ec4dde06",
   "metadata": {},
   "outputs": [
    {
     "data": {
      "text/plain": [
       "15"
      ]
     },
     "execution_count": 74,
     "metadata": {},
     "output_type": "execute_result"
    }
   ],
   "source": [
    "add_2_stuff(10, 5)"
   ]
  },
  {
   "cell_type": "code",
   "execution_count": 75,
   "id": "0364ab83",
   "metadata": {},
   "outputs": [
    {
     "data": {
      "text/plain": [
       "'hello world'"
      ]
     },
     "execution_count": 75,
     "metadata": {},
     "output_type": "execute_result"
    }
   ],
   "source": [
    "add_2_stuff(\"hello\", \"world\")"
   ]
  },
  {
   "cell_type": "code",
   "execution_count": 76,
   "id": "82b0ab18",
   "metadata": {},
   "outputs": [
    {
     "data": {
      "text/plain": [
       "[1, 2, 'hello', 4, 5, 'world']"
      ]
     },
     "execution_count": 76,
     "metadata": {},
     "output_type": "execute_result"
    }
   ],
   "source": [
    "add_2_stuff([1, 2, \"hello\"],[4, 5, \"world\"] )"
   ]
  },
  {
   "cell_type": "code",
   "execution_count": 77,
   "id": "44c7c7b5",
   "metadata": {},
   "outputs": [
    {
     "data": {
      "text/plain": [
       "'Not implemented for these types yet'"
      ]
     },
     "execution_count": 77,
     "metadata": {},
     "output_type": "execute_result"
    }
   ],
   "source": [
    "add_2_stuff(1.0, 1)"
   ]
  },
  {
   "cell_type": "markdown",
   "id": "da9d0a6c",
   "metadata": {},
   "source": [
    "### Single dispatching (dispatching based on first parameter)"
   ]
  },
  {
   "cell_type": "code",
   "execution_count": 78,
   "id": "20f11ca3",
   "metadata": {},
   "outputs": [],
   "source": [
    "from functools import singledispatch"
   ]
  },
  {
   "cell_type": "code",
   "execution_count": 80,
   "id": "a28a64ba",
   "metadata": {},
   "outputs": [],
   "source": [
    "@singledispatch\n",
    "def add_2_stuff(a, b):\n",
    "\n",
    "    raise NotImplementedError('We haven\\'t implemented for this type')\n"
   ]
  },
  {
   "cell_type": "code",
   "execution_count": 84,
   "id": "61bdf6f8",
   "metadata": {},
   "outputs": [],
   "source": [
    "@add_2_stuff.register(int)\n",
    "def _(a, b):\n",
    "    print(\"Running for int type\")\n",
    "    return a + b"
   ]
  },
  {
   "cell_type": "code",
   "execution_count": 81,
   "id": "de0b5dfa",
   "metadata": {},
   "outputs": [],
   "source": [
    "@add_2_stuff.register(str)\n",
    "def _(a, b):\n",
    "    print(\"Running for str type\")\n",
    "    return a + \" \" + b"
   ]
  },
  {
   "cell_type": "code",
   "execution_count": 82,
   "id": "8eba899a",
   "metadata": {},
   "outputs": [],
   "source": [
    "@add_2_stuff.register(list)\n",
    "def _(a, b):\n",
    "    print(\"Running for str type\")\n",
    "    return a + b"
   ]
  },
  {
   "cell_type": "code",
   "execution_count": 85,
   "id": "d6421842",
   "metadata": {},
   "outputs": [
    {
     "name": "stdout",
     "output_type": "stream",
     "text": [
      "Running for int type\n"
     ]
    },
    {
     "data": {
      "text/plain": [
       "9"
      ]
     },
     "execution_count": 85,
     "metadata": {},
     "output_type": "execute_result"
    }
   ],
   "source": [
    "add_2_stuff(4, 5)"
   ]
  },
  {
   "cell_type": "code",
   "execution_count": 86,
   "id": "d18a7dbc",
   "metadata": {},
   "outputs": [
    {
     "name": "stdout",
     "output_type": "stream",
     "text": [
      "Running for str type\n"
     ]
    },
    {
     "data": {
      "text/plain": [
       "'hello World'"
      ]
     },
     "execution_count": 86,
     "metadata": {},
     "output_type": "execute_result"
    }
   ],
   "source": [
    "add_2_stuff(\"hello\", \"World\")"
   ]
  },
  {
   "cell_type": "code",
   "execution_count": 87,
   "id": "26a1be98",
   "metadata": {},
   "outputs": [
    {
     "name": "stdout",
     "output_type": "stream",
     "text": [
      "Running for str type\n"
     ]
    },
    {
     "data": {
      "text/plain": [
       "[1, 2, 'hello', 4, 5, 'world']"
      ]
     },
     "execution_count": 87,
     "metadata": {},
     "output_type": "execute_result"
    }
   ],
   "source": [
    "add_2_stuff([1, 2, \"hello\"],[4, 5, \"world\"] )"
   ]
  },
  {
   "cell_type": "markdown",
   "id": "7c7b235b",
   "metadata": {},
   "source": [
    "### We can stack multiple single dispatched together"
   ]
  },
  {
   "cell_type": "code",
   "execution_count": 88,
   "id": "c40785e4",
   "metadata": {},
   "outputs": [],
   "source": [
    "@add_2_stuff.register(int)\n",
    "@add_2_stuff.register(float)\n",
    "def _(a, b):\n",
    "    print(\"Running for int or double type\")\n",
    "    return a + b"
   ]
  },
  {
   "cell_type": "code",
   "execution_count": 89,
   "id": "907d4549",
   "metadata": {},
   "outputs": [
    {
     "name": "stdout",
     "output_type": "stream",
     "text": [
      "Running for int or double type\n"
     ]
    },
    {
     "data": {
      "text/plain": [
       "19.0"
      ]
     },
     "execution_count": 89,
     "metadata": {},
     "output_type": "execute_result"
    }
   ],
   "source": [
    "add_2_stuff(9.0, 10.0)"
   ]
  },
  {
   "cell_type": "code",
   "execution_count": 90,
   "id": "d9fc904e",
   "metadata": {},
   "outputs": [
    {
     "ename": "NotImplementedError",
     "evalue": "We haven't implemented for this type",
     "output_type": "error",
     "traceback": [
      "\u001b[1;31m---------------------------------------------------------------------------\u001b[0m",
      "\u001b[1;31mNotImplementedError\u001b[0m                       Traceback (most recent call last)",
      "Input \u001b[1;32mIn [90]\u001b[0m, in \u001b[0;36m<cell line: 1>\u001b[1;34m()\u001b[0m\n\u001b[1;32m----> 1\u001b[0m \u001b[43madd_2_stuff\u001b[49m\u001b[43m(\u001b[49m\u001b[43m(\u001b[49m\u001b[43m)\u001b[49m\u001b[43m,\u001b[49m\u001b[43m \u001b[49m\u001b[43m{\u001b[49m\u001b[43m}\u001b[49m\u001b[43m)\u001b[49m\n",
      "File \u001b[1;32m~\\Desktop\\pajton-kurs\\probni_projekat\\env\\lib\\functools.py:888\u001b[0m, in \u001b[0;36msingledispatch.<locals>.wrapper\u001b[1;34m(*args, **kw)\u001b[0m\n\u001b[0;32m    884\u001b[0m \u001b[38;5;28;01mif\u001b[39;00m \u001b[38;5;129;01mnot\u001b[39;00m args:\n\u001b[0;32m    885\u001b[0m     \u001b[38;5;28;01mraise\u001b[39;00m \u001b[38;5;167;01mTypeError\u001b[39;00m(\u001b[38;5;124mf\u001b[39m\u001b[38;5;124m'\u001b[39m\u001b[38;5;132;01m{\u001b[39;00mfuncname\u001b[38;5;132;01m}\u001b[39;00m\u001b[38;5;124m requires at least \u001b[39m\u001b[38;5;124m'\u001b[39m\n\u001b[0;32m    886\u001b[0m                     \u001b[38;5;124m'\u001b[39m\u001b[38;5;124m1 positional argument\u001b[39m\u001b[38;5;124m'\u001b[39m)\n\u001b[1;32m--> 888\u001b[0m \u001b[38;5;28;01mreturn\u001b[39;00m dispatch(args[\u001b[38;5;241m0\u001b[39m]\u001b[38;5;241m.\u001b[39m\u001b[38;5;18m__class__\u001b[39m)(\u001b[38;5;241m*\u001b[39margs, \u001b[38;5;241m*\u001b[39m\u001b[38;5;241m*\u001b[39mkw)\n",
      "Input \u001b[1;32mIn [80]\u001b[0m, in \u001b[0;36madd_2_stuff\u001b[1;34m(a, b)\u001b[0m\n\u001b[0;32m      1\u001b[0m \u001b[38;5;129m@singledispatch\u001b[39m\n\u001b[0;32m      2\u001b[0m \u001b[38;5;28;01mdef\u001b[39;00m \u001b[38;5;21madd_2_stuff\u001b[39m(a, b):\n\u001b[1;32m----> 4\u001b[0m     \u001b[38;5;28;01mraise\u001b[39;00m \u001b[38;5;167;01mNotImplementedError\u001b[39;00m(\u001b[38;5;124m'\u001b[39m\u001b[38;5;124mWe haven\u001b[39m\u001b[38;5;130;01m\\'\u001b[39;00m\u001b[38;5;124mt implemented for this type\u001b[39m\u001b[38;5;124m'\u001b[39m)\n",
      "\u001b[1;31mNotImplementedError\u001b[0m: We haven't implemented for this type"
     ]
    }
   ],
   "source": [
    "add_2_stuff((), {})"
   ]
  },
  {
   "cell_type": "markdown",
   "id": "09217330",
   "metadata": {},
   "source": [
    "### It only checks for the first argument type"
   ]
  },
  {
   "cell_type": "code",
   "execution_count": 91,
   "id": "ccc66ef7",
   "metadata": {},
   "outputs": [
    {
     "name": "stdout",
     "output_type": "stream",
     "text": [
      "Running for int or double type\n"
     ]
    },
    {
     "ename": "TypeError",
     "evalue": "unsupported operand type(s) for +: 'int' and 'dict'",
     "output_type": "error",
     "traceback": [
      "\u001b[1;31m---------------------------------------------------------------------------\u001b[0m",
      "\u001b[1;31mTypeError\u001b[0m                                 Traceback (most recent call last)",
      "Input \u001b[1;32mIn [91]\u001b[0m, in \u001b[0;36m<cell line: 1>\u001b[1;34m()\u001b[0m\n\u001b[1;32m----> 1\u001b[0m \u001b[43madd_2_stuff\u001b[49m\u001b[43m(\u001b[49m\u001b[38;5;241;43m2\u001b[39;49m\u001b[43m,\u001b[49m\u001b[43m \u001b[49m\u001b[43m{\u001b[49m\u001b[43m}\u001b[49m\u001b[43m)\u001b[49m\n",
      "File \u001b[1;32m~\\Desktop\\pajton-kurs\\probni_projekat\\env\\lib\\functools.py:888\u001b[0m, in \u001b[0;36msingledispatch.<locals>.wrapper\u001b[1;34m(*args, **kw)\u001b[0m\n\u001b[0;32m    884\u001b[0m \u001b[38;5;28;01mif\u001b[39;00m \u001b[38;5;129;01mnot\u001b[39;00m args:\n\u001b[0;32m    885\u001b[0m     \u001b[38;5;28;01mraise\u001b[39;00m \u001b[38;5;167;01mTypeError\u001b[39;00m(\u001b[38;5;124mf\u001b[39m\u001b[38;5;124m'\u001b[39m\u001b[38;5;132;01m{\u001b[39;00mfuncname\u001b[38;5;132;01m}\u001b[39;00m\u001b[38;5;124m requires at least \u001b[39m\u001b[38;5;124m'\u001b[39m\n\u001b[0;32m    886\u001b[0m                     \u001b[38;5;124m'\u001b[39m\u001b[38;5;124m1 positional argument\u001b[39m\u001b[38;5;124m'\u001b[39m)\n\u001b[1;32m--> 888\u001b[0m \u001b[38;5;28;01mreturn\u001b[39;00m dispatch(args[\u001b[38;5;241m0\u001b[39m]\u001b[38;5;241m.\u001b[39m\u001b[38;5;18m__class__\u001b[39m)(\u001b[38;5;241m*\u001b[39margs, \u001b[38;5;241m*\u001b[39m\u001b[38;5;241m*\u001b[39mkw)\n",
      "Input \u001b[1;32mIn [88]\u001b[0m, in \u001b[0;36m_\u001b[1;34m(a, b)\u001b[0m\n\u001b[0;32m      1\u001b[0m \u001b[38;5;129m@add_2_stuff\u001b[39m\u001b[38;5;241m.\u001b[39mregister(\u001b[38;5;28mint\u001b[39m)\n\u001b[0;32m      2\u001b[0m \u001b[38;5;129m@add_2_stuff\u001b[39m\u001b[38;5;241m.\u001b[39mregister(\u001b[38;5;28mfloat\u001b[39m)\n\u001b[0;32m      3\u001b[0m \u001b[38;5;28;01mdef\u001b[39;00m \u001b[38;5;21m_\u001b[39m(a, b):\n\u001b[0;32m      4\u001b[0m     \u001b[38;5;28mprint\u001b[39m(\u001b[38;5;124m\"\u001b[39m\u001b[38;5;124mRunning for int or double type\u001b[39m\u001b[38;5;124m\"\u001b[39m)\n\u001b[1;32m----> 5\u001b[0m     \u001b[38;5;28;01mreturn\u001b[39;00m \u001b[43ma\u001b[49m\u001b[43m \u001b[49m\u001b[38;5;241;43m+\u001b[39;49m\u001b[43m \u001b[49m\u001b[43mb\u001b[49m\n",
      "\u001b[1;31mTypeError\u001b[0m: unsupported operand type(s) for +: 'int' and 'dict'"
     ]
    }
   ],
   "source": [
    "add_2_stuff(2, {})"
   ]
  },
  {
   "cell_type": "code",
   "execution_count": 92,
   "id": "5ecd9231",
   "metadata": {},
   "outputs": [
    {
     "ename": "ModuleNotFoundError",
     "evalue": "No module named 'multipledispatch'",
     "output_type": "error",
     "traceback": [
      "\u001b[1;31m---------------------------------------------------------------------------\u001b[0m",
      "\u001b[1;31mModuleNotFoundError\u001b[0m                       Traceback (most recent call last)",
      "Input \u001b[1;32mIn [92]\u001b[0m, in \u001b[0;36m<cell line: 1>\u001b[1;34m()\u001b[0m\n\u001b[1;32m----> 1\u001b[0m \u001b[38;5;28;01mfrom\u001b[39;00m \u001b[38;5;21;01mmultipledispatch\u001b[39;00m \u001b[38;5;28;01mimport\u001b[39;00m dispatch\n",
      "\u001b[1;31mModuleNotFoundError\u001b[0m: No module named 'multipledispatch'"
     ]
    }
   ],
   "source": [
    "from multipledispatch import dispatch"
   ]
  },
  {
   "cell_type": "code",
   "execution_count": null,
   "id": "c6e89794",
   "metadata": {},
   "outputs": [],
   "source": [
    "@dispatch(int, int)\n",
    "def add_2_stuff_multi(a, b):\n",
    "    return a + b"
   ]
  },
  {
   "cell_type": "markdown",
   "id": "b0a6c980",
   "metadata": {},
   "source": [
    "### Multiple dispatching using multipledispatch"
   ]
  },
  {
   "cell_type": "markdown",
   "id": "b70abaf2",
   "metadata": {},
   "source": [
    "Link : https://pypi.org/project/multipledispatch/"
   ]
  },
  {
   "cell_type": "code",
   "execution_count": 93,
   "id": "00c5248c",
   "metadata": {},
   "outputs": [
    {
     "ename": "ModuleNotFoundError",
     "evalue": "No module named 'multipledispatch'",
     "output_type": "error",
     "traceback": [
      "\u001b[1;31m---------------------------------------------------------------------------\u001b[0m",
      "\u001b[1;31mModuleNotFoundError\u001b[0m                       Traceback (most recent call last)",
      "Input \u001b[1;32mIn [93]\u001b[0m, in \u001b[0;36m<cell line: 1>\u001b[1;34m()\u001b[0m\n\u001b[1;32m----> 1\u001b[0m \u001b[38;5;28;01mfrom\u001b[39;00m \u001b[38;5;21;01mmultipledispatch\u001b[39;00m \u001b[38;5;28;01mimport\u001b[39;00m dispatch\n",
      "\u001b[1;31mModuleNotFoundError\u001b[0m: No module named 'multipledispatch'"
     ]
    }
   ],
   "source": [
    "from multipledispatch import dispatch"
   ]
  },
  {
   "cell_type": "code",
   "execution_count": null,
   "id": "faaa8c2d",
   "metadata": {},
   "outputs": [],
   "source": [
    "@dispatch(int, int)\n",
    "def add_2_multi_dispatch(a, b):\n",
    "    print \"Running for int, int\"\n",
    "    return a + b"
   ]
  },
  {
   "cell_type": "code",
   "execution_count": null,
   "id": "e986bda7",
   "metadata": {},
   "outputs": [],
   "source": [
    "@dispatch(int, float)\n",
    "def add_2_multi_dispatch(a, b):\n",
    "    print \"Running for int, float\"\n",
    "    return a + b"
   ]
  },
  {
   "cell_type": "code",
   "execution_count": null,
   "id": "8d9fc97c",
   "metadata": {},
   "outputs": [],
   "source": [
    "add_2_multi_dispatch(10, 10.0)"
   ]
  },
  {
   "cell_type": "code",
   "execution_count": null,
   "id": "d97b2a31",
   "metadata": {},
   "outputs": [],
   "source": [
    "@dispatch(float, int)\n",
    "def add_2_multi_dispatch(a, b):\n",
    "    print \"Running for int, float\"\n",
    "    return a + b"
   ]
  },
  {
   "cell_type": "code",
   "execution_count": 94,
   "id": "6082ded3",
   "metadata": {},
   "outputs": [
    {
     "ename": "NameError",
     "evalue": "name 'add_2_multi_dispatch' is not defined",
     "output_type": "error",
     "traceback": [
      "\u001b[1;31m---------------------------------------------------------------------------\u001b[0m",
      "\u001b[1;31mNameError\u001b[0m                                 Traceback (most recent call last)",
      "Input \u001b[1;32mIn [94]\u001b[0m, in \u001b[0;36m<cell line: 1>\u001b[1;34m()\u001b[0m\n\u001b[1;32m----> 1\u001b[0m \u001b[43madd_2_multi_dispatch\u001b[49m(\u001b[38;5;241m10.0\u001b[39m, \u001b[38;5;241m10\u001b[39m)\n",
      "\u001b[1;31mNameError\u001b[0m: name 'add_2_multi_dispatch' is not defined"
     ]
    }
   ],
   "source": [
    "add_2_multi_dispatch(10.0, 10)"
   ]
  },
  {
   "cell_type": "code",
   "execution_count": null,
   "id": "c32d0b93",
   "metadata": {},
   "outputs": [],
   "source": [
    "@dispatch(float, float)\n",
    "def add_2_multi_dispatch(a, b):\n",
    "    print \"Running for float both\"\n",
    "    return a + b"
   ]
  },
  {
   "cell_type": "code",
   "execution_count": null,
   "id": "fcb63b0a",
   "metadata": {},
   "outputs": [],
   "source": [
    "add_2_multi_dispatch(10.0, 10.0)"
   ]
  },
  {
   "cell_type": "markdown",
   "id": "0aefeb49",
   "metadata": {},
   "source": [
    "![Alt text](./images1/sl121.png)"
   ]
  },
  {
   "cell_type": "markdown",
   "id": "c95ee691",
   "metadata": {},
   "source": [
    "## Introduction to Monads\n",
    "\n",
    "![Alt text](./images1/sl122.png)\n",
    "\n",
    "![Alt text](./images1/sl123.png)\n",
    "\n",
    "![Alt text](./images1/sl124.png)\n",
    "\n",
    "![Alt text](./images1/sl125.png)"
   ]
  },
  {
   "cell_type": "code",
   "execution_count": 112,
   "id": "bdd589f1",
   "metadata": {},
   "outputs": [],
   "source": [
    "# Define what your Nothing value will be\n",
    "# It can be NaN, Nothing, etc\n",
    "\n",
    "nothing_value = 'Nothing Value' "
   ]
  },
  {
   "cell_type": "code",
   "execution_count": 113,
   "id": "a7e5267a",
   "metadata": {},
   "outputs": [],
   "source": [
    "class Monad:\n",
    "    # This is the unit operation\n",
    "    # which converts any value into a Monad\n",
    "    def __init__(self, value):\n",
    "        self.val = value\n",
    "    \n",
    "    #This function returns the object representation.\n",
    "    def __repr__(self):\n",
    "        return str(self.val)"
   ]
  },
  {
   "cell_type": "code",
   "execution_count": 114,
   "id": "31de0d0e",
   "metadata": {},
   "outputs": [],
   "source": [
    "class NothingValue(Monad):\n",
    "    def __init__(self, value=nothing_value):\n",
    "        self.val = nothing_value\n",
    "    \n",
    "    #Any function aplied on Nothing returns Nothing\n",
    "    def bind(self, my_func):\n",
    "        return self.val"
   ]
  },
  {
   "cell_type": "code",
   "execution_count": 115,
   "id": "52b9dcab",
   "metadata": {},
   "outputs": [],
   "source": [
    "class JustValue(Monad):\n",
    "    def __init__(self, value):\n",
    "        #For Python 2.x version\n",
    "        #Monad.__init__(self, value)\n",
    "        \n",
    "        #For Python 3.x version uncomment the following code\n",
    "        super().__init__(value)\n",
    "    \n",
    "    def bind(self, my_func):\n",
    "        try:\n",
    "            #Turn a normal function into a function \n",
    "            #that accepts Monad Values\n",
    "            return JustValue(my_func(self.val))\n",
    "        except:\n",
    "            #Return Nothing in case of invalid operation\n",
    "            return NothingValue()"
   ]
  },
  {
   "cell_type": "code",
   "execution_count": 116,
   "id": "fdb8e6a2",
   "metadata": {},
   "outputs": [],
   "source": [
    "def add_2(x):\n",
    "    return x+2"
   ]
  },
  {
   "cell_type": "code",
   "execution_count": 117,
   "id": "9d4d3255",
   "metadata": {},
   "outputs": [],
   "source": [
    "Just_3 = JustValue(3)"
   ]
  },
  {
   "cell_type": "code",
   "execution_count": 118,
   "id": "042f8843",
   "metadata": {},
   "outputs": [
    {
     "data": {
      "text/plain": [
       "5"
      ]
     },
     "execution_count": 118,
     "metadata": {},
     "output_type": "execute_result"
    }
   ],
   "source": [
    "Just_3.bind(add_2)"
   ]
  },
  {
   "cell_type": "code",
   "execution_count": 119,
   "id": "270ad82f",
   "metadata": {},
   "outputs": [],
   "source": [
    "Just_str = JustValue(\"hello\")"
   ]
  },
  {
   "cell_type": "code",
   "execution_count": 120,
   "id": "fb896c3b",
   "metadata": {},
   "outputs": [
    {
     "data": {
      "text/plain": [
       "Nothing Value"
      ]
     },
     "execution_count": 120,
     "metadata": {},
     "output_type": "execute_result"
    }
   ],
   "source": [
    "Just_str.bind(add_2)"
   ]
  },
  {
   "cell_type": "code",
   "execution_count": 121,
   "id": "5e951220",
   "metadata": {},
   "outputs": [],
   "source": [
    "Nothing_value_obj = NothingValue()"
   ]
  },
  {
   "cell_type": "code",
   "execution_count": 122,
   "id": "9c33f4f0",
   "metadata": {},
   "outputs": [
    {
     "data": {
      "text/plain": [
       "'Nothing Value'"
      ]
     },
     "execution_count": 122,
     "metadata": {},
     "output_type": "execute_result"
    }
   ],
   "source": [
    "Nothing_value_obj.bind(add_2)"
   ]
  },
  {
   "cell_type": "code",
   "execution_count": 123,
   "id": "12c78e7a",
   "metadata": {},
   "outputs": [],
   "source": [
    "#You can pass anything here\n",
    "# But it will still be nothing\n",
    "Nothing_value_obj = NothingValue(1223)"
   ]
  },
  {
   "cell_type": "code",
   "execution_count": 124,
   "id": "b6264086",
   "metadata": {},
   "outputs": [
    {
     "data": {
      "text/plain": [
       "'Nothing Value'"
      ]
     },
     "execution_count": 124,
     "metadata": {},
     "output_type": "execute_result"
    }
   ],
   "source": [
    "Nothing_value_obj.bind(add_2)"
   ]
  },
  {
   "cell_type": "code",
   "execution_count": 125,
   "id": "2d766b7c",
   "metadata": {},
   "outputs": [],
   "source": [
    "def add_suffix(my_str):\n",
    "    return my_str + ' world!'"
   ]
  },
  {
   "cell_type": "code",
   "execution_count": 126,
   "id": "9b8c9c6e",
   "metadata": {},
   "outputs": [
    {
     "data": {
      "text/plain": [
       "Nothing Value"
      ]
     },
     "execution_count": 126,
     "metadata": {},
     "output_type": "execute_result"
    }
   ],
   "source": [
    "Just_3.bind(add_suffix)  #invalid operation"
   ]
  },
  {
   "cell_type": "code",
   "execution_count": 127,
   "id": "0c6f3d55",
   "metadata": {},
   "outputs": [
    {
     "data": {
      "text/plain": [
       "hello world!"
      ]
     },
     "execution_count": 127,
     "metadata": {},
     "output_type": "execute_result"
    }
   ],
   "source": [
    "Just_str.bind(add_suffix)  #valid operation"
   ]
  },
  {
   "cell_type": "code",
   "execution_count": 128,
   "id": "974b1c86",
   "metadata": {},
   "outputs": [
    {
     "data": {
      "text/plain": [
       "'Nothing Value'"
      ]
     },
     "execution_count": 128,
     "metadata": {},
     "output_type": "execute_result"
    }
   ],
   "source": [
    "#Any operation on Nothing returns nothing\n",
    "Nothing_value_obj.bind(add_suffix)  "
   ]
  },
  {
   "cell_type": "markdown",
   "id": "28085601",
   "metadata": {},
   "source": [
    "![Alt text](./images1/sl126.png)"
   ]
  },
  {
   "cell_type": "markdown",
   "id": "a7b455df",
   "metadata": {},
   "source": [
    "## Using the PyMonad Library\n",
    "\n",
    "![Alt text](./images1/sl127.png)\n",
    "\n"
   ]
  },
  {
   "cell_type": "code",
   "execution_count": null,
   "id": "49b79084",
   "metadata": {},
   "outputs": [],
   "source": [
    "# pip install PyMonad\n",
    "import pymonad"
   ]
  },
  {
   "cell_type": "markdown",
   "id": "4d9ea0dd",
   "metadata": {},
   "source": [
    "### Currying using PyMonad"
   ]
  },
  {
   "cell_type": "code",
   "execution_count": null,
   "id": "cc25e291",
   "metadata": {},
   "outputs": [],
   "source": [
    "from pymonad import curry"
   ]
  },
  {
   "cell_type": "code",
   "execution_count": null,
   "id": "b5e33a92",
   "metadata": {},
   "outputs": [],
   "source": [
    "def do_some_op(a, b, c, d):\n",
    "    return a + b - c * d"
   ]
  },
  {
   "cell_type": "code",
   "execution_count": null,
   "id": "052b8fdf",
   "metadata": {},
   "outputs": [],
   "source": [
    "do_some_op(1, 100, 10, 5)\n",
    "# 1 + 100 - 10 * 5\n",
    "# 101 - 50\n",
    "# 51"
   ]
  },
  {
   "cell_type": "code",
   "execution_count": 129,
   "id": "4fbe30d5",
   "metadata": {},
   "outputs": [
    {
     "ename": "NameError",
     "evalue": "name 'curry' is not defined",
     "output_type": "error",
     "traceback": [
      "\u001b[1;31m---------------------------------------------------------------------------\u001b[0m",
      "\u001b[1;31mNameError\u001b[0m                                 Traceback (most recent call last)",
      "Input \u001b[1;32mIn [129]\u001b[0m, in \u001b[0;36m<cell line: 1>\u001b[1;34m()\u001b[0m\n\u001b[1;32m----> 1\u001b[0m \u001b[38;5;129m@curry\u001b[39m\n\u001b[0;32m      2\u001b[0m \u001b[38;5;28;01mdef\u001b[39;00m \u001b[38;5;21mdo_some_op\u001b[39m(a, b, c, d):\n\u001b[0;32m      3\u001b[0m     \u001b[38;5;28;01mreturn\u001b[39;00m a \u001b[38;5;241m+\u001b[39m b \u001b[38;5;241m-\u001b[39m c \u001b[38;5;241m*\u001b[39m d\n",
      "\u001b[1;31mNameError\u001b[0m: name 'curry' is not defined"
     ]
    }
   ],
   "source": [
    "@curry\n",
    "def do_some_op(a, b, c, d):\n",
    "    return a + b - c * d"
   ]
  },
  {
   "cell_type": "code",
   "execution_count": null,
   "id": "0d752105",
   "metadata": {},
   "outputs": [],
   "source": [
    "do_some_op_1 = do_some_op(1)      # binds a to 1\n",
    "do_some_op_100 = do_some_op_1(100)  # binds b to 100\n",
    "do_some_op_10 = do_some_op_100(10)   # binds c to 10\n",
    "\n",
    "#Same as do_some_op(1, 100, 10, 5)\n",
    "do_some_op_10(5)  "
   ]
  },
  {
   "cell_type": "markdown",
   "id": "8b4a77df",
   "metadata": {},
   "source": [
    "### Partially applying arguments"
   ]
  },
  {
   "cell_type": "code",
   "execution_count": null,
   "id": "b5281e8a",
   "metadata": {},
   "outputs": [],
   "source": [
    "#Same as do_some_op(1, 100, 10, 5)\n",
    "do_some_op(1)(100)(10)(5)"
   ]
  },
  {
   "cell_type": "markdown",
   "id": "64b6ba31",
   "metadata": {},
   "source": [
    "### Functional composition using * operator   \n",
    "##### For functions that are curried or partially applied using PyMonad library  \n",
    "#### Evaluation order of functions is right to left"
   ]
  },
  {
   "cell_type": "code",
   "execution_count": null,
   "id": "81a0020c",
   "metadata": {},
   "outputs": [],
   "source": [
    "import re\n",
    "\n",
    "@curry\n",
    "def remove_punctuation(my_string):\n",
    "    return re.sub(r'[^\\w\\s]','',my_string)"
   ]
  },
  {
   "cell_type": "code",
   "execution_count": null,
   "id": "d7c70d9f",
   "metadata": {},
   "outputs": [],
   "source": [
    "@curry\n",
    "def add_suffix(my_string):\n",
    "    return my_string + \"Hello! World####\""
   ]
  },
  {
   "cell_type": "code",
   "execution_count": null,
   "id": "c5abe3e2",
   "metadata": {},
   "outputs": [],
   "source": [
    "#first remove_punctuation is applied followed by add_suffix\n",
    "composed_f = add_suffix * remove_punctuation"
   ]
  },
  {
   "cell_type": "code",
   "execution_count": null,
   "id": "ffff671e",
   "metadata": {},
   "outputs": [],
   "source": [
    "composed_f(\"Yolo!!!! swag ?\")"
   ]
  },
  {
   "cell_type": "code",
   "execution_count": null,
   "id": "6cc897a1",
   "metadata": {},
   "outputs": [],
   "source": [
    "#first add_suffix is applied followed by remove_punctuation\n",
    "composed_f_reverse = remove_punctuation * add_suffix"
   ]
  },
  {
   "cell_type": "code",
   "execution_count": null,
   "id": "a395e1ed",
   "metadata": {},
   "outputs": [],
   "source": [
    "composed_f_reverse(\"Yolo!!!! swag ?\")"
   ]
  },
  {
   "cell_type": "markdown",
   "id": "2590d713",
   "metadata": {},
   "source": [
    "### Another way of doing the same thing using curried functions"
   ]
  },
  {
   "cell_type": "code",
   "execution_count": null,
   "id": "21622578",
   "metadata": {},
   "outputs": [],
   "source": [
    "@curry\n",
    "def partial_op1(x, y):\n",
    "    return x + y"
   ]
  },
  {
   "cell_type": "code",
   "execution_count": null,
   "id": "896bc959",
   "metadata": {},
   "outputs": [],
   "source": [
    "@curry\n",
    "def partial_op2(x, y):\n",
    "    return x - y"
   ]
  },
  {
   "cell_type": "code",
   "execution_count": null,
   "id": "88100cac",
   "metadata": {},
   "outputs": [],
   "source": [
    "completed_op = partial_op1(10) * partial_op2(50)"
   ]
  },
  {
   "cell_type": "code",
   "execution_count": null,
   "id": "15b4176d",
   "metadata": {},
   "outputs": [],
   "source": [
    "#First paritial_op2(50, 2) is evaluated which returns 48\n",
    "#Then partial_op1(10, 48) is evaluated which resturn 58\n",
    "completed_op(2)"
   ]
  },
  {
   "cell_type": "code",
   "execution_count": null,
   "id": "6043bd7c",
   "metadata": {},
   "outputs": [],
   "source": [
    "completed_op_reverse = partial_op2(50) * partial_op1(10)"
   ]
  },
  {
   "cell_type": "code",
   "execution_count": null,
   "id": "8afb7be0",
   "metadata": {},
   "outputs": [],
   "source": [
    "#First paritial_op1(10, 2) is evaluated which returns 12\n",
    "#Then partial_op2(50, 12) is evaluated which resturn 38\n",
    "completed_op_reverse(2)"
   ]
  },
  {
   "cell_type": "markdown",
   "id": "eb747973",
   "metadata": {},
   "source": [
    "### Using Just and Nothing"
   ]
  },
  {
   "cell_type": "code",
   "execution_count": null,
   "id": "7a0228bd",
   "metadata": {},
   "outputs": [],
   "source": [
    "from pymonad import Just, Nothing"
   ]
  },
  {
   "cell_type": "code",
   "execution_count": null,
   "id": "6ef3eb54",
   "metadata": {},
   "outputs": [],
   "source": [
    "def add_2(x):\n",
    "    return x+2"
   ]
  },
  {
   "cell_type": "code",
   "execution_count": null,
   "id": "f1b0e423",
   "metadata": {},
   "outputs": [],
   "source": [
    "result =  add_2 * Just(3)\n",
    "result.getValue()"
   ]
  },
  {
   "cell_type": "code",
   "execution_count": null,
   "id": "6a6a09c7",
   "metadata": {},
   "outputs": [],
   "source": [
    "result =  Just(\"Yolo swag \").bind(add_suffix)\n",
    "result"
   ]
  },
  {
   "cell_type": "code",
   "execution_count": null,
   "id": "ee42024d",
   "metadata": {},
   "outputs": [],
   "source": [
    "#returns Nothing\n",
    "result = add_2 * Nothing"
   ]
  },
  {
   "cell_type": "code",
   "execution_count": null,
   "id": "781aa4f8",
   "metadata": {},
   "outputs": [],
   "source": [
    "result"
   ]
  },
  {
   "cell_type": "markdown",
   "id": "45440de4",
   "metadata": {},
   "source": [
    "![Alt text](./images1/sl128.png)"
   ]
  },
  {
   "cell_type": "markdown",
   "id": "1ec35072",
   "metadata": {},
   "source": [
    "## Updating Docstrings Using Functools\n",
    "\n",
    "![Alt text](./images1/sl129.png)\n",
    "\n",
    "![Alt text](./images1/sl130.png)\n",
    "\n",
    "![Alt text](./images1/sl131.png)\n"
   ]
  },
  {
   "cell_type": "code",
   "execution_count": null,
   "id": "6d7eb41e",
   "metadata": {},
   "outputs": [],
   "source": [
    "def my_func(x):\n",
    "    ''' This is my original docstring'''\n",
    "    print(\"Original my_func called successfully\")\n",
    "    return x * x + 1"
   ]
  },
  {
   "cell_type": "code",
   "execution_count": null,
   "id": "de58b36d",
   "metadata": {},
   "outputs": [],
   "source": [
    "my_func.__name__"
   ]
  },
  {
   "cell_type": "code",
   "execution_count": null,
   "id": "9aebbcee",
   "metadata": {},
   "outputs": [],
   "source": [
    "my_func.__doc__"
   ]
  },
  {
   "cell_type": "code",
   "execution_count": null,
   "id": "3310febe",
   "metadata": {},
   "outputs": [],
   "source": [
    "my_func.__module__"
   ]
  },
  {
   "cell_type": "markdown",
   "id": "eef8d15c",
   "metadata": {},
   "source": [
    "#### Once wrapped, the original function attributes are overwritten by the wrapper function"
   ]
  },
  {
   "cell_type": "code",
   "execution_count": null,
   "id": "a6b7f535",
   "metadata": {},
   "outputs": [],
   "source": [
    "def wrapper_func(func):\n",
    "    '''This is wrapper_func docstring'''\n",
    "    \n",
    "    def inner_wrap(*args, **kwargs):\n",
    "        '''This is inner_wrapper docstring'''\n",
    "        print(\"Wrapped my_func called successfully\")\n",
    "        return func(*args, **kwargs)\n",
    "    \n",
    "    return inner_wrap"
   ]
  },
  {
   "cell_type": "code",
   "execution_count": null,
   "id": "79f0cd0f",
   "metadata": {},
   "outputs": [],
   "source": [
    "def my_func(x):\n",
    "    ''' This is my original docstring'''\n",
    "    print(\"Original my_func called successfully\")\n",
    "    return x * x + 1"
   ]
  },
  {
   "cell_type": "code",
   "execution_count": null,
   "id": "0c266660",
   "metadata": {},
   "outputs": [],
   "source": [
    "wrapped_func = wrapper_func(my_func)"
   ]
  },
  {
   "cell_type": "code",
   "execution_count": null,
   "id": "d5f7c032",
   "metadata": {},
   "outputs": [],
   "source": [
    "wrapper_func.__name__"
   ]
  },
  {
   "cell_type": "code",
   "execution_count": null,
   "id": "bd253a25",
   "metadata": {},
   "outputs": [],
   "source": [
    "wrapper_func.__doc__"
   ]
  },
  {
   "cell_type": "markdown",
   "id": "67d75787",
   "metadata": {},
   "source": [
    "### This applies to decorated functions as well"
   ]
  },
  {
   "cell_type": "code",
   "execution_count": null,
   "id": "3a997b9a",
   "metadata": {},
   "outputs": [],
   "source": [
    "@wrapper_func\n",
    "def my_func(x):\n",
    "    ''' This is my original docstring'''\n",
    "    print(\"Original my_func called successfully\")\n",
    "    return x * x + 1"
   ]
  },
  {
   "cell_type": "code",
   "execution_count": null,
   "id": "4c399955",
   "metadata": {},
   "outputs": [],
   "source": [
    "my_func.__name__"
   ]
  },
  {
   "cell_type": "code",
   "execution_count": null,
   "id": "cfceeb97",
   "metadata": {},
   "outputs": [],
   "source": [
    "my_func.__doc__"
   ]
  },
  {
   "cell_type": "markdown",
   "id": "95a5ce01",
   "metadata": {},
   "source": [
    "### To overcome this problem we use update_wrapper from functools"
   ]
  },
  {
   "cell_type": "code",
   "execution_count": null,
   "id": "0d8ab12e",
   "metadata": {},
   "outputs": [],
   "source": [
    "from functools import update_wrapper"
   ]
  },
  {
   "cell_type": "code",
   "execution_count": null,
   "id": "240e4444",
   "metadata": {},
   "outputs": [],
   "source": [
    "def wrapper_func(func):\n",
    "    def inner_wrap(*args, **kwargs):\n",
    "        '''This is decorated docstring'''\n",
    "        print(\"Wrapped my_func called successfully\")\n",
    "        return func(*args, **kwargs)\n",
    "    \n",
    "    return inner_wrap"
   ]
  },
  {
   "cell_type": "code",
   "execution_count": null,
   "id": "86df9ff0",
   "metadata": {},
   "outputs": [],
   "source": [
    "def my_func(x):\n",
    "    ''' This is my original docstring'''\n",
    "    print(\"Original my_func called successfully\")\n",
    "    return x * x + 1"
   ]
  },
  {
   "cell_type": "code",
   "execution_count": null,
   "id": "dff285e4",
   "metadata": {},
   "outputs": [],
   "source": [
    "wrapped_my_func = wrapper_func(my_func)"
   ]
  },
  {
   "cell_type": "code",
   "execution_count": null,
   "id": "0d7fff1e",
   "metadata": {},
   "outputs": [],
   "source": [
    "#Call update wrapper with appropriate arguments\n",
    "update_wrapper(wrapped=my_func, wrapper=wrapped_my_func)"
   ]
  },
  {
   "cell_type": "markdown",
   "id": "a3bda787",
   "metadata": {},
   "source": [
    "### The original function attributes are retained"
   ]
  },
  {
   "cell_type": "code",
   "execution_count": null,
   "id": "83c733b0",
   "metadata": {},
   "outputs": [],
   "source": [
    "wrapped_my_func.__doc__"
   ]
  },
  {
   "cell_type": "code",
   "execution_count": null,
   "id": "7a2e0f2a",
   "metadata": {},
   "outputs": [],
   "source": [
    "wrapped_my_func.__name__"
   ]
  },
  {
   "cell_type": "markdown",
   "id": "6ef62bda",
   "metadata": {},
   "source": [
    "### We can also use the @wraps decorator for the same purpose"
   ]
  },
  {
   "cell_type": "code",
   "execution_count": null,
   "id": "ce6c5a20",
   "metadata": {},
   "outputs": [],
   "source": [
    "from functools import wraps"
   ]
  },
  {
   "cell_type": "code",
   "execution_count": null,
   "id": "2f3c45f1",
   "metadata": {},
   "outputs": [],
   "source": [
    "def wrapper_func(func):\n",
    "    @wraps(func)\n",
    "    def inner_wrap(*args, **kwargs):\n",
    "        '''This is decorated docstring'''\n",
    "        print(\"Wrapped my_func called successfully\")\n",
    "        return func(*args, **kwargs)\n",
    "    \n",
    "    return inner_wrap"
   ]
  },
  {
   "cell_type": "code",
   "execution_count": null,
   "id": "4f7c7995",
   "metadata": {},
   "outputs": [],
   "source": [
    "@wrapper_func\n",
    "def my_func(x):\n",
    "    ''' This is my original docstring'''\n",
    "    print(\"Original my_func called successfully\")\n",
    "    return x * x + 1"
   ]
  },
  {
   "cell_type": "code",
   "execution_count": null,
   "id": "b58d1358",
   "metadata": {},
   "outputs": [],
   "source": [
    "wrapped_my_func.__doc__"
   ]
  },
  {
   "cell_type": "code",
   "execution_count": null,
   "id": "685bf37e",
   "metadata": {},
   "outputs": [],
   "source": [
    "wrapped_my_func.__name__"
   ]
  },
  {
   "cell_type": "markdown",
   "id": "0b88242b",
   "metadata": {},
   "source": [
    "![Alt text](./images1/sl132.png)"
   ]
  },
  {
   "cell_type": "code",
   "execution_count": null,
   "id": "bbdf828c",
   "metadata": {},
   "outputs": [],
   "source": []
  }
 ],
 "metadata": {
  "kernelspec": {
   "display_name": "Python 3 (ipykernel)",
   "language": "python",
   "name": "python3"
  },
  "language_info": {
   "codemirror_mode": {
    "name": "ipython",
    "version": 3
   },
   "file_extension": ".py",
   "mimetype": "text/x-python",
   "name": "python",
   "nbconvert_exporter": "python",
   "pygments_lexer": "ipython3",
   "version": "3.10.4"
  }
 },
 "nbformat": 4,
 "nbformat_minor": 5
}
