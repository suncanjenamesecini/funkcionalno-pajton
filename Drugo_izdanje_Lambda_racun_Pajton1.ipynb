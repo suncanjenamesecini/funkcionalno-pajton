{
 "cells": [
  {
   "cell_type": "markdown",
   "id": "2e81f151",
   "metadata": {},
   "source": [
    "# Funkcionalno programiranje - uvod\n",
    "\n",
    "- Programske paradigme\n",
    "- Semantika programskih jezika\n",
    "- Lambda racun kao semantika funkcionalnih programskih jezika - uopsteno\n",
    "- Osobine funkcionalnih jezika uopsteno i one koje poseduje pajton\n",
    "- Kao OO jezik prvenstveno, Pajton nema neke glavne osobine funkcionalnih jezika koje npr. ima Haskel kao predstavnih cistih funkcionalnih jezika, zato cemo razmotriti Coconut jezik u nekoliko primjera"
   ]
  },
  {
   "cell_type": "markdown",
   "id": "0b977779",
   "metadata": {},
   "source": [
    "# Lambda racun od pocetka + kombinatori u pajtonu"
   ]
  },
  {
   "cell_type": "markdown",
   "id": "d29122e3",
   "metadata": {},
   "source": [
    "S obzirom da se bavimo funkcionalnim programiranjem i njegovim matematickim osnovama, razmotrimo primjer jedne od najjednostavnijih funkcija, **funkcije identiteta**.\n",
    "\n",
    "Njen zapis u Pajtonu je:"
   ]
  },
  {
   "cell_type": "code",
   "execution_count": 21,
   "id": "6e0aad2f",
   "metadata": {},
   "outputs": [],
   "source": [
    "#I = lambda a: a\n",
    "\n",
    "def I(a):\n",
    "    return a"
   ]
  },
  {
   "cell_type": "code",
   "execution_count": 2,
   "id": "0c99909d",
   "metadata": {},
   "outputs": [
    {
     "data": {
      "text/plain": [
       "1"
      ]
     },
     "execution_count": 2,
     "metadata": {},
     "output_type": "execute_result"
    }
   ],
   "source": [
    "I(1)"
   ]
  },
  {
   "cell_type": "code",
   "execution_count": 3,
   "id": "c44f3852",
   "metadata": {},
   "outputs": [
    {
     "data": {
      "text/plain": [
       "2"
      ]
     },
     "execution_count": 3,
     "metadata": {},
     "output_type": "execute_result"
    }
   ],
   "source": [
    "I(2)"
   ]
  },
  {
   "cell_type": "markdown",
   "id": "554dc5e6",
   "metadata": {},
   "source": [
    "Njen standardni matematicki zapis je: $ I(a) = a$\n",
    "\n",
    "Zapis ove funkcije u lambda racunu je: $\\lambda a.a$"
   ]
  },
  {
   "cell_type": "markdown",
   "id": "0ef7491d",
   "metadata": {},
   "source": [
    "**Pr.1.**\n",
    "\n",
    "**Lambda racun**\n",
    "\n",
    "$ I x = x$\n",
    "\n",
    "\n",
    "**Pajton**\n",
    "\n",
    "```python\n",
    "I(x) == x\n",
    "```\n",
    "**Pr.2.**\n",
    "\n",
    "**Lambda racun**\n",
    "\n",
    "$ I I = I$\n",
    "\n",
    "\n",
    "**Pajton**\n",
    "\n",
    "```python\n",
    "I(I) == I\n",
    "```"
   ]
  },
  {
   "cell_type": "markdown",
   "id": "5b4469f2",
   "metadata": {},
   "source": [
    "![Alt text](./images/sl1.png)"
   ]
  },
  {
   "cell_type": "markdown",
   "id": "2d1cdb53",
   "metadata": {},
   "source": [
    "U cistim funkcionalnim jezicima, kao Haskell na primjer, imamo ugradjenu funkciju *id* koja predstavlja identitet:"
   ]
  },
  {
   "cell_type": "markdown",
   "id": "efdf45dc",
   "metadata": {},
   "source": [
    "![Alt text](./images/sl2.png)"
   ]
  },
  {
   "cell_type": "markdown",
   "id": "3607d72a",
   "metadata": {},
   "source": [
    "Obratimo sad paznju na zapis funkcije u lambda racunu.\n",
    "On se sastoji od parametara kojem prethodi oznaka $\\lambda$, nakon kojih slijedi tacka, pa funkcijski izraz:"
   ]
  },
  {
   "cell_type": "markdown",
   "id": "53d83d10",
   "metadata": {},
   "source": [
    "![Alt text](./images/def_lambda.png)"
   ]
  },
  {
   "cell_type": "markdown",
   "id": "54a442fb",
   "metadata": {},
   "source": [
    "Lambda izraz se definise rekurzivno,  tako da lambda izraz moze biti varijabla, aplikacija jednog lambda izraza na drugi i apstrakcija lambda izraza, uz upotrebu zagrada.\n",
    "\n",
    "Primjeri:"
   ]
  },
  {
   "cell_type": "markdown",
   "id": "fc916afb",
   "metadata": {},
   "source": [
    "### **Varijable**\n",
    "\n",
    "\n",
    "**Lambda racun**\n",
    "\n",
    "1. $ x$\n",
    "\n",
    "2. $ (a)$\n",
    "\n",
    "\n",
    "**Pajton**\n",
    "\n",
    "```python\n",
    "1. x \n",
    "\n",
    "2. (a)\n",
    "```\n"
   ]
  },
  {
   "cell_type": "markdown",
   "id": "238c0d48",
   "metadata": {},
   "source": [
    "### **Aplikacija**\n",
    "\n",
    "\n",
    "**Lambda racun**\n",
    "\n",
    "1. $ f a$\n",
    "\n",
    "2. $ f a b$\n",
    "\n",
    "3. $ (f a) b$\n",
    "\n",
    "4. $ f (a b)$\n",
    "\n",
    "\n",
    "**Pajton**\n",
    "\n",
    "```python\n",
    "1. f(a)\n",
    "\n",
    "2. f(a)(b)\n",
    "\n",
    "3. (f(a))(b) \n",
    "\n",
    "4. f(a(b))\n",
    "```\n"
   ]
  },
  {
   "cell_type": "markdown",
   "id": "7d776599",
   "metadata": {},
   "source": [
    "Obratimo paznju da ovdje funkciji proslijedjujemo jedan po jedan argument, sto se naziva *Cyrrying*, po poznatom naucniku *Haskell-u Curry-ju*:"
   ]
  },
  {
   "cell_type": "code",
   "execution_count": 4,
   "id": "9013597a",
   "metadata": {},
   "outputs": [],
   "source": [
    "#Currying\n",
    "def add(x):\n",
    "    def f(y):\n",
    "        return x+y\n",
    "    return f\n",
    "\n",
    "\n",
    "#Nije isto kao:\n",
    "#def add(x,y):\n",
    "#    return x+y  "
   ]
  },
  {
   "cell_type": "code",
   "execution_count": 5,
   "id": "5c2912cb",
   "metadata": {},
   "outputs": [
    {
     "data": {
      "text/plain": [
       "5"
      ]
     },
     "execution_count": 5,
     "metadata": {},
     "output_type": "execute_result"
    }
   ],
   "source": [
    "add(2)(3)"
   ]
  },
  {
   "cell_type": "markdown",
   "id": "f7483d8f",
   "metadata": {},
   "source": [
    "To nam omogucava parcijalnu primjenu funkcija, sto znaci da je funkciji proslijedjeno manje argumenata nego sto ona zahtijeva. Povratna vrijednost je funkcija:"
   ]
  },
  {
   "cell_type": "code",
   "execution_count": 6,
   "id": "7bb7d2e1",
   "metadata": {},
   "outputs": [
    {
     "data": {
      "text/plain": [
       "<function __main__.add.<locals>.f(y)>"
      ]
     },
     "execution_count": 6,
     "metadata": {},
     "output_type": "execute_result"
    }
   ],
   "source": [
    "add(2)"
   ]
  },
  {
   "cell_type": "markdown",
   "id": "2d8328f2",
   "metadata": {},
   "source": [
    "### **Abstrakcija**\n",
    "\n",
    "\n",
    "**Lambda racun**\n",
    "\n",
    "1. $\\lambda a.b$\n",
    "\n",
    "2. $\\lambda a.b x$\n",
    "\n",
    "3. $\\lambda a.(b x)$\n",
    "\n",
    "4. $(\\lambda a.b) x$\n",
    "\n",
    "5. $\\lambda a.\\lambda b.a$\n",
    "\n",
    "6. $\\lambda a.(\\lambda b.a)$\n",
    "\n",
    "\n",
    "**Pajton**\n",
    "\n",
    "```python\n",
    "1. lambda a: b\n",
    "\n",
    "2. lambda a: b(x)\n",
    "\n",
    "3. lambda a: (b(x))\n",
    "\n",
    "4. (lambda a: b)(x)\n",
    "\n",
    "5. lambda a: (lambda b: a)\n",
    "\n",
    "6. lambda a: (lambda b: a)\n",
    "```\n"
   ]
  },
  {
   "cell_type": "markdown",
   "id": "479da5b6",
   "metadata": {},
   "source": [
    "Ova definicija uz pravila izvodjenja (redukcije) su dovoljna za zasnivanje citavog sistema lambda racuna, za koji ce se ispostaviti da ima veliku ekspresivnost. Jedno od pravila izvodjenja je $\\beta-redukcija$ (beta redukcija), koja podrazumijeva zamjenu odgovarajucih promjenljivih u tijelu lambda izraza koji se primjenjuje, lamda izrazom na koji se vrsi aplikacija. Ilustrovacemo sljedecim primjerima:"
   ]
  },
  {
   "cell_type": "markdown",
   "id": "b633d539",
   "metadata": {},
   "source": [
    "![Alt text](./images/beta_redukcija1.png)"
   ]
  },
  {
   "cell_type": "markdown",
   "id": "7c592f38",
   "metadata": {},
   "source": [
    "![Alt text](./images/beta_redukcija2.png)"
   ]
  },
  {
   "cell_type": "markdown",
   "id": "109bfb3f",
   "metadata": {},
   "source": [
    "![Alt text](./images/beta_redukcija3.png)"
   ]
  },
  {
   "cell_type": "markdown",
   "id": "f9d4b166",
   "metadata": {},
   "source": [
    "![Alt text](./images/beta_redukcija4.png)"
   ]
  },
  {
   "cell_type": "markdown",
   "id": "f59f5945",
   "metadata": {},
   "source": [
    "![Alt text](./images/beta_redukcija5.png)"
   ]
  },
  {
   "cell_type": "markdown",
   "id": "e5613b6b",
   "metadata": {},
   "source": [
    "![Alt text](./images/beta_redukcija6.png)"
   ]
  },
  {
   "cell_type": "markdown",
   "id": "80cead82",
   "metadata": {},
   "source": [
    "Sljedeca interesantna funkcija u lambda zapisu je **samoaplikacija**: $\\lambda f.ff$"
   ]
  },
  {
   "cell_type": "markdown",
   "id": "4ae31152",
   "metadata": {},
   "source": [
    "![Alt text](./images/sl3.png)"
   ]
  },
  {
   "cell_type": "markdown",
   "id": "15abb0ba",
   "metadata": {},
   "source": [
    "Njen zapis u pajtonu je:"
   ]
  },
  {
   "cell_type": "code",
   "execution_count": 22,
   "id": "b7d3cac3",
   "metadata": {},
   "outputs": [],
   "source": [
    "#M = lambda x: x(x)\n",
    "\n",
    "def M(x):\n",
    "    return x(x)"
   ]
  },
  {
   "cell_type": "code",
   "execution_count": 23,
   "id": "bb84c9af",
   "metadata": {},
   "outputs": [
    {
     "data": {
      "text/plain": [
       "<function __main__.I(a)>"
      ]
     },
     "execution_count": 23,
     "metadata": {},
     "output_type": "execute_result"
    }
   ],
   "source": [
    "M(I)"
   ]
  },
  {
   "cell_type": "code",
   "execution_count": null,
   "id": "cacdaa98",
   "metadata": {},
   "outputs": [],
   "source": [
    "#Ne valja, kako da se ne ubije kernel, vec da se baci Exception? da se stavi tajmer?\n",
    "#Stack overflow\n",
    "try:\n",
    "    M(M)\n",
    "    raise Exception('hey')\n",
    "except err:\n",
    "    print(f'greska {err}')"
   ]
  },
  {
   "cell_type": "markdown",
   "id": "ff2a7be7",
   "metadata": {},
   "source": [
    "**Pr.1.**\n",
    "\n",
    "**Lambda racun**\n",
    "\n",
    "$ M I = I I = I$\n",
    "\n",
    "\n",
    "**Pajton**\n",
    "\n",
    "```python\n",
    "M(I) == I(I)  && I(I) == I\n",
    "```\n",
    "**Pr.2.**\n",
    "\n",
    "**Lambda racun**\n",
    "\n",
    "$ M M = M M = M M = M M = ... = \\Omega$\n",
    "\n",
    "Zato se nekad M funkcija oznacava i slovom $\\omega$:\n",
    "\n",
    " $\\omega  \\omega = \\omega  \\omega = \\omega  \\omega = \\omega  \\omega = ... = \\Omega$\n",
    "\n",
    "\n",
    "**Pajton**\n",
    "\n",
    "```python\n",
    "M(M) == M(M) == M(M) == M(M) == M(M) == M(M) == M(M) == M(M) == M(M) == M(M) == M(M)...\n",
    "#stack overflow\n",
    "```"
   ]
  },
  {
   "cell_type": "markdown",
   "id": "f8dc2f39",
   "metadata": {},
   "source": [
    "Vidimo da ovaj izraz nema $\\beta-normalnu formu$, posto se uvijek moze izvrsiti $\\beta-redukcija$. Pitanje da li se neki lambda izraz moze *izracunati* do kraja, tj. svesti na najmanju formu koja ne moze dalje da se redukuje nema odgovor generalno, vec samo za svaki izraz posebno. \n",
    "\n",
    "Posto je lambda racun osnova funkcionalnih jezika, nepostojanje $\\beta-normalne forme$ je ekvivalent ulasku u beskonacnu petlju. Kako je ovo ozbiljan problem za koji se ne zna rjesenje unaprijed za proizvoljni izraz, pribjegava se **lijenom izracunavanju** izraza. To znaci da se odredjeni izraz izracunava tek kad je potreban. Zapravo, ova ideja i potice iz funkcionalnih jezika.\n",
    "\n",
    "Takodje se namece pitanje da li se u izrazima kod kojih se moze izvrsiti $\\beta-redukcija$ na vise nacina na kraju dolazi do iste normalne forme, i da li se moze desiti da, iako postoji $\\beta-normalna forma$ za dati izraz, mi zbog izbora primjena $\\beta-redukcija$ do nje nikad ne dodjemo. \n",
    "\n",
    "Razmotrimo primjer:\n",
    " $(\\lambda a.b)((\\lambda x.x x) \\lambda x.x x)$\n",
    " \n",
    "Njega mozemo da redukujemo tako da prvo *izracunamo* unutrasnje izraze:\n",
    " \n",
    "\\begin{eqnarray*}\n",
    "    && (\\lambda a.b)((\\lambda x.x x) \\lambda x.x x) \\\\\n",
    "    & \\to_\\beta & (\\lambda a.b)((x x)[x := \\lambda x.x x]) \\\\\n",
    "    & \\equiv & (\\lambda a.b)((\\lambda x.x x)(\\lambda x.x x)) \\\\\n",
    "    & \\to_\\beta & (\\lambda a.b)((x x)[x := \\lambda x.x x]) \\\\\n",
    "    & \\equiv & (\\lambda a.b)((\\lambda x.x x)(\\lambda x.x x)) \\\\\n",
    "    & \\to_\\beta & (\\lambda a.b)((x x)[x := \\lambda x.x x]) \\\\\n",
    "    & \\equiv & (\\lambda a.b)((\\lambda x.x x)(\\lambda x.x x)) \\\\\n",
    "    & \\equiv & ...\n",
    "\\end{eqnarray*}\n",
    "\n",
    "Vidimo da se ovako nikad ne dobija $\\beta-normalna forma$. Pokusajmo sad na drugi nacin, tako da redukujemo najljevlji vanjski izraz, bez obzira da li su unutrasnji izrazi redukovani:\n",
    " \n",
    "\\begin{eqnarray*}\n",
    "    && (\\lambda a.b)((\\lambda x.x x) \\lambda x.x x) \\\\\n",
    "    & \\to_\\beta & b[a := ((\\lambda x.x x) \\lambda x.x x)] \\\\\n",
    "    & \\equiv & b\n",
    "\\end{eqnarray*}\n",
    "\n",
    "Dobili smo normalnu formu. Na ovom primjeru vidimo da nije svejedno kako se redukuje izraz. Vazi da nam primjena redukcija na prethodni nacin obezbjedjuje pronalazenje $\\beta-normalne forme$ ako ona uopste postoji. Takodje je ovo osnova za *lijeno izracunavanje*.\n",
    "\n",
    "\n",
    "Kad postoji vise uzastopnih lambda apstrakcija, moze se skratiti zapis, tako sto se sve osim jedne $\\lambda$ oznake izostave. Primjer:  $\\lambda x.\\lambda y.\\lambda z.x = \\lambda xyz.x$\n",
    "\n",
    "Treba imati na umu da je ovo idalje uzimanje jednog po jednog argumenta, tj zapis je ekvivalentan pajton izrazu:\n",
    "```python\n",
    "lambda x: (lambda y: (lambda z: x ))\n",
    "```\n",
    "\n",
    "A nije izrazu:\n",
    "```python\n",
    "lambda x,y,z: x \n",
    "```\n",
    "\n",
    "Prethodno navedena $\\beta-redukcija$ se prema tome moze zapisati ovako:"
   ]
  },
  {
   "cell_type": "markdown",
   "id": "7255c691",
   "metadata": {},
   "source": [
    "![Alt text](./images/beta_redukcija_kraci_zapis.png)"
   ]
  },
  {
   "cell_type": "markdown",
   "id": "c1b2a0b2",
   "metadata": {},
   "source": [
    "**Drugi primjer:**\n",
    "\n",
    "\n",
    "\\begin{eqnarray*}\n",
    "    && (\\lambda xyz.xyz)(\\lambda x.xx)(\\lambda x.x)x \\\\\n",
    "    & \\to_\\beta & (\\lambda yz.xyz)[x := \\lambda x.xx](\\lambda x.x)x \\\\\n",
    "    & \\equiv & (\\lambda yz.(\\lambda x.xx)yz)(\\lambda x.x)x \\\\\n",
    "    & \\to_\\beta & (\\lambda yz.(xx)[ x := y]z)(\\lambda x.x)x \\\\\n",
    "    & \\equiv & (\\lambda yz.yyz)(\\lambda x.x)x \\\\\n",
    "    & \\to_\\beta & (\\lambda z.yy)[ y := \\lambda x.x ]x \\\\\n",
    "    & \\equiv & (\\lambda z.(\\lambda x.x)(\\lambda x.x)z)x \\\\\n",
    "    & \\to_\\beta & (\\lambda z.x[x := \\lambda x.x]z)x \\\\\n",
    "    & \\equiv & (\\lambda z.(\\lambda x.x)z)x \\\\\n",
    "    & \\to_\\beta & (\\lambda z.x[x := z])x \\\\\n",
    "    & \\equiv & (\\lambda z.z)x \\\\\n",
    "    & \\to_\\beta & z[z := x] \\\\\n",
    "    & \\equiv & x\n",
    "\\end{eqnarray*}"
   ]
  },
  {
   "cell_type": "markdown",
   "id": "02871cb3",
   "metadata": {},
   "source": [
    "Sljedeca zanimljiva funkcija prihvata dva argumenta, a stalno vraca prvi:"
   ]
  },
  {
   "cell_type": "markdown",
   "id": "ae077cdc",
   "metadata": {},
   "source": [
    "![Alt text](./images/sl4.png)"
   ]
  },
  {
   "cell_type": "markdown",
   "id": "98d8b23f",
   "metadata": {},
   "source": [
    "$ K = \\lambda a b.a$\n",
    "\n",
    "Njen zapis u pajtonu je:"
   ]
  },
  {
   "cell_type": "code",
   "execution_count": 24,
   "id": "5765f04b",
   "metadata": {},
   "outputs": [],
   "source": [
    "#K = lambda a: (lambda b: a)\n",
    "\n",
    "#def K(a):\n",
    "#    return lambda b: a\n",
    "\n",
    "def K(a):\n",
    "    def f(b):\n",
    "        return a\n",
    "    return f"
   ]
  },
  {
   "cell_type": "code",
   "execution_count": 25,
   "id": "e15bad00",
   "metadata": {},
   "outputs": [
    {
     "data": {
      "text/plain": [
       "<function __main__.I(a)>"
      ]
     },
     "execution_count": 25,
     "metadata": {},
     "output_type": "execute_result"
    }
   ],
   "source": [
    "K(I)(M)"
   ]
  },
  {
   "cell_type": "code",
   "execution_count": 26,
   "id": "fc1edfd7",
   "metadata": {},
   "outputs": [
    {
     "data": {
      "text/plain": [
       "<function __main__.K(a)>"
      ]
     },
     "execution_count": 26,
     "metadata": {},
     "output_type": "execute_result"
    }
   ],
   "source": [
    "K(K)(M)"
   ]
  },
  {
   "cell_type": "code",
   "execution_count": 27,
   "id": "322ef898",
   "metadata": {},
   "outputs": [
    {
     "data": {
      "text/plain": [
       "<function __main__.K(a)>"
      ]
     },
     "execution_count": 27,
     "metadata": {},
     "output_type": "execute_result"
    }
   ],
   "source": [
    "K(K)(I)"
   ]
  },
  {
   "cell_type": "markdown",
   "id": "6f0f5e72",
   "metadata": {},
   "source": [
    "U Haskell-u se ova funkcija (kombinator) naziva **const**:"
   ]
  },
  {
   "cell_type": "markdown",
   "id": "9eca9262",
   "metadata": {},
   "source": [
    "![Alt text](./images/sl5.png)\n"
   ]
  },
  {
   "cell_type": "code",
   "execution_count": 21,
   "id": "9689fbd1",
   "metadata": {},
   "outputs": [
    {
     "data": {
      "text/plain": [
       "3"
      ]
     },
     "execution_count": 21,
     "metadata": {},
     "output_type": "execute_result"
    }
   ],
   "source": [
    "K(3)(I)"
   ]
  },
  {
   "cell_type": "code",
   "execution_count": 22,
   "id": "f918e125",
   "metadata": {},
   "outputs": [],
   "source": [
    "K5 = K(5)"
   ]
  },
  {
   "cell_type": "code",
   "execution_count": 23,
   "id": "d830b4a0",
   "metadata": {},
   "outputs": [
    {
     "data": {
      "text/plain": [
       "<function __main__.<lambda>.<locals>.<lambda>(b)>"
      ]
     },
     "execution_count": 23,
     "metadata": {},
     "output_type": "execute_result"
    }
   ],
   "source": [
    "K5"
   ]
  },
  {
   "cell_type": "code",
   "execution_count": 24,
   "id": "c4982663",
   "metadata": {},
   "outputs": [
    {
     "data": {
      "text/plain": [
       "5"
      ]
     },
     "execution_count": 24,
     "metadata": {},
     "output_type": "execute_result"
    }
   ],
   "source": [
    "K5(3)"
   ]
  },
  {
   "cell_type": "code",
   "execution_count": 25,
   "id": "7db373fd",
   "metadata": {},
   "outputs": [
    {
     "data": {
      "text/plain": [
       "5"
      ]
     },
     "execution_count": 25,
     "metadata": {},
     "output_type": "execute_result"
    }
   ],
   "source": [
    "K5(12)"
   ]
  },
  {
   "cell_type": "markdown",
   "id": "ada87ac9",
   "metadata": {},
   "source": [
    "Vidimo da parcijalnom primjenom funkcije na jedan argument, ona postaje **konstantna funkcija** koja ce uvijek vracati vrijednost tog prvog argumenta."
   ]
  },
  {
   "cell_type": "markdown",
   "id": "a8572c81",
   "metadata": {},
   "source": [
    "**Pr.1.**\n",
    "\n",
    "**Lambda racun**\n",
    "\n",
    "$ K M I = M $\n",
    "\n",
    "\n",
    "**Pajton**\n",
    "\n",
    "```python\n",
    "K(M)(I) == M\n",
    "```\n",
    "**Pr.2.**\n",
    "\n",
    "**Lambda racun**\n",
    "\n",
    "$ K I M = I $\n",
    "\n",
    "**Pajton**\n",
    "\n",
    "```python\n",
    "K(I)(M) == I\n",
    "```"
   ]
  },
  {
   "cell_type": "markdown",
   "id": "b177dba4",
   "metadata": {},
   "source": [
    "**Pr.3.**\n",
    "\n",
    "**Lambda racun**\n",
    "\n",
    "$ K I x = I $\n",
    "\n",
    "**Pajton**\n",
    "\n",
    "```python\n",
    "K(I)(x) == I\n",
    "```\n",
    "\n",
    "**Pr.4.**\n",
    "\n",
    "**Lambda racun**\n",
    "\n",
    "$ K I x y = I y = y $\n",
    "\n",
    "$ K I x y = y $\n",
    "\n",
    "**Pajton**\n",
    "\n",
    "```python\n",
    "K(I)(x)(y) == I(y) == y\n",
    "```\n",
    "\n",
    "```python\n",
    "K(I)(x)(y) == y\n",
    "```"
   ]
  },
  {
   "cell_type": "code",
   "execution_count": 8,
   "id": "b0b4c4c4",
   "metadata": {},
   "outputs": [
    {
     "data": {
      "text/plain": [
       "4"
      ]
     },
     "execution_count": 8,
     "metadata": {},
     "output_type": "execute_result"
    }
   ],
   "source": [
    "K(I)(2)(4)"
   ]
  },
  {
   "cell_type": "markdown",
   "id": "5a092c68",
   "metadata": {},
   "source": [
    "Ovako smo dobili i funkciju koja prihvata dva argumenta, a vraca drugi. $ K I = \\lambda a b.b$."
   ]
  },
  {
   "cell_type": "markdown",
   "id": "60ff0a3d",
   "metadata": {},
   "source": [
    "![Alt text](./images/sl6.png)"
   ]
  },
  {
   "cell_type": "code",
   "execution_count": 28,
   "id": "fd1b0a8e",
   "metadata": {},
   "outputs": [],
   "source": [
    "#KI = lambda a: (lambda b: b)\n",
    "\n",
    "#def KI(a):\n",
    "#    return lambda b: b\n",
    "\n",
    "def KI(a):\n",
    "    def f(b):\n",
    "        return b\n",
    "    return f"
   ]
  },
  {
   "cell_type": "code",
   "execution_count": 29,
   "id": "54f40888",
   "metadata": {},
   "outputs": [
    {
     "data": {
      "text/plain": [
       "4"
      ]
     },
     "execution_count": 29,
     "metadata": {},
     "output_type": "execute_result"
    }
   ],
   "source": [
    "KI(2)(4)"
   ]
  },
  {
   "cell_type": "code",
   "execution_count": 30,
   "id": "77af17da",
   "metadata": {},
   "outputs": [
    {
     "data": {
      "text/plain": [
       "<function __main__.KI(a)>"
      ]
     },
     "execution_count": 30,
     "metadata": {},
     "output_type": "execute_result"
    }
   ],
   "source": [
    "KI(M)(KI)"
   ]
  },
  {
   "cell_type": "markdown",
   "id": "8f44581f",
   "metadata": {},
   "source": [
    "**Pr.1.**\n",
    "\n",
    "**Lambda racun**\n",
    "\n",
    "$ K I M K = K $\n",
    "\n",
    "**Pajton**\n",
    "\n",
    "```python\n",
    "KI(M)(K) == K\n",
    "```\n",
    "\n",
    "**Pr.2.**\n",
    "\n",
    "**Lambda racun**\n",
    "\n",
    "$ K I K M = M $\n",
    "\n",
    "**Pajton**\n",
    "\n",
    "```python\n",
    "KI(K)(M) == M\n",
    "```"
   ]
  },
  {
   "cell_type": "markdown",
   "id": "fef6a749",
   "metadata": {},
   "source": [
    "Do sad se namece pitanje zasto se sve ove funkcije takodje nazivaju nazivima ptica. \n",
    "\n",
    "Prvobitni nazivi su bili na njemackom, posto se *Schonfinkel* prvi bavio slicnim sistemom funkcija. Njegov rad je nastavio poznati matematicar *Haskell Curry* koji je i postavio temelje lambda racunu. On je uglavnom zadrzao *Schonfinkel*-ove oznake, mada je dodao i neke svoje, sto doprinosi zabuni oko naziva. \n",
    "\n",
    "![Alt text](./images/sl7.png)\n",
    "\n",
    "U popularnoj knjizi o lambda racunu *To Mock a Mockingbird* je autor *Raymond Smullyan* pridruzio oznakama funkcija (kombinatora) nazive ptica zbog lakseg pamcenja naziva. To je takodje bilo i u cast *Haskell-a Curry-ja* jer je on bio poznat po svojoj ljubavi prema posmatranju ptica.\n",
    "\n",
    "![Alt text](./images/sl8.png)"
   ]
  },
  {
   "cell_type": "markdown",
   "id": "03ad28c6",
   "metadata": {},
   "source": [
    "Navedimo ukratko istoriju lambda racuna i naucnike koji su doprinjeli njegovom razvoju:\n",
    "\n",
    "- 1889. Peano - Formal Notation for Functions; Peano Arithmetic (Peanovi brojevi)\n",
    "- 1891. Frege - Axiomatic Logic; Function Notation; Functions as Graphs; Currying; (Kvantifikatorska logika)\n",
    "- 1910. Russell - Principia Mathematica; Russell's Paradox; Function notation\n",
    "- 1920. Schonfinkel - Combinatory Logic; Combinators; Currying\n",
    "- 1925. von Neumann - Functional System of Set Theory (overlapped with Combinatory Logic)\n",
    "- 1926. Curry - Combinatory Logic (Again); Combinators; many contributions\n",
    "- 1927. Curry - discovers Schonfinkel: \"This paper anticipates much of what I have done\"\n",
    "- 1931. Godel - Incompleteness Theorems; Ending the Search for Sufficient Axioms; ($\\gamma funkcije$)\n",
    "- 1932. Church - $\\lambda$-Calculus- An Effective Model of Computation\n",
    "- 1931-1936 Kleene and Rosser - Inconsistency of Specialized $\\lambda$-Calculus; Consistency of Pure $\\lambda$ Calculus\n",
    "- 1936. Church - Solves the (Hilbert's) Decision Problem - via the $\\lambda$ Calculus\n",
    "- 1936. Turing - Solves the (Hilbert's) Decision Problem - via the Turing Machine; Establishes the Church-Turing Thesis: $\\lambda$ Calculus $\\equiv$ Turing Machine; \n",
    "- 1936-1938 Turing - obtains PhD under Church; Publishes 1st Fixed-Point Combinator\n"
   ]
  },
  {
   "cell_type": "markdown",
   "id": "bda13983",
   "metadata": {},
   "source": [
    "![Alt text](./images/formalizacija.png)"
   ]
  },
  {
   "cell_type": "markdown",
   "id": "a5f47323",
   "metadata": {},
   "source": [
    "Sta su dakle kombinatori? To su $\\lambda-funkcije$ koje nemaju slobodnih varijabli. *Slobodne varijable* su one koje se u lambda izrazu javljaju u tijelu lambda izraza, a ne u apstrakciji. Primjeri:"
   ]
  },
  {
   "cell_type": "markdown",
   "id": "af71a5bd",
   "metadata": {},
   "source": [
    "![Alt text](./images/kombinatori.png)"
   ]
  },
  {
   "cell_type": "markdown",
   "id": "c8f4648e",
   "metadata": {},
   "source": [
    "Naredni interesantan kombinator je funckija koja prihvata funkciju f i dva argumenta, i onda poziva tu funkciju f prosljedjujuci joj ta dva argumenta u obrnutom redoslijedu:  $ C = \\lambda f a b.fba$."
   ]
  },
  {
   "cell_type": "markdown",
   "id": "4ca1bf9f",
   "metadata": {},
   "source": [
    "![Alt text](./images/sl9.png)"
   ]
  },
  {
   "cell_type": "markdown",
   "id": "759050d7",
   "metadata": {},
   "source": [
    "**Pr.1.**\n",
    "\n",
    "**Lambda racun**\n",
    "\n",
    "$ C K I M = K M I = M $\n",
    "\n",
    "$ C K x y = K y x = y $\n",
    "\n",
    "**Pajton**\n",
    "\n",
    "```python\n",
    "C(K)(I)(M) == K(M)(I) == M\n",
    "```\n",
    "\n",
    "**Pr.2.**\n",
    "\n",
    "**Lambda racun**\n",
    "\n",
    "$ K I K M = M $\n",
    "\n",
    "$ K I x y = I y = y $\n",
    "\n",
    "**Pajton**\n",
    "\n",
    "```python\n",
    "KI(K)(M) == M\n",
    "```\n",
    "\n",
    "Iz ove dvije prethodne jednakosti vidimo da je $ CK = KI $\n",
    "\n",
    "Ovdje se nazire da iako mozemo uvoditi nove kombinatore radi kraceg zapisa izraza, mnogi kombinatori nam nisu neophodni, jer se mogu izraziti preko osnovnijih, iako ce izraz biti duzi. To je i sustina primjene kombinatornog racuna u izradi kompajlera za funkcionalne jezike."
   ]
  },
  {
   "cell_type": "code",
   "execution_count": 44,
   "id": "213e1056",
   "metadata": {},
   "outputs": [],
   "source": [
    "#C = lambda f: (lambda a: (lambda b: f(b)(a)))\n",
    "\n",
    "def C(f):\n",
    "    def q(a):\n",
    "        def t(b):\n",
    "            return f(b)(a)\n",
    "        return t\n",
    "    return q"
   ]
  },
  {
   "cell_type": "code",
   "execution_count": 45,
   "id": "6224b3d6",
   "metadata": {},
   "outputs": [
    {
     "data": {
      "text/plain": [
       "<function __main__.M(x)>"
      ]
     },
     "execution_count": 45,
     "metadata": {},
     "output_type": "execute_result"
    }
   ],
   "source": [
    "C(K)(I)(M)"
   ]
  },
  {
   "cell_type": "code",
   "execution_count": 46,
   "id": "187c08d9",
   "metadata": {},
   "outputs": [
    {
     "data": {
      "text/plain": [
       "2"
      ]
     },
     "execution_count": 46,
     "metadata": {},
     "output_type": "execute_result"
    }
   ],
   "source": [
    "C(K)(1)(2)"
   ]
  },
  {
   "cell_type": "markdown",
   "id": "f64ad71f",
   "metadata": {},
   "source": [
    "U Haskell-u se ova funkcija (kombinator) naziva **flip**:"
   ]
  },
  {
   "cell_type": "markdown",
   "id": "20437964",
   "metadata": {},
   "source": [
    "![Alt text](./images/flip1.png)"
   ]
  },
  {
   "cell_type": "markdown",
   "id": "a871216c",
   "metadata": {},
   "source": [
    "Iako je nastao nezavisno od razvoja funkcionalnih programskih jezika, lambda racun je teorijska apstrakcija funkcionalnih jezika, kao sto je Tjuringova masina i URM masina teorijska apstrakcija imperativnih programskih jezika. Imperativni programski jezici imaju u svojoj osnovi fon Nojmanovu arhitekturu. \n",
    "\n",
    "Kako ne postoji specijalan hardver koji je prilagodjen funkcionalnim jezicima, da bi oni uopste bili prakticni neophodno je prevesti jezik visoke apstrakcije u jezik niskog nivoa kao asembler, koji je najbolji predstavnik imperativnih jezika, tj. prevesti ga u izvrsni kod za hardversku masinu koja je uvijek napravljena po fon Nojmanovoj arhitekturi i time daleko od funkcionalnih jezika.\n",
    "\n",
    "Zbog toga je kompilacija funkcionalnih jezika veoma komplikovana, pa su funkcionalni jezici dugo bili samo interpretirani.\n",
    "\n",
    "Sa druge strane, kako su programi pisani na funkcionalnim jezicima blize svojoj teorijskoj apstrakciji, tj. lambda racunu, onda je njihovu tacnost i ispravnost lakse matematicki provjeriti.\n",
    "\n",
    "Takodje, Tjuring je dokazao ekvivalentnost Tjuringove masine i lambda kalkulusa.\n",
    "Posto je ekspresivnost funkcionalnih jezika ekvivalentna ekspresivnosti lambda racuna, a ekspresivnost imperativnih jezika ekvivalentna ekspresivnosti Tjuringove masine, dobijamo da se svaki program koji se moze napisati u funkcionalnim jezicima moze takodje napisati i u imperativnim, i obrnuto.\n",
    "\n",
    "Zbog ovoga znamo da nista ne dobijamo u smislu ekspresivnosti u odnosu na imperativne jezike koristeci funkcionalne jezike.\n",
    "Prema tome, glavna prednost jednog nacina izracunavanja u odnosu na drugi odredjuje se u odnosu na dati problem koji se rjesava. Posto su ova dva nacina izracunavanja veoma razlicita, cesto odgovaraju razlicitim skupovima problema koje je prirodnije rjesavati jednom od paradigmi. "
   ]
  },
  {
   "cell_type": "markdown",
   "id": "4ed73d74",
   "metadata": {},
   "source": [
    "![Alt text](./images/tjuringlambda.png)"
   ]
  },
  {
   "cell_type": "markdown",
   "id": "291223d0",
   "metadata": {},
   "source": [
    "S obzirom da smo rekli da se svaki imperativni program moze izraziti u lambda racunu, a neke od glavnih komponenti imperativnih programa i fon Nojmanove arhitekture su logicke konstante, prorodni brojevi, racunske operacije, postavlja se pitanje kako njih da realizujemo u lambda racunu.\n",
    "Krenimo od logickih konstanti i formula."
   ]
  },
  {
   "cell_type": "markdown",
   "id": "d9fd087e",
   "metadata": {},
   "source": [
    "![Alt text](./images/lambda_racun.png)"
   ]
  },
  {
   "cell_type": "markdown",
   "id": "61e8468a",
   "metadata": {},
   "source": [
    "![Alt text](./images/bool.png)"
   ]
  },
  {
   "cell_type": "markdown",
   "id": "cbc6464a",
   "metadata": {},
   "source": [
    "Sjetimo se koja je uloga *boolean* vrijednosti u standardnim programskim jezicima, kao na primjer, Javascript. To je izbor izmedju dvije vrijednosti. Ovo se cesto zapisuje koristeci ternarni operator koji nam ako je uslov tacan vraca prvu vrijednost, a ako je netacan vraca drugu vrijednost."
   ]
  },
  {
   "cell_type": "markdown",
   "id": "55cd554b",
   "metadata": {},
   "source": [
    "![Alt text](./images/bool1.png)"
   ]
  },
  {
   "cell_type": "code",
   "execution_count": 52,
   "id": "0a1037bd",
   "metadata": {},
   "outputs": [],
   "source": [
    "#def T(x):\n",
    "#    return lambda y: x\n",
    "\n",
    "def T(x):\n",
    "    def f(y):\n",
    "        return x\n",
    "    return f"
   ]
  },
  {
   "cell_type": "code",
   "execution_count": 54,
   "id": "77a9caed",
   "metadata": {},
   "outputs": [],
   "source": [
    "#def F(x):\n",
    "#    return lambda y: y\n",
    "\n",
    "def F(x):\n",
    "    def f(y):\n",
    "        return y\n",
    "    return f"
   ]
  },
  {
   "cell_type": "code",
   "execution_count": 53,
   "id": "71b305aa",
   "metadata": {},
   "outputs": [
    {
     "data": {
      "text/plain": [
       "'5v'"
      ]
     },
     "execution_count": 53,
     "metadata": {},
     "output_type": "execute_result"
    }
   ],
   "source": [
    "T('5v')('gnd')"
   ]
  },
  {
   "cell_type": "code",
   "execution_count": 55,
   "id": "8087a4ed",
   "metadata": {},
   "outputs": [
    {
     "data": {
      "text/plain": [
       "'gnd'"
      ]
     },
     "execution_count": 55,
     "metadata": {},
     "output_type": "execute_result"
    }
   ],
   "source": [
    "F('5v')('gnd')"
   ]
  },
  {
   "cell_type": "code",
   "execution_count": 56,
   "id": "08f91eb4",
   "metadata": {},
   "outputs": [
    {
     "data": {
      "text/plain": [
       "<function __main__.T(x)>"
      ]
     },
     "execution_count": 56,
     "metadata": {},
     "output_type": "execute_result"
    }
   ],
   "source": [
    "T(T)(F)"
   ]
  },
  {
   "cell_type": "markdown",
   "id": "31d0e341",
   "metadata": {},
   "source": [
    "Zbog toga bi *bool* u lambda zapisu trebalo da bude funkcija koja simulira ovu funkcionalnost: tacno *znaci* vrati prvi argument, a netacno *znaci* vrati drugi argument.\n",
    "\n",
    "Mi smo do sada i uveli kombinatore sa bas ovom funkcionalnoscu. To je bio **K** kombinator za **Tacno**, a **KI** kombinator za **Netacno**."
   ]
  },
  {
   "cell_type": "markdown",
   "id": "0e0af6cd",
   "metadata": {},
   "source": [
    "![Alt text](./images/cerc1.png)"
   ]
  },
  {
   "cell_type": "markdown",
   "id": "3291cf6e",
   "metadata": {},
   "source": [
    "![Alt text](./images/cerc2.png)"
   ]
  },
  {
   "cell_type": "markdown",
   "id": "772ab64d",
   "metadata": {},
   "source": [
    "![Alt text](./images/cerc3.png)"
   ]
  },
  {
   "cell_type": "markdown",
   "id": "27ccfacf",
   "metadata": {},
   "source": [
    "Ovakav zapis logickih vrijednosti, kao kasnije logickih operatora, brojevnih vrijednosti i racunskih operatora naziva se **Cercovo enkodiranje**.\n",
    "\n",
    "Sad izvedimo operator negacije."
   ]
  },
  {
   "cell_type": "markdown",
   "id": "81e643bf",
   "metadata": {},
   "source": [
    "![Alt text](./images/nott.png)"
   ]
  },
  {
   "cell_type": "markdown",
   "id": "72394676",
   "metadata": {},
   "source": [
    "Ovaj operator je funkcija koja uzima jedan argument koji je *bool* tipa i vraca njegovu suprotnost, tj. u zavisnosti da li je njegova vrijednost tacna selektuje netacno, odnosno ako je njegova vrijednost netacna selektuje tacno.\n",
    "\n",
    "Zbog toga zapisimo funkciju **NOT** na sljedeci nacin:"
   ]
  },
  {
   "cell_type": "markdown",
   "id": "4a40a9c0",
   "metadata": {},
   "source": [
    "![Alt text](./images/nottttt.png)"
   ]
  },
  {
   "cell_type": "markdown",
   "id": "f4872f89",
   "metadata": {},
   "source": [
    "Ona prima jedan parametar, koji ako je jednak **K** kombinatoru, vracace prvu vrijednost, tj. netacno, a ako je jednak **KI** kombinatoru, vracace drugu vrijednost, tj. tacno."
   ]
  },
  {
   "cell_type": "code",
   "execution_count": 57,
   "id": "78b35baa",
   "metadata": {},
   "outputs": [],
   "source": [
    "#NOT = lambda p: p(F)(T)\n",
    "\n",
    "def NOT(p):\n",
    "    return p(F)(T)"
   ]
  },
  {
   "cell_type": "code",
   "execution_count": 58,
   "id": "db212e6d",
   "metadata": {},
   "outputs": [
    {
     "data": {
      "text/plain": [
       "<function __main__.T(x)>"
      ]
     },
     "execution_count": 58,
     "metadata": {},
     "output_type": "execute_result"
    }
   ],
   "source": [
    "NOT(F)"
   ]
  },
  {
   "cell_type": "code",
   "execution_count": 59,
   "id": "47f29d2b",
   "metadata": {},
   "outputs": [
    {
     "data": {
      "text/plain": [
       "<function __main__.F(x)>"
      ]
     },
     "execution_count": 59,
     "metadata": {},
     "output_type": "execute_result"
    }
   ],
   "source": [
    "NOT(T)"
   ]
  },
  {
   "cell_type": "code",
   "execution_count": 60,
   "id": "51d781f5",
   "metadata": {},
   "outputs": [
    {
     "data": {
      "text/plain": [
       "<function __main__.F(x)>"
      ]
     },
     "execution_count": 60,
     "metadata": {},
     "output_type": "execute_result"
    }
   ],
   "source": [
    "NOT(K)"
   ]
  },
  {
   "cell_type": "code",
   "execution_count": 61,
   "id": "3e33b509",
   "metadata": {},
   "outputs": [
    {
     "data": {
      "text/plain": [
       "<function __main__.T(x)>"
      ]
     },
     "execution_count": 61,
     "metadata": {},
     "output_type": "execute_result"
    }
   ],
   "source": [
    "NOT(KI)"
   ]
  },
  {
   "cell_type": "markdown",
   "id": "fb7619a5",
   "metadata": {},
   "source": [
    "**Pr.1.**\n",
    "\n",
    "**Lambda racun**\n",
    "\n",
    "$ C K x y = K y x = y $ tj. $ C T x y = T y x = y $\n",
    "\n",
    "$ K I x y = y $ tj. $ F x y = y $\n",
    "\n",
    "Pa je $ C K = K I $, tj. $ C T = F $\n",
    "\n",
    "\n",
    "**Pr.2.**\n",
    "\n",
    "**Lambda racun**\n",
    "\n",
    "$ C (KI) x y = (KI) y x = x $ tj. $ C F x y = F y x = x $\n",
    "\n",
    "$ K x y = x $ tj. $ T x y = x $\n",
    "\n",
    "Pa je $ C (KI) = K $, tj. $ C F = T $\n",
    "\n",
    "Odavde vidimo da je **C** = **NOT**.\n"
   ]
  },
  {
   "cell_type": "code",
   "execution_count": 62,
   "id": "bfef26ab",
   "metadata": {},
   "outputs": [
    {
     "data": {
      "text/plain": [
       "<function __main__.C.<locals>.q(a)>"
      ]
     },
     "execution_count": 62,
     "metadata": {},
     "output_type": "execute_result"
    }
   ],
   "source": [
    "C(T)"
   ]
  },
  {
   "cell_type": "markdown",
   "id": "1356d875",
   "metadata": {},
   "source": [
    "Gore vidimo da ipak dobijemo drugaciju vrijednost nego za poziv NOT(T) = F.\n",
    "To je iz razloga sto funkcija C ocekuje jos dva argumenta:"
   ]
  },
  {
   "cell_type": "code",
   "execution_count": 63,
   "id": "34ca1e3f",
   "metadata": {},
   "outputs": [
    {
     "data": {
      "text/plain": [
       "2"
      ]
     },
     "execution_count": 63,
     "metadata": {},
     "output_type": "execute_result"
    }
   ],
   "source": [
    "C(T)(1)(2)"
   ]
  },
  {
   "cell_type": "code",
   "execution_count": 64,
   "id": "3d96161c",
   "metadata": {},
   "outputs": [
    {
     "data": {
      "text/plain": [
       "1"
      ]
     },
     "execution_count": 64,
     "metadata": {},
     "output_type": "execute_result"
    }
   ],
   "source": [
    "C(F)(1)(2)"
   ]
  },
  {
   "cell_type": "markdown",
   "id": "6fae7358",
   "metadata": {},
   "source": [
    "Dakle, vidimo da se C(T) **ponasa** kao F, jer bira drugi argument od dva, a da se C(F) **ponasa** kao T, jer bira prvi argument od da. Odavde vidimo da ekvivalentnost **C = NOT** nije u potpunosti tacna, nego da mozemo reci da se **C ponasa kao NOT**.\n",
    "\n",
    "Sljedeca je na redu reprezentacija logickog operatora **AND** u lambda racunu.\n",
    "Kombinator koji predstavlja **AND** bi trebalo da prima dva argumenta, i ako je prvi jednak *netacno* da vraca netacno, bez obzira koja je vrijednost drugog argumenta, a ako je prvi jednak *tacno* da vraca vrijednost drugog argumenta (tj. konjukcija je tacna ako su oba argumenta tacna, a ako znamo da je prvi tacan, onda je konjukcija netacna ako je drugi netacan)."
   ]
  },
  {
   "cell_type": "markdown",
   "id": "351b5662",
   "metadata": {},
   "source": [
    "![Alt text](./images/andd.png)"
   ]
  },
  {
   "cell_type": "code",
   "execution_count": 70,
   "id": "465baa06",
   "metadata": {},
   "outputs": [],
   "source": [
    "#AND = lambda p: (lambda q: p(q)(F))\n",
    "\n",
    "def AND(p):\n",
    "    def f(q):\n",
    "        return p(q)(F)\n",
    "    return f"
   ]
  },
  {
   "cell_type": "code",
   "execution_count": 71,
   "id": "2952c50d",
   "metadata": {},
   "outputs": [
    {
     "data": {
      "text/plain": [
       "<function __main__.F(x)>"
      ]
     },
     "execution_count": 71,
     "metadata": {},
     "output_type": "execute_result"
    }
   ],
   "source": [
    "AND(T)(F)"
   ]
  },
  {
   "cell_type": "code",
   "execution_count": 72,
   "id": "00328acc",
   "metadata": {},
   "outputs": [
    {
     "data": {
      "text/plain": [
       "<function __main__.T(x)>"
      ]
     },
     "execution_count": 72,
     "metadata": {},
     "output_type": "execute_result"
    }
   ],
   "source": [
    "AND(T)(T)"
   ]
  },
  {
   "cell_type": "code",
   "execution_count": 73,
   "id": "721cd27e",
   "metadata": {},
   "outputs": [
    {
     "data": {
      "text/plain": [
       "<function __main__.F(x)>"
      ]
     },
     "execution_count": 73,
     "metadata": {},
     "output_type": "execute_result"
    }
   ],
   "source": [
    "AND(F)(F)"
   ]
  },
  {
   "cell_type": "code",
   "execution_count": 74,
   "id": "04d70a17",
   "metadata": {},
   "outputs": [
    {
     "data": {
      "text/plain": [
       "<function __main__.F(x)>"
      ]
     },
     "execution_count": 74,
     "metadata": {},
     "output_type": "execute_result"
    }
   ],
   "source": [
    "AND(F)(T)"
   ]
  },
  {
   "cell_type": "markdown",
   "id": "d68b0856",
   "metadata": {},
   "source": [
    "![Alt text](./images/anddd.png)"
   ]
  },
  {
   "cell_type": "markdown",
   "id": "73bb61de",
   "metadata": {},
   "source": [
    "Primjetimo da u izboru ako je p jednako F dobijamo F, sto se moze bolje zapisati ako je p jednako F dobijamo p."
   ]
  },
  {
   "cell_type": "markdown",
   "id": "97f381f6",
   "metadata": {},
   "source": [
    "![Alt text](./images/andddd.png)"
   ]
  },
  {
   "cell_type": "markdown",
   "id": "7d2a290e",
   "metadata": {},
   "source": [
    "![Alt text](./images/anddddd.png)"
   ]
  },
  {
   "cell_type": "code",
   "execution_count": 75,
   "id": "8c1a7438",
   "metadata": {},
   "outputs": [],
   "source": [
    "#AND = lambda p: (lambda q: p(q)(p))\n",
    "\n",
    "def AND(p):\n",
    "    def f(q):\n",
    "        return p(q)(p)\n",
    "    return f"
   ]
  },
  {
   "cell_type": "code",
   "execution_count": 76,
   "id": "edc75d5c",
   "metadata": {},
   "outputs": [
    {
     "data": {
      "text/plain": [
       "<function __main__.F(x)>"
      ]
     },
     "execution_count": 76,
     "metadata": {},
     "output_type": "execute_result"
    }
   ],
   "source": [
    "AND(T)(F)"
   ]
  },
  {
   "cell_type": "code",
   "execution_count": 77,
   "id": "deac2bc0",
   "metadata": {},
   "outputs": [
    {
     "data": {
      "text/plain": [
       "<function __main__.T(x)>"
      ]
     },
     "execution_count": 77,
     "metadata": {},
     "output_type": "execute_result"
    }
   ],
   "source": [
    "AND(T)(T)"
   ]
  },
  {
   "cell_type": "code",
   "execution_count": 78,
   "id": "53b99897",
   "metadata": {},
   "outputs": [
    {
     "data": {
      "text/plain": [
       "<function __main__.F(x)>"
      ]
     },
     "execution_count": 78,
     "metadata": {},
     "output_type": "execute_result"
    }
   ],
   "source": [
    "AND(F)(T)"
   ]
  },
  {
   "cell_type": "code",
   "execution_count": 79,
   "id": "58d4791c",
   "metadata": {},
   "outputs": [
    {
     "data": {
      "text/plain": [
       "<function __main__.F(x)>"
      ]
     },
     "execution_count": 79,
     "metadata": {},
     "output_type": "execute_result"
    }
   ],
   "source": [
    "AND(F)(F)"
   ]
  },
  {
   "cell_type": "markdown",
   "id": "49991f98",
   "metadata": {},
   "source": [
    "Sad izvedimo operator **OR** na isti nacin.\n",
    "On prima dva argumenta i u zavisnosti da li prvi ima vrijednost **TACNO** vraca **TACNO**, bez obzira na drugi argument, a ako prvi argument ima vrijednost **NETACNO** vraca vrijednost drugog argumenta (disjukcija dva argumenta, kad je vrijednost jednog netacna je jednaka netacno ako je drugi argument netacno, dok je jednaka tacno ako je drugi argument jednak tacno). "
   ]
  },
  {
   "cell_type": "markdown",
   "id": "4f35cf63",
   "metadata": {},
   "source": [
    "![Alt text](./images/orr.png)"
   ]
  },
  {
   "cell_type": "code",
   "execution_count": 90,
   "id": "da026bf8",
   "metadata": {},
   "outputs": [],
   "source": [
    "#OR = lambda p: (lambda q: p(T)(q))\n",
    "#OR = lambda p: (lambda q: p(p)(q))\n",
    "\n",
    "def OR(p):\n",
    "    def f(q):\n",
    "        return p(p)(q)\n",
    "    return f"
   ]
  },
  {
   "cell_type": "code",
   "execution_count": 91,
   "id": "1ed49fc4",
   "metadata": {},
   "outputs": [
    {
     "data": {
      "text/plain": [
       "<function __main__.T(x)>"
      ]
     },
     "execution_count": 91,
     "metadata": {},
     "output_type": "execute_result"
    }
   ],
   "source": [
    "OR(T)(F)"
   ]
  },
  {
   "cell_type": "code",
   "execution_count": 92,
   "id": "409de155",
   "metadata": {},
   "outputs": [
    {
     "data": {
      "text/plain": [
       "<function __main__.T(x)>"
      ]
     },
     "execution_count": 92,
     "metadata": {},
     "output_type": "execute_result"
    }
   ],
   "source": [
    "OR(T)(T)"
   ]
  },
  {
   "cell_type": "code",
   "execution_count": 93,
   "id": "733165ec",
   "metadata": {},
   "outputs": [
    {
     "data": {
      "text/plain": [
       "<function __main__.F(x)>"
      ]
     },
     "execution_count": 93,
     "metadata": {},
     "output_type": "execute_result"
    }
   ],
   "source": [
    "OR(F)(F)"
   ]
  },
  {
   "cell_type": "code",
   "execution_count": 94,
   "id": "adb920d5",
   "metadata": {},
   "outputs": [
    {
     "data": {
      "text/plain": [
       "<function __main__.T(x)>"
      ]
     },
     "execution_count": 94,
     "metadata": {},
     "output_type": "execute_result"
    }
   ],
   "source": [
    "OR(F)(T)"
   ]
  },
  {
   "cell_type": "markdown",
   "id": "96fc7640",
   "metadata": {},
   "source": [
    "Pogledajmo sad primjenu kombinatora na dva argumenta koji mogu biti T i F:"
   ]
  },
  {
   "cell_type": "code",
   "execution_count": 95,
   "id": "00ffbb7f",
   "metadata": {},
   "outputs": [
    {
     "data": {
      "text/plain": [
       "<function __main__.T(x)>"
      ]
     },
     "execution_count": 95,
     "metadata": {},
     "output_type": "execute_result"
    }
   ],
   "source": [
    "M(T)(F)"
   ]
  },
  {
   "cell_type": "code",
   "execution_count": 96,
   "id": "33dde66d",
   "metadata": {},
   "outputs": [
    {
     "data": {
      "text/plain": [
       "<function __main__.T(x)>"
      ]
     },
     "execution_count": 96,
     "metadata": {},
     "output_type": "execute_result"
    }
   ],
   "source": [
    "M(T)(T)"
   ]
  },
  {
   "cell_type": "code",
   "execution_count": 97,
   "id": "3ea5b1c2",
   "metadata": {},
   "outputs": [
    {
     "data": {
      "text/plain": [
       "<function __main__.F(x)>"
      ]
     },
     "execution_count": 97,
     "metadata": {},
     "output_type": "execute_result"
    }
   ],
   "source": [
    "M(F)(F)"
   ]
  },
  {
   "cell_type": "code",
   "execution_count": 98,
   "id": "f9d7415d",
   "metadata": {},
   "outputs": [
    {
     "data": {
      "text/plain": [
       "<function __main__.T(x)>"
      ]
     },
     "execution_count": 98,
     "metadata": {},
     "output_type": "execute_result"
    }
   ],
   "source": [
    "M(F)(T)"
   ]
  },
  {
   "cell_type": "markdown",
   "id": "c2e51fd8",
   "metadata": {},
   "source": [
    "Vidimo da se **OR identicno ponasa kao i M**, kao i u prethodnom slucaju za kombinatore C i NOT, uz razliku u broju argumenata.\n",
    "\n",
    "Posmatrajmo sad naredni kombinator."
   ]
  },
  {
   "cell_type": "markdown",
   "id": "b3497271",
   "metadata": {},
   "source": [
    "![Alt text](./images/beqq.png)"
   ]
  },
  {
   "cell_type": "markdown",
   "id": "b5b7fa40",
   "metadata": {},
   "source": [
    "Ako on prima *bool* vrijednosti, razmotrimo njegovo ponasanje:\n",
    "\n",
    "Ako su i prva i druga vrijednost jednaka **TACNO**, on vraca **TACNO**, kao i kad su i prva i druga vrijednost jednake **NETACNO**.\n",
    "\n",
    "Ako je prva vrijednost **TACNO**, a druga **NETACNO**, on vraca **NETACNO**, kao i kad je prva vrijednost **NETACNO**, a druga **TACNO**. \n",
    "\n",
    "To znaci da ako su oba argumenta jednaka, kombinator vraca **TACNO**, a ako su argumenti razliciti, kombinator vraca **NETACNO**.\n",
    "\n",
    "Ovime smo predstavili jednakost logickih vrijednosti (ili operator **NXOR**):"
   ]
  },
  {
   "cell_type": "markdown",
   "id": "969451b0",
   "metadata": {},
   "source": [
    "![Alt text](./images/beqqq.png)"
   ]
  },
  {
   "cell_type": "code",
   "execution_count": 104,
   "id": "ee3b3e65",
   "metadata": {},
   "outputs": [],
   "source": [
    "#BEQ = lambda p: (lambda q: p(q(T)(F))(q(F)(T)))\n",
    "\n",
    "def BEQ(p):\n",
    "    def f(q):\n",
    "        return p(q(T)(F))(q(F)(T))\n",
    "    return f"
   ]
  },
  {
   "cell_type": "code",
   "execution_count": 105,
   "id": "707561ca",
   "metadata": {},
   "outputs": [
    {
     "data": {
      "text/plain": [
       "<function __main__.F(x)>"
      ]
     },
     "execution_count": 105,
     "metadata": {},
     "output_type": "execute_result"
    }
   ],
   "source": [
    "BEQ(F)(T)"
   ]
  },
  {
   "cell_type": "code",
   "execution_count": 106,
   "id": "425b3604",
   "metadata": {},
   "outputs": [
    {
     "data": {
      "text/plain": [
       "<function __main__.T(x)>"
      ]
     },
     "execution_count": 106,
     "metadata": {},
     "output_type": "execute_result"
    }
   ],
   "source": [
    "BEQ(T)(T)"
   ]
  },
  {
   "cell_type": "code",
   "execution_count": 107,
   "id": "e0ffe068",
   "metadata": {},
   "outputs": [
    {
     "data": {
      "text/plain": [
       "<function __main__.T(x)>"
      ]
     },
     "execution_count": 107,
     "metadata": {},
     "output_type": "execute_result"
    }
   ],
   "source": [
    "BEQ(F)(F)"
   ]
  },
  {
   "cell_type": "code",
   "execution_count": 108,
   "id": "2b1026c1",
   "metadata": {},
   "outputs": [
    {
     "data": {
      "text/plain": [
       "<function __main__.F(x)>"
      ]
     },
     "execution_count": 108,
     "metadata": {},
     "output_type": "execute_result"
    }
   ],
   "source": [
    "BEQ(T)(F)"
   ]
  },
  {
   "cell_type": "markdown",
   "id": "36f647f4",
   "metadata": {},
   "source": [
    "Prethodni izraz se moze pojednostaviti, jer vidimo da ako je prvi argument tacan, drugi argument selektuje svoju vrijednost, a ako je prvi argument netacan, drugi argument selektuje vrijednost suprotnu svojoj, tj:"
   ]
  },
  {
   "cell_type": "markdown",
   "id": "b6cbd825",
   "metadata": {},
   "source": [
    "![Alt text](./images/beqqqq.png)"
   ]
  },
  {
   "cell_type": "markdown",
   "id": "3c4a61f8",
   "metadata": {},
   "source": [
    "Sto nam daje konacni zapis logicke jednakosti:\n",
    "\n",
    "![Alt text](./images/beqqqqq.png)"
   ]
  },
  {
   "cell_type": "code",
   "execution_count": 109,
   "id": "f856b5d6",
   "metadata": {},
   "outputs": [],
   "source": [
    "#BEQ = lambda p: (lambda q: p(q)(NOT(q)))\n",
    "\n",
    "def BEQ(p):\n",
    "    def f(q):\n",
    "        return p(q)(NOT(q))\n",
    "    return f"
   ]
  },
  {
   "cell_type": "code",
   "execution_count": 110,
   "id": "746ba0ef",
   "metadata": {},
   "outputs": [
    {
     "data": {
      "text/plain": [
       "<function __main__.F(x)>"
      ]
     },
     "execution_count": 110,
     "metadata": {},
     "output_type": "execute_result"
    }
   ],
   "source": [
    "BEQ(F)(T)"
   ]
  },
  {
   "cell_type": "code",
   "execution_count": 111,
   "id": "4a088db6",
   "metadata": {},
   "outputs": [
    {
     "data": {
      "text/plain": [
       "<function __main__.F(x)>"
      ]
     },
     "execution_count": 111,
     "metadata": {},
     "output_type": "execute_result"
    }
   ],
   "source": [
    "BEQ(T)(F)"
   ]
  },
  {
   "cell_type": "code",
   "execution_count": 112,
   "id": "e9999f41",
   "metadata": {},
   "outputs": [
    {
     "data": {
      "text/plain": [
       "<function __main__.T(x)>"
      ]
     },
     "execution_count": 112,
     "metadata": {},
     "output_type": "execute_result"
    }
   ],
   "source": [
    "BEQ(F)(F)"
   ]
  },
  {
   "cell_type": "code",
   "execution_count": 113,
   "id": "49273d54",
   "metadata": {},
   "outputs": [
    {
     "data": {
      "text/plain": [
       "<function __main__.T(x)>"
      ]
     },
     "execution_count": 113,
     "metadata": {},
     "output_type": "execute_result"
    }
   ],
   "source": [
    "BEQ(T)(T)"
   ]
  },
  {
   "cell_type": "markdown",
   "id": "9ab821d7",
   "metadata": {},
   "source": [
    "Do sada smo presli izvodjenja logickih vrijednosti kao i logickih operatora u lambda racunu:"
   ]
  },
  {
   "cell_type": "markdown",
   "id": "bfb7c7e8",
   "metadata": {},
   "source": [
    "![Alt text](./images/church.png)"
   ]
  },
  {
   "cell_type": "markdown",
   "id": "e259f86a",
   "metadata": {},
   "source": [
    "**Primjer:** Zapis jednog od De Morganovih zakona u lambda racunu:\n",
    "\n",
    "![Alt text](./images/demorg.png)\n",
    "\n",
    "![Alt text](./images/demorg1.png)"
   ]
  },
  {
   "cell_type": "markdown",
   "id": "fb34fe24",
   "metadata": {},
   "source": [
    "Sad predjimo na izvodjenje brojevnih vrijednosti u lambda racunu.\n",
    "\n",
    "Kako su funkcije jedino cime raspolazemo, prirodnije je brojati u smislu aplikacije funkcija, tj. umjesto jedan, dva, tri...\n",
    "brojati jednom, dva puta, tri puta,...\n",
    "\n",
    "\n",
    "![Alt text](./images/brojevii.png)\n",
    "\n",
    "![Alt text](./images/brojeviii.png)"
   ]
  },
  {
   "cell_type": "code",
   "execution_count": 114,
   "id": "fc887ab3",
   "metadata": {},
   "outputs": [],
   "source": [
    "#ONCE = lambda f: (lambda a: f(a))\n",
    "\n",
    "def ONCE(f):\n",
    "    def w(a):\n",
    "        return f(a)\n",
    "    return w"
   ]
  },
  {
   "cell_type": "code",
   "execution_count": 115,
   "id": "5f8329f8",
   "metadata": {},
   "outputs": [
    {
     "data": {
      "text/plain": [
       "2"
      ]
     },
     "execution_count": 115,
     "metadata": {},
     "output_type": "execute_result"
    }
   ],
   "source": [
    "ONCE(I)(2)"
   ]
  },
  {
   "cell_type": "code",
   "execution_count": 116,
   "id": "7e68c108",
   "metadata": {},
   "outputs": [
    {
     "data": {
      "text/plain": [
       "<function __main__.F(x)>"
      ]
     },
     "execution_count": 116,
     "metadata": {},
     "output_type": "execute_result"
    }
   ],
   "source": [
    "ONCE(NOT)(T)"
   ]
  },
  {
   "cell_type": "code",
   "execution_count": 117,
   "id": "dd0c6239",
   "metadata": {},
   "outputs": [],
   "source": [
    "#TWICE = lambda f: (lambda a: f(f(a)))\n",
    "\n",
    "def TWICE(f):\n",
    "    def w(a):\n",
    "        return f(f(a))\n",
    "    return w"
   ]
  },
  {
   "cell_type": "code",
   "execution_count": 118,
   "id": "d6c3072b",
   "metadata": {},
   "outputs": [
    {
     "data": {
      "text/plain": [
       "<function __main__.T(x)>"
      ]
     },
     "execution_count": 118,
     "metadata": {},
     "output_type": "execute_result"
    }
   ],
   "source": [
    "TWICE(NOT)(T)"
   ]
  },
  {
   "cell_type": "code",
   "execution_count": 119,
   "id": "6c734c65",
   "metadata": {},
   "outputs": [],
   "source": [
    "#THRICE = lambda f: (lambda a: f(f(f(a))))\n",
    "\n",
    "def THRICE(f):\n",
    "    def w(a):\n",
    "        return f(f(f(a)))\n",
    "    return w"
   ]
  },
  {
   "cell_type": "code",
   "execution_count": 120,
   "id": "0898afd2",
   "metadata": {},
   "outputs": [
    {
     "data": {
      "text/plain": [
       "<function __main__.F(x)>"
      ]
     },
     "execution_count": 120,
     "metadata": {},
     "output_type": "execute_result"
    }
   ],
   "source": [
    "THRICE(NOT)(T)"
   ]
  },
  {
   "cell_type": "markdown",
   "id": "5732ce9b",
   "metadata": {},
   "source": [
    "Po ovom sablonu bi nam trebalo da kombinator koji predstavlja nulu prima dva argumenta, od kojih je prvi funkcija, koju nula puta primjeni na drugi argument, tj. vrati samo drugi argument:"
   ]
  },
  {
   "cell_type": "code",
   "execution_count": 121,
   "id": "0ec8cf2b",
   "metadata": {},
   "outputs": [],
   "source": [
    "#ZERO = lambda f: (lambda a: a)\n",
    "\n",
    "def ZERO(f):\n",
    "    def w(a):\n",
    "        return a\n",
    "    return w"
   ]
  },
  {
   "cell_type": "code",
   "execution_count": 122,
   "id": "327ca39c",
   "metadata": {},
   "outputs": [
    {
     "data": {
      "text/plain": [
       "<function __main__.T(x)>"
      ]
     },
     "execution_count": 122,
     "metadata": {},
     "output_type": "execute_result"
    }
   ],
   "source": [
    "ZERO(NOT)(T)"
   ]
  },
  {
   "cell_type": "code",
   "execution_count": 124,
   "id": "ab6a9d26",
   "metadata": {},
   "outputs": [
    {
     "data": {
      "text/plain": [
       "<function __main__.T(x)>"
      ]
     },
     "execution_count": 124,
     "metadata": {},
     "output_type": "execute_result"
    }
   ],
   "source": [
    "F(NOT)(T)"
   ]
  },
  {
   "cell_type": "markdown",
   "id": "9efb9fb4",
   "metadata": {},
   "source": [
    "Primjetimo da se prema tome kombinator ZERO ponasa kao kombinator F."
   ]
  },
  {
   "cell_type": "markdown",
   "id": "be6f0830",
   "metadata": {},
   "source": [
    "![Alt text](./images/brojeviiii.png)"
   ]
  },
  {
   "cell_type": "markdown",
   "id": "4196f425",
   "metadata": {},
   "source": [
    "Trebalo bi da u lambda racunu predstavimo svaki prirodni broj, tako da ce nam po uzoru na Peanove brojeve trebati funkcija **SLJEDBENIK** pored funkcije **ZERO**."
   ]
  },
  {
   "cell_type": "markdown",
   "id": "ce2a7da7",
   "metadata": {},
   "source": [
    "![Alt text](./images/peano.png)"
   ]
  },
  {
   "cell_type": "markdown",
   "id": "5ec267aa",
   "metadata": {},
   "source": [
    "Kombinator **SUCC** bi trebalo da prima jedan argument, neki broj, i da vraca njegov sljedbenik, tj. vrijednost uvecanu za 1.\n",
    "U jeziku lambda racuna to je primjena funkcije jos jedanput:"
   ]
  },
  {
   "cell_type": "markdown",
   "id": "64b5dd43",
   "metadata": {},
   "source": [
    "![Alt text](./images/peanoo.png)\n",
    "\n",
    "S obzirom da je i n koje prima kombinator **SUCC** takodje kombinator, i posto on ima dva parametra f i a koja ocekuje, u definisanju sljedbenika moramo dodati jos da se **n** primjenjuje na f i a redom, pa samim tim **SUCC** mora imati jos dva parametra f i a, pored n."
   ]
  },
  {
   "cell_type": "markdown",
   "id": "cd18df2d",
   "metadata": {},
   "source": [
    "![Alt text](./images/peanooo.png)"
   ]
  },
  {
   "cell_type": "code",
   "execution_count": 125,
   "id": "78221aad",
   "metadata": {},
   "outputs": [],
   "source": [
    "#THRICE = lambda f: (lambda a: f(f(f(a))))\n",
    "\n",
    "def SUCC(n):\n",
    "    def w(f):\n",
    "        def x(a):\n",
    "            return f(n(f)(a))\n",
    "        return x\n",
    "    return w"
   ]
  },
  {
   "cell_type": "code",
   "execution_count": 126,
   "id": "16a287f4",
   "metadata": {},
   "outputs": [
    {
     "data": {
      "text/plain": [
       "<function __main__.SUCC.<locals>.w(f)>"
      ]
     },
     "execution_count": 126,
     "metadata": {},
     "output_type": "execute_result"
    }
   ],
   "source": [
    "SUCC(TWICE)"
   ]
  },
  {
   "cell_type": "markdown",
   "id": "8efb1c40",
   "metadata": {},
   "source": [
    "Nemamo dovoljno argumenata, pa se vraca samo funkcija."
   ]
  },
  {
   "cell_type": "code",
   "execution_count": 127,
   "id": "6e97521e",
   "metadata": {},
   "outputs": [
    {
     "data": {
      "text/plain": [
       "<function __main__.T(x)>"
      ]
     },
     "execution_count": 127,
     "metadata": {},
     "output_type": "execute_result"
    }
   ],
   "source": [
    "SUCC(ZERO)(NOT)(F)"
   ]
  },
  {
   "cell_type": "markdown",
   "id": "4db3f570",
   "metadata": {},
   "source": [
    "Vidimo da f u **SUCC** kombinatoru ne mora biti tacno funkcija f(x) = x+1.\n",
    "Zato zapisimo takvu funkciju za koju ce biti fiksirani parametri f kao f(x) = x+1 i a kao 0, da bismo konvertovali u notaciju na koju smo navikli kad pricamo o brojevima."
   ]
  },
  {
   "cell_type": "code",
   "execution_count": 130,
   "id": "444bde04",
   "metadata": {},
   "outputs": [],
   "source": [
    "def convert(n):\n",
    "    return n(lambda x: x+1)(0)"
   ]
  },
  {
   "cell_type": "code",
   "execution_count": 131,
   "id": "acb054ca",
   "metadata": {},
   "outputs": [
    {
     "data": {
      "text/plain": [
       "1"
      ]
     },
     "execution_count": 131,
     "metadata": {},
     "output_type": "execute_result"
    }
   ],
   "source": [
    "convert(SUCC(ZERO))"
   ]
  },
  {
   "cell_type": "code",
   "execution_count": 132,
   "id": "0f4b2bf9",
   "metadata": {},
   "outputs": [
    {
     "data": {
      "text/plain": [
       "4"
      ]
     },
     "execution_count": 132,
     "metadata": {},
     "output_type": "execute_result"
    }
   ],
   "source": [
    "convert(SUCC(SUCC(SUCC(ONCE))))"
   ]
  },
  {
   "cell_type": "markdown",
   "id": "b706681d",
   "metadata": {},
   "source": [
    "Jedan od najvaznijih kombinatora je funckija koja prihvata tri argumenta, i mijenja asocijativnost sa lijeve na desnu:  $ B = \\lambda f g a.f(ga)$.\n",
    "\n",
    "Njom se postize kompozicija dvije funkcije (prva dva argumenta), tj. prvo primjena druge funkcije na argument, a onda primjena prve funkcije na rezultat.\n",
    "\n",
    "Ovaj kombinator omogucava realizaciju vrlo cestog operatora u funkcionalnim jezicima, **pipe** operatora ili operatora **kompozicije funkcija**.\n",
    "\n",
    "![Alt text](./images/blue.png)\n",
    "\n",
    "![Alt text](./images/comp.png)"
   ]
  },
  {
   "cell_type": "markdown",
   "id": "d523e8d1",
   "metadata": {},
   "source": [
    "On nam moze posluziti i za drugaciji zapis **SUCC** kombinatora:\n",
    "\n",
    "![Alt text](./images/blues.png)"
   ]
  },
  {
   "cell_type": "code",
   "execution_count": 133,
   "id": "05f6af6a",
   "metadata": {},
   "outputs": [],
   "source": [
    "def B(f):\n",
    "    def w(g):\n",
    "        def x(a):\n",
    "            return f(g(a))\n",
    "        return x\n",
    "    return w"
   ]
  },
  {
   "cell_type": "code",
   "execution_count": 134,
   "id": "8de33e80",
   "metadata": {},
   "outputs": [
    {
     "data": {
      "text/plain": [
       "<function __main__.T(x)>"
      ]
     },
     "execution_count": 134,
     "metadata": {},
     "output_type": "execute_result"
    }
   ],
   "source": [
    "B(NOT)(NOT)(T)"
   ]
  },
  {
   "cell_type": "code",
   "execution_count": 136,
   "id": "998378f1",
   "metadata": {},
   "outputs": [
    {
     "data": {
      "text/plain": [
       "4"
      ]
     },
     "execution_count": 136,
     "metadata": {},
     "output_type": "execute_result"
    }
   ],
   "source": [
    "B(convert)(SUCC)(THRICE)"
   ]
  },
  {
   "cell_type": "markdown",
   "id": "8a9cb743",
   "metadata": {},
   "source": [
    "**Izvodjenje**\n",
    "\n",
    "$ B = \\lambda f g a.f(ga)$\n",
    "\n",
    "$ \\lambda n f. B f (n f) = \\lambda n f. ( \\lambda f g a.f(ga) ) f (n f) = \\lambda n f. \\lambda a.f((n f)a) = \\lambda n f a.f((n f)a) = \\lambda n f a.f(n f a) $ = **SUCC**\n",
    "\n"
   ]
  },
  {
   "cell_type": "code",
   "execution_count": null,
   "id": "81a26172",
   "metadata": {},
   "outputs": [],
   "source": []
  },
  {
   "cell_type": "markdown",
   "id": "61ea91cd",
   "metadata": {},
   "source": []
  }
 ],
 "metadata": {
  "kernelspec": {
   "display_name": "Python 3 (ipykernel)",
   "language": "python",
   "name": "python3"
  },
  "language_info": {
   "codemirror_mode": {
    "name": "ipython",
    "version": 3
   },
   "file_extension": ".py",
   "mimetype": "text/x-python",
   "name": "python",
   "nbconvert_exporter": "python",
   "pygments_lexer": "ipython3",
   "version": "3.10.4"
  }
 },
 "nbformat": 4,
 "nbformat_minor": 5
}
