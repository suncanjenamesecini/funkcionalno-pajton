{
 "cells": [
  {
   "cell_type": "markdown",
   "id": "631ef4d1",
   "metadata": {},
   "source": [
    "# Uvod\n",
    "\n",
    "..........."
   ]
  },
  {
   "cell_type": "markdown",
   "id": "451eb23b",
   "metadata": {},
   "source": [
    "# Sadrzaj:\n",
    "\n",
    "   ## [Programske paradigme](https://github.com/suncanjenamesecini/funkcionalno-pajton/blob/main/Uvod.ipynb)\n",
    "   ## [Lambda racun](https://github.com/suncanjenamesecini/funkcionalno-pajton/blob/main/Drugo_izdanje_Lambda_racun_Pajton.ipynb)\n",
    "   ## [Elementi funkcionalnog programiranja u programskom jeziku pajton](https://github.com/suncanjenamesecini/funkcionalno-pajton/blob/main/Kurs_funkcionalno-Copy1.ipynb)\n",
    "   ## [Coconut](https://github.com/suncanjenamesecini/funkcionalno-pajton/blob/main/Coconut_proba.ipynb)"
   ]
  },
  {
   "cell_type": "markdown",
   "id": "239ec37f",
   "metadata": {},
   "source": [
    "# Funkcionalno programiranje - uvod\n",
    "\n",
    "- Programske paradigme\n",
    "- Semantika programskih jezika\n",
    "- Lambda racun kao teorijska apstrakcija funkcionalnih programskih jezika - uopsteno\n",
    "- Osobine funkcionalnih jezika uopsteno i one koje poseduje pajton:\n",
    "    - anonimne, tj. lambda funkcije\n",
    "    - rekurzija, ali nije neophodna da se koristi, tj. potpuno prirodno postoje petlje u pajtonu kao i u svim imperativnim jezicima\n",
    "    - funkcije su gradjani prvog reda\n",
    "        - povratna vrijednost funkcije moze biti funkcija - zatvorenja - closure\n",
    "    - omoguceno curry-ing, tj. parcijalna primjena funkcija\n",
    "    - postoje funkcije viseg reda kao map, filter, reduce \n",
    "    - skracenice listi - list comprehentions\n",
    "    - lenjo izracunavanje je realizovano raznim iteratorima i generatorima\n",
    "- Osobine funkcionalnih jezika koje pajton ne poseduje:\n",
    "    - genericki tipovi, tj tipski razredi i tipske promjenljive - dinamicki tipiziran jezik\n",
    "    - pattern matching\n",
    "    - bocni efekti postoje i nisu *kontrolisani popratni efekti* kao u funkcionalnim jezicima, sem u zatvorenju\n",
    "- Kao OO jezik prvenstveno, Pajton nema neke glavne osobine funkcionalnih jezika koje npr. ima Haskel kao predstavnih cistih funkcionalnih jezika, zato cemo razmotriti Coconut jezik u nekoliko primjera\n",
    "\n"
   ]
  },
  {
   "cell_type": "markdown",
   "id": "5d36a3ec",
   "metadata": {},
   "source": [
    "## Programski jezici; leksika, sintaksa i semantika"
   ]
  },
  {
   "cell_type": "markdown",
   "id": "16de1cee",
   "metadata": {},
   "source": [
    "## Programske paradigme"
   ]
  },
  {
   "cell_type": "markdown",
   "id": "009d1790",
   "metadata": {},
   "source": [
    "## Funkcionalna programska paradigma"
   ]
  },
  {
   "cell_type": "markdown",
   "id": "30b86c69",
   "metadata": {},
   "source": [
    "**Sta obuhvata funkcionalno programiranje? Prednosti i mane**\n",
    "\n",
    "Glavna ideja je funkcija u matematickom smislu - kao tabela ili preslikavanje koje za iste ulaze uvijek daje isti izlaz. To se naziva **cista funkcija** (pure functions).Ova ideja se dosta razlikuje od standardne ideje funkcije u imperativnom programiranju, u kojem funkcije cesto podrazumijevaju interakciju sa spoljasnjim svijetom, npr upiti na APIje, upis ili citanje iz baze, tako da se za iste ulaze u raznim vremenima dobijaju razlicite vrijednosti. Zbog toga se cesto cuje da se u funkcionalnim jezicima izbjegava cuvanje i promjena stanja i da se koriste *nepromjenljive strukture podataka*.\n",
    "\n",
    "Funkcionalna je podparadigma **deklarativne paradigme**. To znaci da je naglasak na tome *sta da se uradi*, a ne i *kako da se uradi* kao kod **imperativne paradigme**.\n",
    "\n",
    "Takodje, jedna od glavnih osobina programa pisanih funkiconalnim stilom je ucestalost kompozicija funkcija, tj. program se razbija na manje nezavisne dijelove - ciste funkcije - cijom se kompozicijom ostvaruje zeljeni rezultat. Interakcija sa spoljasnjim svijetom ne moze da se izbjegne a da program ostane koristan, ali se zato izdvaja dio koda koji **nije cist** od cistih funkcija. U funkcionalnim programima funkcije su ili ciste funkcije ili sa **kontrolisanim bocnim efektima**.\n",
    "\n",
    "U funkcionalnim jezicima ne postoji iteracija i petlje, vec se ponavljanje dobija primjenom rekurzije, pa se tome tezi u primjeni funkcionalnog stila u imperativnim jezicima. Takodje, funkcije su **gradjani prvog reda**.\n",
    "\n",
    "Neke prednosti funkcionalnog programiranja su: lakse testiranje i debagovanje cistih funkcija - svaka je pogodna za nezavisne unit testove, paralelizacija je laksa zbog nepromjenljivosti podataka; teznja razdvajanju cistih od funkcija koje to nisu rezultuje u modularnijoj strukturi koda, pa prema tome i iskoristivosti koda za kasnije. Ovo uglavnom pospjesuje citljivost i razumljivost koda.\n",
    "\n",
    "Kao mane funckionalnog programiranja se cesto uzimaju potreba razdvajanja cistih funkcija od bocnih efekata, sto je ponekad dosta tesko, posebno pocetnicima, a kako neka svojstva funkcionalnih jezika poticu iz znacajne matematicke teorije i bliza su svojoj teorijskoj apstrajciji od imperativnih jezika, to dosta pocetnika smatra ovaj stil programiranja zahtjevnim. Takodje neka od mana se navodi nepromjenljivost struktura podataka sto ponekad vodi u nepotreban trosak memorije (mada ideja **sakupljaca otpadataka** potice iz funkcionalnih jezika). \n"
   ]
  },
  {
   "cell_type": "code",
   "execution_count": null,
   "id": "07e93df6",
   "metadata": {},
   "outputs": [],
   "source": []
  },
  {
   "cell_type": "markdown",
   "id": "337087af",
   "metadata": {},
   "source": [
    "### Literatura:\n",
    "\n",
    "- **GLAVNO**: prof. Milena Vujosevic-Janicic, Matematicki fakultet, Univerzitet u Beogradu; slajdovi: [Programske paradigme - Osnovna svojstva programskih jezika](http://www.programskijezici.matf.bg.ac.rs/ppI/2021/predavanja/OsnovnaSvojstavaPJ_slajdovi.pdf)\n",
    "\n",
    "- **GLAVNO**: prof. Milena Vujosevic-Janicic, Matematicki fakultet, Univerzitet u Beogradu; slajdovi: [Programske paradigme - Odnos programskih jezika i programskih paradigmi](http://www.programskijezici.matf.bg.ac.rs/ppR/2020-1/predavanja/01_odnosPJiPP_slajdovi.pdf)\n",
    "\n",
    "- **GLAVNO**: prof. Milena Vujosevic-Janicic, Matematicki fakultet, Univerzitet u Beogradu; slajdovi: [Funkcionalno programiranje - funkcionalna paradigma](http://www.programskijezici.matf.bg.ac.rs/ppR/2020-1/predavanja/funkcionalno_programiranje_slajdovi.pdf)\n",
    "\n",
    "- prof. Milena Vujosevic-Janicic, Matematicki fakultet, Univerzitet u Beogradu; tekst: [Programske paradigme - Osnovna svojstva programskih jezika](http://www.programskijezici.matf.bg.ac.rs/ppI/2021/predavanja/OsnovnaSvojstavaPJ.pdf)\n",
    "\n",
    "- prof. Milena Vujosevic-Janicic, Matematicki fakultet, Univerzitet u Beogradu; tekst: [Programske paradigme - Odnos programskih jezika i programskih paradigmi](http://www.programskijezici.matf.bg.ac.rs/ppR/2020-1/predavanja/01_odnosPJiPP_tekst.pdf)\n",
    "\n",
    "- prof. Milena Vujosevic-Janicic, Matematicki fakultet, Univerzitet u Beogradu; tekst: [Funkcionalno programiranje - funkcionalna paradigma](http://www.programskijezici.matf.bg.ac.rs/ppR/2020-1/predavanja/funkcionalno_programiranje_tekst.pdf)\n",
    "\n",
    "- **moze posluziti** video: [Programming Across Paradigms • Anjana Vakil • GOTO 2017](https://www.youtube.com/watch?v=Pg3UeB-5FdA&t=1026s)\n",
    "\n",
    "- **moze posluziti** video: [Functional Programming for Pragmatists • Richard Feldman • GOTO 2021](https://www.youtube.com/watch?v=3n17wHe5wEw&t=4s)\n",
    "\n",
    "- **moze posluziti** video: [The Functional Programmer's Toolkit - Scott Wlaschin](https://www.youtube.com/watch?v=Nrp_LZ-XGsY)\n",
    "\n",
    "- **DODATNO:** 1977 ACM Turing Award Lecture; John Backus [Can Programming Be Liberated from the von Neumann Style? A Functional Style and Its Algebra of Programs ](https://dl.acm.org/doi/pdf/10.1145/359576.359579)\n",
    "\n",
    "- **DODATNO** John Hughes The University, Glasgow: [Why Functional Programming Matters ](https://www.cs.utexas.edu/~shmat/courses/cs345/whyfp.pdf)\n",
    "\n",
    "- **DODATNO** Talking About Languages  [haskell - most talked about language](https://www.i-programmer.info/news/98-languages/7684-haskell-most-talked-about-language.html)"
   ]
  },
  {
   "cell_type": "code",
   "execution_count": null,
   "id": "23b0795b",
   "metadata": {},
   "outputs": [],
   "source": []
  }
 ],
 "metadata": {
  "kernelspec": {
   "display_name": "Python 3 (ipykernel)",
   "language": "python",
   "name": "python3"
  },
  "language_info": {
   "codemirror_mode": {
    "name": "ipython",
    "version": 3
   },
   "file_extension": ".py",
   "mimetype": "text/x-python",
   "name": "python",
   "nbconvert_exporter": "python",
   "pygments_lexer": "ipython3",
   "version": "3.10.4"
  }
 },
 "nbformat": 4,
 "nbformat_minor": 5
}
