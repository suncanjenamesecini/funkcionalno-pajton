{
 "cells": [
  {
   "cell_type": "markdown",
   "id": "813b0faf",
   "metadata": {},
   "source": [
    "# Cetvrti dio: Coconut - demonstracija\n",
    "\n",
    "U ovom dijelu cemo razmotriti jezik [Coconut](http://coconut-lang.org/), funkcionalni jezik koji se kompajlira u pajton.\n",
    "Kako je svaki sintaksno ispravan program u pajtonu sintaksno ispravan i u Coconut-u, to je Coconut jezik nadskup pajtona, sa prosirenjima koja omogucavaju ugodnije koriscenje funkcionalnog stila programiranja nego u samom pajtonu.\n",
    "\n",
    "Coconut podrzava kompoziciju funkcija i ulancavanje funkcija (pipelines), poklapanje obrazaca (pattern matching), algebarske strukture podataka (algeabric data types), lenje liste, parcijalnu primjenu funkcija, optimizaciju repne rekurzije...\n",
    "\n",
    "Jasno je da Coconut nije cist funkcionalan jezik([Why isn’t Coconut purely functional?](https://coconut.readthedocs.io/en/latest/FAQ.html#why-isnt-coconut-purely-functional)), posto omogucava programiranje u sintaksno ispravnom pajton-kodu, u imperativnom ili objektno-orjentisanom stilu, pa prema tome, ne primorava programera da pise iskljucivo u funkcionalnom stilu. Ali mu omogucava ugodnije programiranje u funkcionalnom stilu, u odnosu na obican pajton.\n",
    "\n",
    "Pogledajmo spisak osobina jezika, kao i neke primjere u jeziku Coconut preuzete sa tutorijala: [Coconut Tutorial](https://coconut.readthedocs.io/en/latest/HELP.html).\n",
    "\n",
    "Kodove je moguce iskopirati u [Online Interpreter](https://cs121-team-panda.github.io/coconut-interpreter/) i izvrsiti ih ili podesiti da se prikaze ekvivalentan pajton kod. Ova sveska je podesena tako da koristi Coconut Kernel za izvrsavanje koda, tako da je sav kod koji se izvrsava u Coconut-u."
   ]
  },
  {
   "cell_type": "markdown",
   "id": "aff8d945",
   "metadata": {},
   "source": [
    "-   Coconut se kompajlira u Python (ne CPython bajtkod, tako da podrzava druge implementacije pajtona kao sto su: PyPy, Jython, itd)\n",
    "-   Coconut kod je moguce izvrsavati sa bilo kojom od Python verzija, 2 ili 3\n",
    "-   sav validan pajton 3 kod je validan Coconut\n",
    "\n",
    "-   **ipython** / jupyter\n",
    "    [podrska za pajton sveske](http://coconut.readthedocs.io/en/master/DOCS.html#ipython-jupyter-support)\n"
   ]
  },
  {
   "cell_type": "markdown",
   "id": "fa5d78fd",
   "metadata": {},
   "source": [
    "### Osobine jezika:\n",
    "\n",
    "-   [pipelines](https://coconut.readthedocs.io/en/latest/DOCS.html#pipeline)"
   ]
  },
  {
   "cell_type": "code",
   "execution_count": 6,
   "id": "61393d8a",
   "metadata": {},
   "outputs": [
    {
     "name": "stdout",
     "output_type": "stream",
     "text": [
      "9\n"
     ]
    }
   ],
   "source": [
    "def sq(x) = x**2\n",
    "(1, 2) |*> (+) |> sq |> print"
   ]
  },
  {
   "cell_type": "markdown",
   "id": "14ae4617",
   "metadata": {},
   "source": [
    "Za viselinijsko uvezivanje funkcija (pipes), okruziti ih u zagrade (pravilo u pajtonu da svaki novi red u zagradama se ignorise):"
   ]
  },
  {
   "cell_type": "code",
   "execution_count": 7,
   "id": "5efa0a9f",
   "metadata": {},
   "outputs": [
    {
     "name": "stdout",
     "output_type": "stream",
     "text": [
      "hello\n"
     ]
    }
   ],
   "source": [
    "(\n",
    "    \"hello\"\n",
    "    |> print\n",
    ")"
   ]
  },
  {
   "cell_type": "code",
   "execution_count": 1,
   "id": "ea7f09cb",
   "metadata": {},
   "outputs": [
    {
     "name": "stdout",
     "output_type": "stream",
     "text": [
      "Hello World!\n"
     ]
    }
   ],
   "source": [
    "\"Hello World!\" |> print"
   ]
  },
  {
   "cell_type": "markdown",
   "id": "f42f8831",
   "metadata": {},
   "source": [
    "-   [poklapanje obrazaca](https://coconut.readthedocs.io/en/latest/DOCS.html#match) (pattern matching - `match x in value:`), cuvari ([guards](https://www.educative.io/answers/what-are-haskell-guards))"
   ]
  },
  {
   "cell_type": "code",
   "execution_count": 21,
   "id": "7ca76332",
   "metadata": {},
   "outputs": [
    {
     "name": "stdout",
     "output_type": "stream",
     "text": [
      "point(x=4, y=6)\n",
      "True\n"
     ]
    }
   ],
   "source": [
    "data point(x, y):\n",
    "    def transform(self, other):\n",
    "        match point(x, y) in other:\n",
    "            return point(self.x + x, self.y + y)\n",
    "        else:\n",
    "            raise TypeError(\"arg to transform must be a point\")\n",
    "\n",
    "point(1,2) |> point(3,4).transform |> print\n",
    "point(1,2) |> (==)$(point(1,2)) |> print"
   ]
  },
  {
   "cell_type": "markdown",
   "id": "92ceec3a",
   "metadata": {},
   "source": [
    "-   [algebarski tipovi podataka](https://coconut.readthedocs.io/en/latest/DOCS.html#data) ([algeabric data types](https://serokell.io/blog/algebraic-data-types-in-haskell))"
   ]
  },
  {
   "cell_type": "code",
   "execution_count": 20,
   "id": "3e7f9233",
   "metadata": {},
   "outputs": [
    {
     "name": "stdout",
     "output_type": "stream",
     "text": [
      "0\n",
      "1\n",
      "3\n"
     ]
    }
   ],
   "source": [
    "class Tree\n",
    "data Empty() from Tree\n",
    "data Leaf(n) from Tree\n",
    "data Node(l, r) from Tree\n",
    "\n",
    "def depth(Tree()) = 0\n",
    "\n",
    "@addpattern(depth)\n",
    "def depth(Tree(n)) = 1\n",
    "\n",
    "@addpattern(depth)\n",
    "def depth(Tree(l, r)) = 1 + max([depth(l), depth(r)])\n",
    "\n",
    "Empty() |> depth |> print\n",
    "Leaf(5) |> depth |> print\n",
    "Node(Leaf(2), Node(Empty(), Leaf(3))) |> depth |> print"
   ]
  },
  {
   "cell_type": "markdown",
   "id": "891067ee",
   "metadata": {},
   "source": [
    "-   parcijalna aplikacija funkcija ([partial application](https://coconut.readthedocs.io/en/latest/DOCS.html#partial-application) - `$` znak odmah poslije imena funkcije)"
   ]
  },
  {
   "cell_type": "code",
   "execution_count": 9,
   "id": "092e9dcb",
   "metadata": {},
   "outputs": [
    {
     "name": "stdout",
     "output_type": "stream",
     "text": [
      "[0, 1, 4, 9, 16]\n"
     ]
    }
   ],
   "source": [
    "expnums = range(5) |> map$(pow$(?, 2))\n",
    "expnums |> list |> print"
   ]
  },
  {
   "cell_type": "markdown",
   "id": "eb965e14",
   "metadata": {},
   "source": [
    "-   lenje liste (okruziti listu u kojoj su elementi razdvojeni zarezom sa `(|` i `|)`)\n",
    "-   destrukturisana dodjela\n",
    "-   [kompozicija funkcija](https://coconut.readthedocs.io/en/latest/DOCS.html#compose) (postize se koristeci `..`)"
   ]
  },
  {
   "cell_type": "code",
   "execution_count": null,
   "id": "914d529e",
   "metadata": {},
   "outputs": [],
   "source": [
    "fog = f..g"
   ]
  },
  {
   "cell_type": "markdown",
   "id": "2cda4b41",
   "metadata": {},
   "source": [
    "-   [ljepse lambde nego u pajtonu](https://coconut.readthedocs.io/en/latest/DOCS.html#lambdas) (`->` sintaksa)"
   ]
  },
  {
   "cell_type": "code",
   "execution_count": 11,
   "id": "b06d2767",
   "metadata": {},
   "outputs": [
    {
     "name": "stdout",
     "output_type": "stream",
     "text": [
      "[20, 24, 28, 32, 36, 40, 44, 48, 52, 56]\n"
     ]
    }
   ],
   "source": [
    "dubsums = map((x, y) -> 2*(x+y), range(0, 10), range(10, 20))\n",
    "dubsums |> list |> print"
   ]
  },
  {
   "cell_type": "markdown",
   "id": "02fd09f7",
   "metadata": {},
   "source": [
    "-   paralelno programiranje\n",
    "-   optimizacija repne rekurzije\n",
    "-   infiksna notacija (kao u Haskell-u koristeci specijalne navodnike - backticks)\n",
    "-   grupisanje cifara u brojevima pomocu donje crte (`10_000_000`)\n",
    "-   dekoratori podrzavaju vise izraza:\n",
    "```\n",
    "@ wrapper1 .. wrapper2 $(arg)\n",
    "```\n",
    "-   provjera koda u kompajleru\n",
    "-   ...\n",
    "\n",
    "### Instalacija:\n",
    "\n",
    "        pip install coconut\n",
    "\n",
    "Izvor za prethodni spisak i jos funkcionalnih jezika koji se prevode u pajton: [Languages that compile to python](https://github.com/vindarel/languages-that-compile-to-python)\n",
    "\n",
    "Prema prethodnim osobinama i sintaksi, vidi se da je jezik inspirisan cistim funkcionalnim jezikom Haskell.\n",
    "\n",
    "Primjer funkcije faktorijal na razne nacine u Coconut-u na cetiri nacina:\n",
    "\n",
    "### [Imperativni metod](https://coconut.readthedocs.io/en/latest/HELP.html#imperative-method)\n",
    "\n",
    "Ovdje koristimo imperativni metod, tako da se kod ne razlikuje skoro uopste od imperativnog koda za ovu funkciju u pajtonu.\n",
    "Primjecujemo razliku u infiksnoj notaciji primjene funkcije: *n `isinstance` int*."
   ]
  },
  {
   "cell_type": "code",
   "execution_count": 3,
   "id": "00d7318c",
   "metadata": {},
   "outputs": [
    {
     "name": "stdout",
     "output_type": "stream",
     "text": [
      "1\n",
      "6\n"
     ]
    }
   ],
   "source": [
    "def factorial(n):\n",
    "    \"\"\"Compute n! where n is an integer >= 0.\"\"\"\n",
    "    if n `isinstance` int and n >= 0:\n",
    "        acc = 1\n",
    "        for x in range(1, n+1):\n",
    "            acc *= x\n",
    "        return acc\n",
    "    else:\n",
    "        raise TypeError(\"the argument to factorial must be an integer >= 0\")\n",
    "\n",
    "# Test cases:\n",
    "#-1 |> factorial |> print  # TypeError\n",
    "#0.5 |> factorial |> print  # TypeError\n",
    "0 |> factorial |> print  # 1\n",
    "3 |> factorial |> print  # 6"
   ]
  },
  {
   "cell_type": "markdown",
   "id": "7828068f",
   "metadata": {},
   "source": [
    "### [Rekurzivni metod](https://coconut.readthedocs.io/en/latest/HELP.html#recursive-method)\n",
    "\n",
    "Ovo je vec \"funkcionalniji\" pristup, posto se izbjegavaju petlje i cuvanje stanja. Imamo [poklapanje obrazaca](https://coconut.readthedocs.io/en/latest/DOCS.html#case) pomocu kljucnih rijeci `case` i `match`.\n",
    "\n",
    "Ovaj pristup se razlikuje u odnosu na `switch` i `case` blokove u jezicima kao sto su C i Java, zato sto se vrsi ne samo provjera obrasca, vec i dodjela."
   ]
  },
  {
   "cell_type": "code",
   "execution_count": 12,
   "id": "ced57b22",
   "metadata": {},
   "outputs": [
    {
     "name": "stdout",
     "output_type": "stream",
     "text": [
      "1\n",
      "6\n"
     ]
    }
   ],
   "source": [
    "def factorial(n):\n",
    "    \"\"\"Compute n! where n is an integer >= 0.\"\"\"\n",
    "    case n:\n",
    "        match 0:\n",
    "            return 1\n",
    "        match x is int if x > 0:\n",
    "            return x * factorial(x-1)\n",
    "    else:\n",
    "        raise TypeError(\"the argument to factorial must be an integer >= 0\")\n",
    "\n",
    "# Test cases:\n",
    "#-1 |> factorial |> print  # TypeError\n",
    "#0.5 |> factorial |> print  # TypeError\n",
    "0 |> factorial |> print  # 1\n",
    "3 |> factorial |> print  # 6"
   ]
  },
  {
   "cell_type": "markdown",
   "id": "f0a740f2",
   "metadata": {},
   "source": [
    "Ovo svojstvo dodjele u `match` blokovima u prethodnom kodu se vidi kad se prethodni kod pretvori u ekvivalentan kod koji predstavlja destrukturisucu dodjelu:"
   ]
  },
  {
   "cell_type": "code",
   "execution_count": 14,
   "id": "c2fd9e3a",
   "metadata": {},
   "outputs": [
    {
     "name": "stdout",
     "output_type": "stream",
     "text": [
      "1\n",
      "6\n"
     ]
    }
   ],
   "source": [
    "def factorial(n):\n",
    "    \"\"\"Compute n! where n is an integer >= 0.\"\"\"\n",
    "    try:\n",
    "        # The only value that can be assigned to 0 is 0, since 0 is an\n",
    "        # immutable constant; thus, this assignment fails if n is not 0.\n",
    "        0 = n\n",
    "    except MatchError:\n",
    "        pass\n",
    "    else:\n",
    "        return 1\n",
    "    try:\n",
    "        # This attempts to assign n to x, which has been declared to be\n",
    "        # an int; since only an int can be assigned to an int, this\n",
    "        # fails if n is not an int.\n",
    "        x is int = n\n",
    "    except MatchError:\n",
    "        pass\n",
    "    else: if x > 0:  # in Coconut, statements can be nested on the same line\n",
    "        return x * factorial(x-1)\n",
    "    raise TypeError(\"the argument to factorial must be an integer >= 0\")\n",
    "\n",
    "# Test cases:\n",
    "#-1 |> factorial |> print  # TypeError\n",
    "#0.5 |> factorial |> print  # TypeError\n",
    "0 |> factorial |> print  # 1\n",
    "3 |> factorial |> print  # 6"
   ]
  },
  {
   "cell_type": "markdown",
   "id": "c6b93d71",
   "metadata": {},
   "source": [
    "Posto nam varijabla x nije potrebna, zamijenimo je dzokerom (wildcard) koji se u sintaksi Coconut-a predstavlja sa _:"
   ]
  },
  {
   "cell_type": "code",
   "execution_count": 15,
   "id": "27f0340f",
   "metadata": {},
   "outputs": [
    {
     "name": "stdout",
     "output_type": "stream",
     "text": [
      "1\n",
      "6\n"
     ]
    }
   ],
   "source": [
    "def factorial(n):\n",
    "    \"\"\"Compute n! where n is an integer >= 0.\"\"\"\n",
    "    case n:\n",
    "        match 0:\n",
    "            return 1\n",
    "        match _ is int if n > 0:\n",
    "            return n * factorial(n-1)\n",
    "    else:\n",
    "        raise TypeError(\"the argument to factorial must be an integer >= 0\")\n",
    "\n",
    "# Test cases:\n",
    "#-1 |> factorial |> print  # TypeError\n",
    "#0.5 |> factorial |> print  # TypeError\n",
    "0 |> factorial |> print  # 1\n",
    "3 |> factorial |> print  # 6"
   ]
  },
  {
   "cell_type": "markdown",
   "id": "d2a686e7",
   "metadata": {},
   "source": [
    "Jos jedna moguca optimizacija je da se koristi repna rekurzija, tj. prethodna rekurzivna funkcija da se zapise tako da koristi repnu rekurziju, posto Coconut vrsi automatsku optimizaciju repne rekurzije. \n",
    "Posljedica ovog je da sljedeci zapis funkcije nikad nece baciti RuntimeError zbog postizanja maksimalne dubine rekurzije u pajtonu, koja je cesta pojava pri koriscenju rekurzivnog zapisa funkcija.\n"
   ]
  },
  {
   "cell_type": "code",
   "execution_count": 16,
   "id": "0422fd27",
   "metadata": {},
   "outputs": [
    {
     "name": "stdout",
     "output_type": "stream",
     "text": [
      "1\n",
      "6\n"
     ]
    }
   ],
   "source": [
    "def factorial(n, acc=1):\n",
    "    \"\"\"Compute n! where n is an integer >= 0.\"\"\"\n",
    "    case n:\n",
    "        match 0:\n",
    "            return acc\n",
    "        match _ is int if n > 0:\n",
    "            return factorial(n-1, acc*n)\n",
    "    else:\n",
    "        raise TypeError(\"the argument to factorial must be an integer >= 0\")\n",
    "\n",
    "# Test cases:\n",
    "#-1 |> factorial |> print  # TypeError\n",
    "#0.5 |> factorial |> print  # TypeError\n",
    "0 |> factorial |> print  # 1\n",
    "3 |> factorial |> print  # 6"
   ]
  },
  {
   "cell_type": "markdown",
   "id": "a228cd78",
   "metadata": {},
   "source": [
    "### [Iterativni metod](https://coconut.readthedocs.io/en/latest/HELP.html#iterative-method)\n",
    "\n",
    "Ovo je drugi metod koji znacajno koristi funkcionalni stil. Ovdje se petlje i cuvanje stanja izbjegavaju koriscenjem funkcija viseg reda kao sto su `map` i `reduce` (one u svojoj definiciji skrivaju rekurziju).\n",
    "\n",
    "Jedina linija koda koja se razlikuje u odnosu na prethodni je: `range(1, n+1) |> reduce$(*)` , tu vidimo parcijalnu primjenu funkcije `reduce` kojoj se proslijedi prvi argument, operator mnozenja, a drugi argument, koji je iterator, se proslijedjuje koristeci *pipe* operator.\n",
    "\n",
    "U Coconut lambda sintaksi, `(*)` je ekvivalentno sa `(x, y) -> x*y`.\n",
    "Prema tome, `reduce$(*)` je priblizno ekvivalentno sa `(*args, **kwargs) -> reduce((*), *args, **kwargs)`."
   ]
  },
  {
   "cell_type": "code",
   "execution_count": 17,
   "id": "616466d1",
   "metadata": {},
   "outputs": [
    {
     "name": "stdout",
     "output_type": "stream",
     "text": [
      "1\n",
      "6\n"
     ]
    }
   ],
   "source": [
    "def factorial(n):\n",
    "    \"\"\"Compute n! where n is an integer >= 0.\"\"\"\n",
    "    case n:\n",
    "        match 0:\n",
    "            return 1\n",
    "        match _ is int if n > 0:\n",
    "            return range(1, n+1) |> reduce$(*)\n",
    "    else:\n",
    "        raise TypeError(\"the argument to factorial must be an integer >= 0\")\n",
    "\n",
    "# Test cases:\n",
    "#-1 |> factorial |> print  # TypeError\n",
    "#0.5 |> factorial |> print  # TypeError\n",
    "0 |> factorial |> print  # 1\n",
    "3 |> factorial |> print  # 6"
   ]
  },
  {
   "cell_type": "markdown",
   "id": "893b06bb",
   "metadata": {},
   "source": [
    "### [addpattern Method](https://coconut.readthedocs.io/en/latest/HELP.html#addpattern-method)\n",
    "\n",
    "U ovom pristupu vidimo nekoliko novina. Jedna je definisanje funkcija koriscenjem dodjele, tj. koriscenjem `=` umjesto `:`. Ovako se zahtjeva da je posljednja linija izraz, koji se automatski vraca, pa se ne koristi `return` kljucna rijec.\n",
    "\n",
    "Dalje imamo poklapanje obrazaca za definiciju funkcije i `addpattern` kljucnu rijec koja dodaje jos jedan moguci slucaj na prethodni obrazac neke funkcije."
   ]
  },
  {
   "cell_type": "code",
   "execution_count": 18,
   "id": "cd15ea2c",
   "metadata": {},
   "outputs": [
    {
     "name": "stdout",
     "output_type": "stream",
     "text": [
      "1\n",
      "6\n"
     ]
    }
   ],
   "source": [
    "def factorial(0) = 1\n",
    "\n",
    "addpattern def factorial(n is int if n > 0) =\n",
    "    \"\"\"Compute n! where n is an integer >= 0.\"\"\"\n",
    "    range(1, n+1) |> reduce$(*)\n",
    "\n",
    "# Test cases:\n",
    "#-1 |> factorial |> print  # MatchError\n",
    "#0.5 |> factorial |> print  # MatchError\n",
    "0 |> factorial |> print  # 1\n",
    "3 |> factorial |> print  # 6"
   ]
  },
  {
   "cell_type": "markdown",
   "id": "c9be9c2a",
   "metadata": {},
   "source": [
    "Kako smo u gornjem primjeru koristili iterativni pristup sa `addpattern` poklapanjem obrazaca, to mozemo iskoristiti i uz rekurzivni pristup:"
   ]
  },
  {
   "cell_type": "code",
   "execution_count": 19,
   "id": "540bf61b",
   "metadata": {},
   "outputs": [
    {
     "name": "stdout",
     "output_type": "stream",
     "text": [
      "1\n",
      "6\n"
     ]
    }
   ],
   "source": [
    "def factorial(0) = 1\n",
    "\n",
    "addpattern def factorial(n is int if n > 0) =\n",
    "    \"\"\"Compute n! where n is an integer >= 0.\"\"\"\n",
    "    n * factorial(n - 1)\n",
    "\n",
    "# Test cases:\n",
    "#-1 |> factorial |> print  # MatchError\n",
    "#0.5 |> factorial |> print  # MatchError\n",
    "0 |> factorial |> print  # 1\n",
    "3 |> factorial |> print  # 6"
   ]
  },
  {
   "cell_type": "markdown",
   "id": "06172f85",
   "metadata": {},
   "source": [
    "Ova posljednja dva primjera detaljno pokazjuju kako je kod koncizniji kad se koriste funkcionalni stil programiranja i kako Coconut podrzava osnovne ideje zastupljene u funkcionalnim jezicima kao sto su Haskell."
   ]
  },
  {
   "cell_type": "markdown",
   "id": "c5347ffb",
   "metadata": {},
   "source": [
    "Dodatak za kompilatore:\n",
    "\n",
    "Debugging plagued many of the languages that transpiled to JavaScript until sourcemaps came along to relate the transpiled code back to its source. Coconut provides something similar: If you pass a command-line switch to the Coconut compiler, it decorates every line of emitted Python code with a comment that refers back to the appropriate line in the Coconut source code."
   ]
  },
  {
   "cell_type": "code",
   "execution_count": null,
   "id": "80ed6b95",
   "metadata": {},
   "outputs": [],
   "source": []
  }
 ],
 "metadata": {
  "kernelspec": {
   "display_name": "Coconut",
   "language": "coconut",
   "name": "coconut"
  },
  "language_info": {
   "codemirror_mode": {
    "name": "python",
    "version": 3
   },
   "file_extension": ".coco",
   "mimetype": "text/x-python3",
   "name": "coconut",
   "pygments_lexer": "coconut",
   "version": "1.6.0"
  }
 },
 "nbformat": 4,
 "nbformat_minor": 5
}
