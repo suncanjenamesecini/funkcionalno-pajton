{
 "cells": [
  {
   "cell_type": "markdown",
   "id": "2e81f151",
   "metadata": {},
   "source": [
    "# Funkcionalno programiranje - uvod\n",
    "\n",
    "- Programske paradigme\n",
    "- Semantika programskih jezika\n",
    "- Lambda racun kao semantika funkcionalnih programskih jezika - uopsteno\n",
    "- Osobine funkcionalnih jezika uopsteno i one koje poseduje pajton\n",
    "- Kao OO jezik prvenstveno, Pajton nema neke glavne osobine funkcionalnih jezika koje npr. ima Haskel kao predstavnih cistih funkcionalnih jezika, zato cemo razmotriti Coconut jezik u nekoliko primjera"
   ]
  },
  {
   "cell_type": "markdown",
   "id": "0b977779",
   "metadata": {},
   "source": [
    "# Lambda racun od pocetka + kombinatori u pajtonu"
   ]
  },
  {
   "cell_type": "markdown",
   "id": "d29122e3",
   "metadata": {},
   "source": [
    "S obzirom da se bavimo funkcionalnim programiranjem i njegovim matematickim osnovama, razmotrimo primjer jedne od najjednostavnijih funkcija, **funkcije identiteta**.\n",
    "\n",
    "Njen zapis u Pajtonu je:"
   ]
  },
  {
   "cell_type": "code",
   "execution_count": 6,
   "id": "6e0aad2f",
   "metadata": {},
   "outputs": [],
   "source": [
    "I = lambda a: a\n",
    "#def I(a):\n",
    "#    return a"
   ]
  },
  {
   "cell_type": "code",
   "execution_count": 3,
   "id": "0c99909d",
   "metadata": {},
   "outputs": [
    {
     "data": {
      "text/plain": [
       "1"
      ]
     },
     "execution_count": 3,
     "metadata": {},
     "output_type": "execute_result"
    }
   ],
   "source": [
    "I(1)"
   ]
  },
  {
   "cell_type": "code",
   "execution_count": 4,
   "id": "c44f3852",
   "metadata": {},
   "outputs": [
    {
     "data": {
      "text/plain": [
       "2"
      ]
     },
     "execution_count": 4,
     "metadata": {},
     "output_type": "execute_result"
    }
   ],
   "source": [
    "I(2)"
   ]
  },
  {
   "cell_type": "markdown",
   "id": "554dc5e6",
   "metadata": {},
   "source": [
    "Njen standardni matematicki zapis je: $ I(a) = a$\n",
    "\n",
    "Zapis ove funkcije u lambda racunu je: $\\lambda a.a$"
   ]
  },
  {
   "cell_type": "markdown",
   "id": "0ef7491d",
   "metadata": {},
   "source": [
    "**Pr.1.**\n",
    "\n",
    "**Lambda racun**\n",
    "\n",
    "$ I x = x$\n",
    "\n",
    "\n",
    "**Pajton**\n",
    "\n",
    "```python\n",
    "I(x) == x\n",
    "```\n",
    "**Pr.2.**\n",
    "\n",
    "**Lambda racun**\n",
    "\n",
    "$ I I = I$\n",
    "\n",
    "\n",
    "**Pajton**\n",
    "\n",
    "```python\n",
    "I(I) == I\n",
    "```"
   ]
  },
  {
   "cell_type": "markdown",
   "id": "5b4469f2",
   "metadata": {},
   "source": [
    "![Alt text](./images/sl1.png)"
   ]
  },
  {
   "cell_type": "markdown",
   "id": "2d1cdb53",
   "metadata": {},
   "source": [
    "U cistim funkcionalnim jezicima, kao Haskell na primjer, imamo ugradjenu funkciju *id* koja predstavlja identitet:"
   ]
  },
  {
   "cell_type": "markdown",
   "id": "efdf45dc",
   "metadata": {},
   "source": [
    "![Alt text](./images/sl2.png)"
   ]
  },
  {
   "cell_type": "markdown",
   "id": "3607d72a",
   "metadata": {},
   "source": [
    "Obratimo sad paznju na zapis funkcije u lambda racunu.\n",
    "On se sastoji od parametara kojem prethodi oznaka $\\lambda$, nakon kojih slijedi tacka, pa funkcijski izraz:"
   ]
  },
  {
   "cell_type": "markdown",
   "id": "53d83d10",
   "metadata": {},
   "source": [
    "![Alt text](./images/def_lambda.png)"
   ]
  },
  {
   "cell_type": "markdown",
   "id": "54a442fb",
   "metadata": {},
   "source": [
    "Lambda izraz se definise rekurzivno,  tako da lambda izraz moze biti varijabla, aplikacija jednog lambda izraza na drugi i apstrakcija lambda izraza, uz upotrebu zagrada.\n",
    "\n",
    "Primjeri:"
   ]
  },
  {
   "cell_type": "markdown",
   "id": "fc916afb",
   "metadata": {},
   "source": [
    "### **Varijable**\n",
    "\n",
    "\n",
    "**Lambda racun**\n",
    "\n",
    "1. $ x$\n",
    "\n",
    "2. $ (a)$\n",
    "\n",
    "\n",
    "**Pajton**\n",
    "\n",
    "```python\n",
    "1. x \n",
    "\n",
    "2. (a)\n",
    "```\n"
   ]
  },
  {
   "cell_type": "markdown",
   "id": "238c0d48",
   "metadata": {},
   "source": [
    "### **Aplikacija**\n",
    "\n",
    "\n",
    "**Lambda racun**\n",
    "\n",
    "1. $ f a$\n",
    "\n",
    "2. $ f a b$\n",
    "\n",
    "3. $ (f a) b$\n",
    "\n",
    "4. $ f (a b)$\n",
    "\n",
    "\n",
    "**Pajton**\n",
    "\n",
    "```python\n",
    "1. f(a)\n",
    "\n",
    "2. f(a)(b)\n",
    "\n",
    "3. (f(a))(b) \n",
    "\n",
    "4. f(a(b))\n",
    "```\n"
   ]
  },
  {
   "cell_type": "markdown",
   "id": "7d776599",
   "metadata": {},
   "source": [
    "Obratimo paznju da ovdje funkciji proslijedjujemo jedan po jedan argument, sto se naziva *Cyrrying*, po poznatom naucniku *Haskell-u Curry-ju*:"
   ]
  },
  {
   "cell_type": "code",
   "execution_count": 5,
   "id": "9013597a",
   "metadata": {},
   "outputs": [],
   "source": [
    "#Currying\n",
    "def add(x):\n",
    "    def f(y):\n",
    "        return x+y\n",
    "    return f\n",
    "\n",
    "\n",
    "#Nije isto kao:\n",
    "#def add(x,y):\n",
    "#    return x+y  "
   ]
  },
  {
   "cell_type": "code",
   "execution_count": 6,
   "id": "5c2912cb",
   "metadata": {},
   "outputs": [
    {
     "data": {
      "text/plain": [
       "5"
      ]
     },
     "execution_count": 6,
     "metadata": {},
     "output_type": "execute_result"
    }
   ],
   "source": [
    "add(2)(3)"
   ]
  },
  {
   "cell_type": "markdown",
   "id": "f7483d8f",
   "metadata": {},
   "source": [
    "To nam omogucava parcijalnu primjenu funkcija, sto znaci da je funkciji proslijedjeno manje argumenata nego sto ona zahtijeva. Povratna vrijednost je funkcija:"
   ]
  },
  {
   "cell_type": "code",
   "execution_count": 9,
   "id": "7bb7d2e1",
   "metadata": {},
   "outputs": [
    {
     "data": {
      "text/plain": [
       "<function __main__.add.<locals>.f(y)>"
      ]
     },
     "execution_count": 9,
     "metadata": {},
     "output_type": "execute_result"
    }
   ],
   "source": [
    "add(2)"
   ]
  },
  {
   "cell_type": "markdown",
   "id": "2d8328f2",
   "metadata": {},
   "source": [
    "### **Abstrakcija**\n",
    "\n",
    "\n",
    "**Lambda racun**\n",
    "\n",
    "1. $\\lambda a.b$\n",
    "\n",
    "2. $\\lambda a.b x$\n",
    "\n",
    "3. $\\lambda a.(b x)$\n",
    "\n",
    "4. $(\\lambda a.b) x$\n",
    "\n",
    "5. $\\lambda a.\\lambda b.a$\n",
    "\n",
    "6. $\\lambda a.(\\lambda b.a)$\n",
    "\n",
    "\n",
    "**Pajton**\n",
    "\n",
    "```python\n",
    "1. lambda a: b\n",
    "\n",
    "2. lambda a: b(x)\n",
    "\n",
    "3. lambda a: (b(x))\n",
    "\n",
    "4. (lambda a: b)(x)\n",
    "\n",
    "5. lambda a: (lambda b: a)\n",
    "\n",
    "6. lambda a: (lambda b: a)\n",
    "```\n"
   ]
  },
  {
   "cell_type": "markdown",
   "id": "479da5b6",
   "metadata": {},
   "source": [
    "Ova definicija uz pravila izvodjenja (redukcije) su dovoljna za zasnivanje citavog sistema lambda racuna, za koji ce se ispostaviti da ima veliku ekspresivnost. Jedno od pravila izvodjenja je $\\beta-redukcija$ (beta redukcija), koja podrazumijeva zamjenu odgovarajucih promjenljivih u tijelu lambda izraza koji se primjenjuje, lamda izrazom na koji se vrsi aplikacija. Ilustrovacemo sljedecim primjerima:"
   ]
  },
  {
   "cell_type": "markdown",
   "id": "b633d539",
   "metadata": {},
   "source": [
    "![Alt text](./images/beta_redukcija1.png)"
   ]
  },
  {
   "cell_type": "markdown",
   "id": "7c592f38",
   "metadata": {},
   "source": [
    "![Alt text](./images/beta_redukcija2.png)"
   ]
  },
  {
   "cell_type": "markdown",
   "id": "109bfb3f",
   "metadata": {},
   "source": [
    "![Alt text](./images/beta_redukcija3.png)"
   ]
  },
  {
   "cell_type": "markdown",
   "id": "f9d4b166",
   "metadata": {},
   "source": [
    "![Alt text](./images/beta_redukcija4.png)"
   ]
  },
  {
   "cell_type": "markdown",
   "id": "f59f5945",
   "metadata": {},
   "source": [
    "![Alt text](./images/beta_redukcija5.png)"
   ]
  },
  {
   "cell_type": "markdown",
   "id": "e5613b6b",
   "metadata": {},
   "source": [
    "![Alt text](./images/beta_redukcija6.png)"
   ]
  },
  {
   "cell_type": "markdown",
   "id": "80cead82",
   "metadata": {},
   "source": [
    "Sljedeca interesantna funkcija u lambda zapisu je **samoaplikacija**: $\\lambda f.ff$"
   ]
  },
  {
   "cell_type": "markdown",
   "id": "4ae31152",
   "metadata": {},
   "source": [
    "![Alt text](./images/sl3.png)"
   ]
  },
  {
   "cell_type": "markdown",
   "id": "15abb0ba",
   "metadata": {},
   "source": [
    "Njen zapis u pajtonu je:"
   ]
  },
  {
   "cell_type": "code",
   "execution_count": 4,
   "id": "b7d3cac3",
   "metadata": {},
   "outputs": [],
   "source": [
    "M = lambda x: x(x)"
   ]
  },
  {
   "cell_type": "code",
   "execution_count": 11,
   "id": "bb84c9af",
   "metadata": {},
   "outputs": [
    {
     "data": {
      "text/plain": [
       "<function __main__.I(a)>"
      ]
     },
     "execution_count": 11,
     "metadata": {},
     "output_type": "execute_result"
    }
   ],
   "source": [
    "M(I)"
   ]
  },
  {
   "cell_type": "code",
   "execution_count": null,
   "id": "cacdaa98",
   "metadata": {},
   "outputs": [],
   "source": [
    "#Ne valja, kako da se ne ubije kernel, vec da se baci Exception? da se stavi tajmer?\n",
    "#Stack overflow\n",
    "try:\n",
    "    M(M)\n",
    "    raise Exception('hey')\n",
    "except err:\n",
    "    print(f'greska {err}')"
   ]
  },
  {
   "cell_type": "markdown",
   "id": "ff2a7be7",
   "metadata": {},
   "source": [
    "**Pr.1.**\n",
    "\n",
    "**Lambda racun**\n",
    "\n",
    "$ M I = I I = I$\n",
    "\n",
    "\n",
    "**Pajton**\n",
    "\n",
    "```python\n",
    "M(I) == I(I)  && I(I) == I\n",
    "```\n",
    "**Pr.2.**\n",
    "\n",
    "**Lambda racun**\n",
    "\n",
    "$ M M = M M = M M = M M = ... = \\Omega$\n",
    "\n",
    "Zato se nekad M funkcija oznacava i slovom $\\omega$:\n",
    "\n",
    " $\\omega  \\omega = \\omega  \\omega = \\omega  \\omega = \\omega  \\omega = ... = \\Omega$\n",
    "\n",
    "\n",
    "**Pajton**\n",
    "\n",
    "```python\n",
    "M(M) == M(M) == M(M) == M(M) == M(M) == M(M) == M(M) == M(M) == M(M) == M(M) == M(M)...\n",
    "#stack overflow\n",
    "```"
   ]
  },
  {
   "cell_type": "markdown",
   "id": "f8dc2f39",
   "metadata": {},
   "source": [
    "Vidimo da ovaj izraz nema $\\beta-normalnu formu$, posto se uvijek moze izvrsiti $\\beta-redukcija$. Pitanje da li se neki lambda izraz moze *izracunati* do kraja, tj. svesti na najmanju formu koja ne moze dalje da se redukuje nema odgovor generalno, vec samo za svaki izraz posebno. \n",
    "\n",
    "Posto je lambda racun osnova funkcionalnih jezika, nepostojanje $\\beta-normalne forme$ je ekvivalent ulasku u beskonacnu petlju. Kako je ovo ozbiljan problem za koji se ne zna rjesenje unaprijed za proizvoljni izraz, pribjegava se **lijenom izracunavanju** izraza. To znaci da se odredjeni izraz izracunava tek kad je potreban. Zapravo, ova ideja i potice iz funkcionalnih jezika.\n",
    "\n",
    "Takodje se namece pitanje da li se u izrazima kod kojih se moze izvrsiti $\\beta-redukcija$ na vise nacina na kraju dolazi do iste normalne forme, i da li se moze desiti da, iako postoji $\\beta-normalna forma$ za dati izraz, mi zbog izbora primjena $\\beta-redukcija$ do nje nikad ne dodjemo. \n",
    "\n",
    "Razmotrimo primjer:\n",
    " $(\\lambda a.b)((\\lambda x.x x) \\lambda x.x x)$\n",
    " \n",
    "Njega mozemo da redukujemo tako da prvo *izracunamo* unutrasnje izraze:\n",
    " \n",
    "\\begin{eqnarray*}\n",
    "    && (\\lambda a.b)((\\lambda x.x x) \\lambda x.x x) \\\\\n",
    "    & \\to_\\beta & (\\lambda a.b)((x x)[x := \\lambda x.x x]) \\\\\n",
    "    & \\equiv & (\\lambda a.b)((\\lambda x.x x)(\\lambda x.x x)) \\\\\n",
    "    & \\to_\\beta & (\\lambda a.b)((x x)[x := \\lambda x.x x]) \\\\\n",
    "    & \\equiv & (\\lambda a.b)((\\lambda x.x x)(\\lambda x.x x)) \\\\\n",
    "    & \\to_\\beta & (\\lambda a.b)((x x)[x := \\lambda x.x x]) \\\\\n",
    "    & \\equiv & (\\lambda a.b)((\\lambda x.x x)(\\lambda x.x x)) \\\\\n",
    "    & \\equiv & ...\n",
    "\\end{eqnarray*}\n",
    "\n",
    "Vidimo da se ovako nikad ne dobija $\\beta-normalna forma$. Pokusajmo sad na drugi nacin, tako da redukujemo najljevlji vanjski izraz, bez obzira da li su unutrasnji izrazi redukovani:\n",
    " \n",
    "\\begin{eqnarray*}\n",
    "    && (\\lambda a.b)((\\lambda x.x x) \\lambda x.x x) \\\\\n",
    "    & \\to_\\beta & b[a := ((\\lambda x.x x) \\lambda x.x x)] \\\\\n",
    "    & \\equiv & b\n",
    "\\end{eqnarray*}\n",
    "\n",
    "Dobili smo normalnu formu. Na ovom primjeru vidimo da nije svejedno kako se redukuje izraz. Vazi da nam primjena redukcija na prethodni nacin obezbjedjuje pronalazenje $\\beta-normalne forme$ ako ona uopste postoji. Takodje je ovo osnova za *lijeno izracunavanje*.\n",
    "\n",
    "\n",
    "Kad postoji vise uzastopnih lambda apstrakcija, moze se skratiti zapis, tako sto se sve osim jedne $\\lambda$ oznake izostave. Primjer:  $\\lambda x.\\lambda y.\\lambda z.x = \\lambda xyz.x$\n",
    "\n",
    "Treba imati na umu da je ovo idalje uzimanje jednog po jednog argumenta, tj zapis je ekvivalentan pajton izrazu:\n",
    "```python\n",
    "lambda x: (lambda y: (lambda z: x ))\n",
    "```\n",
    "\n",
    "A nije izrazu:\n",
    "```python\n",
    "lambda x,y,z: x \n",
    "```\n",
    "\n",
    "Prethodno navedena $\\beta-redukcija$ se prema tome moze zapisati ovako:"
   ]
  },
  {
   "cell_type": "markdown",
   "id": "7255c691",
   "metadata": {},
   "source": [
    "![Alt text](./images/beta_redukcija_kraci_zapis.png)"
   ]
  },
  {
   "cell_type": "markdown",
   "id": "c1b2a0b2",
   "metadata": {},
   "source": [
    "**Drugi primjer:**\n",
    "\n",
    "\n",
    "\\begin{eqnarray*}\n",
    "    && (\\lambda xyz.xyz)(\\lambda x.xx)(\\lambda x.x)x \\\\\n",
    "    & \\to_\\beta & (\\lambda yz.xyz)[x := \\lambda x.xx](\\lambda x.x)x \\\\\n",
    "    & \\equiv & (\\lambda yz.(\\lambda x.xx)yz)(\\lambda x.x)x \\\\\n",
    "    & \\to_\\beta & (\\lambda yz.(xx)[ x := y]z)(\\lambda x.x)x \\\\\n",
    "    & \\equiv & (\\lambda yz.yyz)(\\lambda x.x)x \\\\\n",
    "    & \\to_\\beta & (\\lambda z.yy)[ y := \\lambda x.x ]x \\\\\n",
    "    & \\equiv & (\\lambda z.(\\lambda x.x)(\\lambda x.x)z)x \\\\\n",
    "    & \\to_\\beta & (\\lambda z.x[x := \\lambda x.x]z)x \\\\\n",
    "    & \\equiv & (\\lambda z.(\\lambda x.x)z)x \\\\\n",
    "    & \\to_\\beta & (\\lambda z.x[x := z])x \\\\\n",
    "    & \\equiv & (\\lambda z.z)x \\\\\n",
    "    & \\to_\\beta & z[z := x] \\\\\n",
    "    & \\equiv & x\n",
    "\\end{eqnarray*}"
   ]
  },
  {
   "cell_type": "markdown",
   "id": "02871cb3",
   "metadata": {},
   "source": [
    "Sljedeca zanimljiva funkcija prihvata dva argumenta, a stalno vraca prvi:"
   ]
  },
  {
   "cell_type": "markdown",
   "id": "ae077cdc",
   "metadata": {},
   "source": [
    "![Alt text](./images/sl4.png)"
   ]
  },
  {
   "cell_type": "markdown",
   "id": "98d8b23f",
   "metadata": {},
   "source": [
    "$ K = \\lambda a b.a$\n",
    "\n",
    "Njen zapis u pajtonu je:"
   ]
  },
  {
   "cell_type": "code",
   "execution_count": 2,
   "id": "5765f04b",
   "metadata": {},
   "outputs": [],
   "source": [
    "K = lambda a: (lambda b: a)\n",
    "\n",
    "#def K(a):\n",
    "#    return lambda b: a"
   ]
  },
  {
   "cell_type": "code",
   "execution_count": 7,
   "id": "e15bad00",
   "metadata": {},
   "outputs": [
    {
     "data": {
      "text/plain": [
       "<function __main__.<lambda>(a)>"
      ]
     },
     "execution_count": 7,
     "metadata": {},
     "output_type": "execute_result"
    }
   ],
   "source": [
    "K(I)(M)"
   ]
  },
  {
   "cell_type": "code",
   "execution_count": 18,
   "id": "fc1edfd7",
   "metadata": {},
   "outputs": [
    {
     "data": {
      "text/plain": [
       "<function __main__.<lambda>(a)>"
      ]
     },
     "execution_count": 18,
     "metadata": {},
     "output_type": "execute_result"
    }
   ],
   "source": [
    "K(K)(M)"
   ]
  },
  {
   "cell_type": "code",
   "execution_count": 20,
   "id": "322ef898",
   "metadata": {},
   "outputs": [
    {
     "data": {
      "text/plain": [
       "<function __main__.<lambda>(a)>"
      ]
     },
     "execution_count": 20,
     "metadata": {},
     "output_type": "execute_result"
    }
   ],
   "source": [
    "K(K)(I)"
   ]
  },
  {
   "cell_type": "markdown",
   "id": "6f0f5e72",
   "metadata": {},
   "source": [
    "U Haskell-u se ova funkcija (kombinator) naziva **const**:"
   ]
  },
  {
   "cell_type": "markdown",
   "id": "9eca9262",
   "metadata": {},
   "source": [
    "![Alt text](./images/sl5.png)\n"
   ]
  },
  {
   "cell_type": "code",
   "execution_count": 21,
   "id": "9689fbd1",
   "metadata": {},
   "outputs": [
    {
     "data": {
      "text/plain": [
       "3"
      ]
     },
     "execution_count": 21,
     "metadata": {},
     "output_type": "execute_result"
    }
   ],
   "source": [
    "K(3)(I)"
   ]
  },
  {
   "cell_type": "code",
   "execution_count": 22,
   "id": "f918e125",
   "metadata": {},
   "outputs": [],
   "source": [
    "K5 = K(5)"
   ]
  },
  {
   "cell_type": "code",
   "execution_count": 23,
   "id": "d830b4a0",
   "metadata": {},
   "outputs": [
    {
     "data": {
      "text/plain": [
       "<function __main__.<lambda>.<locals>.<lambda>(b)>"
      ]
     },
     "execution_count": 23,
     "metadata": {},
     "output_type": "execute_result"
    }
   ],
   "source": [
    "K5"
   ]
  },
  {
   "cell_type": "code",
   "execution_count": 24,
   "id": "c4982663",
   "metadata": {},
   "outputs": [
    {
     "data": {
      "text/plain": [
       "5"
      ]
     },
     "execution_count": 24,
     "metadata": {},
     "output_type": "execute_result"
    }
   ],
   "source": [
    "K5(3)"
   ]
  },
  {
   "cell_type": "code",
   "execution_count": 25,
   "id": "7db373fd",
   "metadata": {},
   "outputs": [
    {
     "data": {
      "text/plain": [
       "5"
      ]
     },
     "execution_count": 25,
     "metadata": {},
     "output_type": "execute_result"
    }
   ],
   "source": [
    "K5(12)"
   ]
  },
  {
   "cell_type": "markdown",
   "id": "ada87ac9",
   "metadata": {},
   "source": [
    "Vidimo da parcijalnom primjenom funkcije na jedan argument, ona postaje **konstantna funkcija** koja ce uvijek vracati vrijednost tog prvog argumenta."
   ]
  },
  {
   "cell_type": "markdown",
   "id": "a8572c81",
   "metadata": {},
   "source": [
    "**Pr.1.**\n",
    "\n",
    "**Lambda racun**\n",
    "\n",
    "$ K M I = M $\n",
    "\n",
    "\n",
    "**Pajton**\n",
    "\n",
    "```python\n",
    "K(M)(I) == M\n",
    "```\n",
    "**Pr.2.**\n",
    "\n",
    "**Lambda racun**\n",
    "\n",
    "$ K I M = I $\n",
    "\n",
    "**Pajton**\n",
    "\n",
    "```python\n",
    "K(I)(M) == I\n",
    "```"
   ]
  },
  {
   "cell_type": "markdown",
   "id": "b177dba4",
   "metadata": {},
   "source": [
    "**Pr.3.**\n",
    "\n",
    "**Lambda racun**\n",
    "\n",
    "$ K I x = I $\n",
    "\n",
    "**Pajton**\n",
    "\n",
    "```python\n",
    "K(I)(x) == I\n",
    "```\n",
    "\n",
    "**Pr.4.**\n",
    "\n",
    "**Lambda racun**\n",
    "\n",
    "$ K I x y = I y = y $\n",
    "\n",
    "$ K I x y = y $\n",
    "\n",
    "**Pajton**\n",
    "\n",
    "```python\n",
    "K(I)(x)(y) == I(y) == y\n",
    "```\n",
    "\n",
    "```python\n",
    "K(I)(x)(y) == y\n",
    "```"
   ]
  },
  {
   "cell_type": "code",
   "execution_count": 8,
   "id": "b0b4c4c4",
   "metadata": {},
   "outputs": [
    {
     "data": {
      "text/plain": [
       "4"
      ]
     },
     "execution_count": 8,
     "metadata": {},
     "output_type": "execute_result"
    }
   ],
   "source": [
    "K(I)(2)(4)"
   ]
  },
  {
   "cell_type": "markdown",
   "id": "5a092c68",
   "metadata": {},
   "source": [
    "Ovako smo dobili i funkciju koja prihvata dva argumenta, a vraca drugi. $ K I = \\lambda a b.b$."
   ]
  },
  {
   "cell_type": "markdown",
   "id": "60ff0a3d",
   "metadata": {},
   "source": [
    "![Alt text](./images/sl6.png)"
   ]
  },
  {
   "cell_type": "code",
   "execution_count": 9,
   "id": "fd1b0a8e",
   "metadata": {},
   "outputs": [],
   "source": [
    "KI = lambda a: (lambda b: b)\n",
    "\n",
    "#def KI(a):\n",
    "#    return lambda b: b"
   ]
  },
  {
   "cell_type": "code",
   "execution_count": 10,
   "id": "54f40888",
   "metadata": {},
   "outputs": [
    {
     "data": {
      "text/plain": [
       "4"
      ]
     },
     "execution_count": 10,
     "metadata": {},
     "output_type": "execute_result"
    }
   ],
   "source": [
    "KI(2)(4)"
   ]
  },
  {
   "cell_type": "code",
   "execution_count": 11,
   "id": "77af17da",
   "metadata": {},
   "outputs": [
    {
     "data": {
      "text/plain": [
       "<function __main__.<lambda>(a)>"
      ]
     },
     "execution_count": 11,
     "metadata": {},
     "output_type": "execute_result"
    }
   ],
   "source": [
    "KI(M)(KI)"
   ]
  },
  {
   "cell_type": "markdown",
   "id": "8f44581f",
   "metadata": {},
   "source": [
    "**Pr.1.**\n",
    "\n",
    "**Lambda racun**\n",
    "\n",
    "$ K I M K = K $\n",
    "\n",
    "**Pajton**\n",
    "\n",
    "```python\n",
    "KI(M)(K) == K\n",
    "```\n",
    "\n",
    "**Pr.2.**\n",
    "\n",
    "**Lambda racun**\n",
    "\n",
    "$ K I K M = M $\n",
    "\n",
    "**Pajton**\n",
    "\n",
    "```python\n",
    "KI(K)(M) == M\n",
    "```"
   ]
  },
  {
   "cell_type": "markdown",
   "id": "fef6a749",
   "metadata": {},
   "source": [
    "Do sad se namece pitanje zasto se sve ove funkcije takodje nazivaju nazivima ptica. \n",
    "\n",
    "Prvobitni nazivi su bili na njemackom, posto se *Schonfinkel* prvi bavio slicnim sistemom funkcija. Njegov rad je nastavio poznati matematicar *Haskell Curry* koji je i postavio temelje lambda racunu. On je uglavnom zadrzao *Schonfinkel*-ove oznake, mada je dodao i neke svoje, sto doprinosi zabuni oko naziva. \n",
    "\n",
    "![Alt text](./images/sl7.png)\n",
    "\n",
    "U popularnoj knjizi o lambda racunu *To Mock a Mockingbird* je autor *Raymond Smullyan* pridruzio oznakama funkcija (kombinatora) nazive ptica zbog lakseg pamcenja naziva. To je takodje bilo i u cast *Haskell-a Curry-ja* jer je on bio poznat po svojoj ljubavi prema posmatranju ptica.\n",
    "\n",
    "![Alt text](./images/sl8.png)"
   ]
  },
  {
   "cell_type": "markdown",
   "id": "03ad28c6",
   "metadata": {},
   "source": [
    "Navedimo ukratko istoriju lambda racuna i naucnike koji su doprinjeli njegovom razvoju:\n",
    "\n",
    "- 1889. Peano - Formal Notation for Functions; Peano Arithmetic (Peanovi brojevi)\n",
    "- 1891. Frege - Axiomatic Logic; Function Notation; Functions as Graphs; Currying; (Kvantifikatorska logika)\n",
    "- 1910. Russell - Principia Mathematica; Russell's Paradox; Function notation\n",
    "- 1920. Schonfinkel - Combinatory Logic; Combinators; Currying\n",
    "- 1925. von Neumann - Functional System of Set Theory (overlapped with Combinatory Logic)\n",
    "- 1926. Curry - Combinatory Logic (Again); Combinators; many contributions\n",
    "- 1927. Curry - discovers Schonfinkel: \"This paper anticipates much of what I have done\"\n",
    "- 1931. Godel - Incompleteness Theorems; Ending the Search for Sufficient Axioms; ($\\gamma funkcije$)\n",
    "- 1932. Church - $\\lambda$-Calculus- An Effective Model of Computation\n",
    "- 1931-1936 Kleene and Rosser - Inconsistency of Specialized $\\lambda$-Calculus; Consistency of Pure $\\lambda$ Calculus\n",
    "- 1936. Church - Solves the (Hilbert's) Decision Problem - via the $\\lambda$ Calculus\n",
    "- 1936. Turing - Solves the (Hilbert's) Decision Problem - via the Turing Machine; Establishes the Church-Turing Thesis: $\\lambda$ Calculus $\\equiv$ Turing Machine; \n",
    "- 1936-1938 Turing - obtains PhD under Church; Publishes 1st Fixed-Point Combinator\n"
   ]
  },
  {
   "cell_type": "markdown",
   "id": "bda13983",
   "metadata": {},
   "source": [
    "![Alt text](./images/formalizacija.png)"
   ]
  },
  {
   "cell_type": "markdown",
   "id": "a5f47323",
   "metadata": {},
   "source": [
    "Sta su dakle kombinatori? To su $\\lambda-funkcije$ koje nemaju slobodnih varijabli. *Slobodne varijable* su one koje se u lambda izrazu javljaju u tijelu lambda izraza, a ne u apstrakciji. Primjeri:"
   ]
  },
  {
   "cell_type": "markdown",
   "id": "af71a5bd",
   "metadata": {},
   "source": [
    "![Alt text](./images/kombinatori.png)"
   ]
  },
  {
   "cell_type": "markdown",
   "id": "c8f4648e",
   "metadata": {},
   "source": [
    "Naredni interesantan kombinator je funckija koja prihvata funkciju f i dva argumenta, i onda poziva tu funkciju f prosljedjujuci joj ta dva argumenta u obrnutom redoslijedu:  $ C = \\lambda f a b.fba$."
   ]
  },
  {
   "cell_type": "markdown",
   "id": "4ca1bf9f",
   "metadata": {},
   "source": [
    "![Alt text](./images/sl9.png)"
   ]
  },
  {
   "cell_type": "code",
   "execution_count": null,
   "id": "602835bd",
   "metadata": {},
   "outputs": [],
   "source": [
    "**Pr.1.**\n",
    "\n",
    "**Lambda racun**\n",
    "\n",
    "$ C K I M = K M I = M $\n",
    "\n",
    "**Pajton**\n",
    "\n",
    "```python\n",
    "C(K)(I)(M) == K(M)(I) == M\n",
    "```\n",
    "\n",
    "**Pr.2.**\n",
    "\n",
    "**Lambda racun**\n",
    "\n",
    "$ K I K M = M $\n",
    "\n",
    "**Pajton**\n",
    "\n",
    "```python\n",
    "KI(K)(M) == M\n",
    "```"
   ]
  },
  {
   "cell_type": "code",
   "execution_count": null,
   "id": "213e1056",
   "metadata": {},
   "outputs": [],
   "source": []
  },
  {
   "cell_type": "code",
   "execution_count": null,
   "id": "6224b3d6",
   "metadata": {},
   "outputs": [],
   "source": []
  }
 ],
 "metadata": {
  "kernelspec": {
   "display_name": "Python 3 (ipykernel)",
   "language": "python",
   "name": "python3"
  },
  "language_info": {
   "codemirror_mode": {
    "name": "ipython",
    "version": 3
   },
   "file_extension": ".py",
   "mimetype": "text/x-python",
   "name": "python",
   "nbconvert_exporter": "python",
   "pygments_lexer": "ipython3",
   "version": "3.9.12"
  }
 },
 "nbformat": 4,
 "nbformat_minor": 5
}
